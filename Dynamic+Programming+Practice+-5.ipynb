{
 "cells": [
  {
   "cell_type": "markdown",
   "metadata": {},
   "source": [
    "# The Coin Change Problem from Hackerrank\n",
    "\n",
    "You have m types of coins available in infinite quantities where the value of each coin is given in the array \n",
    "C = [c0,c1,..,cm-1]. Can you determine the number of ways of making change for n units using the given types of coins? For example, if m = 4, and C = [8,3,1,2], we can make change for n = 3 units in three ways: {1,1,1}, {1,2} and {3}.\n",
    "\n",
    "Given n, m, and C, print the number of ways to make change for n units using any number of coins having the values given in C.\n",
    "\n",
    "Input Format:\n",
    "\n",
    "The first line contains two space-separated integers describing the respective values of n and m. \n",
    "The second line contains m space-separated integers describing the respective values of c0,c1,...,cm-1(the list of distinct coins available in infinite amounts).\n",
    "\n",
    "Output Format:\n",
    "\n",
    "Print a long integer denoting the number of ways we can get a sum of n from the given infinite supply of m types of coins.\n",
    "\n",
    "\n"
   ]
  },
  {
   "cell_type": "code",
   "execution_count": null,
   "metadata": {
    "collapsed": true
   },
   "outputs": [],
   "source": [
    "import sys\n",
    "n, m = input().strip().split(' ')\n",
    "n, m = [int(n), int(m)]\n",
    "c = list(map(int, input().strip().split(' ')))\n",
    "table = [[0 for y in range(m)] for y in range(n+1)]\n",
    "#table[i][j] denotes number of ways to get i using coins c0,c1...,cj\n",
    "for j in range(m):\n",
    "    table[0][j] = 1 # There is only one way to get 0 using coins we have. \n",
    "\n",
    "for i in range(1,n+1):\n",
    "    for j in range(0,m):\n",
    "        if j - 1 >= 0:\n",
    "            x_excludej = table[i][j-1] # Number of ways to get i using c0, c1,..,cj-1\n",
    "        else:\n",
    "            x_excludej = 0 # There is no way to get i from 0 coins. \n",
    "        if i - c[j] >= 0:\n",
    "            x_includej = table[i-c[j]][j] # Number of ways to get i using c0,c1..,cj\n",
    "        else:\n",
    "            x_includej = 0 # If the value of j+1th coin (cj) exceeds the current i, we cannot add cj to the list. \n",
    "        table[i][j] = x_excludej + x_includej \n",
    "print(table[n][m-1]) # Number of ways to use m coins (c0,...,cm-1) to get i=n. "
   ]
  },
  {
   "cell_type": "markdown",
   "metadata": {},
   "source": [
    "# Fair Cut from Hackerrank\n",
    "\n",
    "Li and Lu have n integers a1,a2,...,an that they want to divide fairly between the two of them. They decide that if Li gets integers with indices I={i1,i2,...,ik} (which implies that Lu gets integers with indices J={1,...,n}\\I),then the measure of unfairness of this division is:\n",
    "        \n",
    "                        f(I) = sum(|ai-aj|), for all i in I & j in J\n",
    "\n",
    "Find the minimum measure of unfairness that can be obtained with some division of the set of integers where Li gets exactly k integers.\n",
    "\n",
    "Input Format: First line denotes the respective values of n and k. \n",
    "The second line denotes n integers a1,a2,...,an."
   ]
  },
  {
   "cell_type": "code",
   "execution_count": null,
   "metadata": {
    "collapsed": true
   },
   "outputs": [],
   "source": [
    "import sys\n",
    "[n,k] = [int(x) for x in sys.stdin.readline().split()]\n",
    "x = [int(y) for y in sys.stdin.readline().split()]\n",
    "x = sorted(x)\n",
    "dp = [[float('inf') for i in range(0,n+1)] for j in range(0,n+1)]\n",
    "dp[0][0]=0\n",
    "for i in range(n):\n",
    "    for j in range(0,i+1):\n",
    "        if j >k or i-j>n-k:\n",
    "            continue\n",
    "        # if number of elements in Li and Lu exceeds required elements, just skip the current loop. \n",
    "        Li = dp[i][j] + x[i]*(i-j) - x[i]*(n-k-(i-j))\n",
    "        # When adding x[i] to Li, x[i] needs to be subtracted by all elements in Lu. Since x is in ascending order, \n",
    "        # we should add x[i]*(i-j),where i-j is the current number of elements in Lu. At the same time, x[i] needs to be\n",
    "        # subtracted by all future elements in Lu as well. Since the future elements in Lu are greater than \n",
    "        # x[i], we will need to add -x[i]*(n-k-{i-j})\n",
    "        Lu = dp[i][j] + x[i]*(j) - x[i]*(k-j)\n",
    "        # Same reason applies to the case of adding a[]\n",
    "        if dp[i+1][j]> Lu:\n",
    "            dp[i+1][j] = Lu\n",
    "       \n",
    "        if dp[i+1][j+1] > Li:\n",
    "            dp[i+1][j+1] = Li\n",
    "         # Since dp[i+1][j] and dp[i+1][j+1] can be also derived from dp[i][j-1] and dp[i+1][j+1],\n",
    "         # we use if statements to help to select minimum value of the current state.\n",
    "print(dp[n][k])"
   ]
  },
  {
   "cell_type": "markdown",
   "metadata": {},
   "source": [
    "Given two number n and an even number m, where n>=m. Find a sequence a of length n, such that a[i+1] >= 2*a[i], for i from [1,n-1]. Meanwhile, the maximum element in the sequence a cannot exceed m. How many of such sequences are there? "
   ]
  },
  {
   "cell_type": "code",
   "execution_count": 10,
   "metadata": {},
   "outputs": [
    {
     "data": {
      "text/plain": [
       "4"
      ]
     },
     "execution_count": 10,
     "metadata": {},
     "output_type": "execute_result"
    }
   ],
   "source": [
    "def Count(n,m):\n",
    "    C = [[0 for i in range (n+1)] for k in range(m+1)]\n",
    "    for row in range(m+1):\n",
    "        for column in range(n+1):\n",
    "            if row==0 or column==0 or column>row:\n",
    "                C[row][column] = 0\n",
    "            elif column == 1:\n",
    "                C[row][column] = row\n",
    "            else:\n",
    "                C[row][column] = C[int(row/2)][column-1] + C[row-1][column]\n",
    "    return C[m][n]\n",
    "Count(4,10)           \n",
    "    "
   ]
  },
  {
   "cell_type": "markdown",
   "metadata": {},
   "source": [
    "Given n dice each with m faces, numbered from 1 to m, find the number of ways to get sum X. X is the summation of values on each face when all the dice are thrown."
   ]
  },
  {
   "cell_type": "code",
   "execution_count": 36,
   "metadata": {},
   "outputs": [
    {
     "name": "stdout",
     "output_type": "stream",
     "text": [
      "2\n",
      "21\n"
     ]
    }
   ],
   "source": [
    "def Dice(n,m,x):\n",
    "    T = [ [0 for i in range(x+1)] for k in range(n+1) ] #T[n][x]\n",
    "    for j in range(1,m+1):\n",
    "        T[1][j] = 1\n",
    "    for N in range(2,n+1):\n",
    "        for X in range(1,x+1):\n",
    "            for d in range(1,min(m,X)+1):\n",
    "                if X>=N*m:\n",
    "                    T[N][X] = (X==N*m)\n",
    "                if N>=X:\n",
    "                    T[N][X] = (N==X)\n",
    "                else:\n",
    "                    T[N][X] += T[N-1][X-d]\n",
    "                    #print(T[N][X])\n",
    "    #return T\n",
    "    return T[n][x]\n",
    "\n",
    "print (Dice(2,2,3))\n",
    "print (Dice(3,6,8))\n"
   ]
  },
  {
   "cell_type": "markdown",
   "metadata": {
    "collapsed": true
   },
   "source": [
    "# Optimal Strategy for a game\n",
    "Consider a row of n coins of values v1 . . . vn, where n is even. We play a game against an opponent by alternating turns. In each turn, a player selects either the first or last coin from the row, removes it from the row permanently, and receives the value of the coin. Determine the maximum possible amount of money we can definitely win if we move first."
   ]
  },
  {
   "cell_type": "code",
   "execution_count": 7,
   "metadata": {},
   "outputs": [
    {
     "name": "stdout",
     "output_type": "stream",
     "text": [
      "22\n",
      "42\n"
     ]
    }
   ],
   "source": [
    "def optimal(v,n):\n",
    "    max_ij = [[0 for i in range(n)] for j in range(n)]\n",
    "    for i in range(n):\n",
    "        max_ij[i][i] = v[i]\n",
    "        if i<n-1:\n",
    "            max_ij[i][i+1] = max(v[i],v[i+1])\n",
    "            \n",
    "    for i in range(n-3,-1,-1):\n",
    "        for j in range(i+2,n):\n",
    "            part1 = v[i] + min(max_ij[i+2][j],max_ij[i+1][j-1])\n",
    "            part2 = v[j] + min(max_ij[i][j-2],max_ij[i+1][j-1])\n",
    "            max_ij[i][j] = max(part1,part2)\n",
    "    #print(max_ij)\n",
    "    return max_ij[0][n-1]\n",
    "\n",
    "print(optimal([8, 15, 3, 7],4))\n",
    "print(optimal([20, 30, 2, 2, 2, 10],6))         \n",
    "     "
   ]
  },
  {
   "cell_type": "markdown",
   "metadata": {},
   "source": [
    "Given a number n, count minimum steps to minimize it to 1 according to the following criteria:\n",
    "\n",
    "If n is divisible by 2 then we may reduce n to n/2.\n",
    "If n is divisible by 3 then you may reduce n to n/3.\n",
    "Decrement n by 1."
   ]
  },
  {
   "cell_type": "code",
   "execution_count": 2,
   "metadata": {},
   "outputs": [
    {
     "data": {
      "text/plain": [
       "7"
      ]
     },
     "execution_count": 2,
     "metadata": {},
     "output_type": "execute_result"
    }
   ],
   "source": [
    "def f(n,history):\n",
    "    if n==1:\n",
    "        return 0\n",
    "    if history[n]>-1:\n",
    "        return history[n]\n",
    "    r = f(n-1,history)+1\n",
    "    if n%3==0:\n",
    "        r = min(r,f(int(n/3),history)+1)\n",
    "    if n%2==0:\n",
    "        r = min(r,f(int(n/2),history)+1)\n",
    "    history[n]=r\n",
    "    return history[n]\n",
    "\n",
    "h = [-1 for i in range(101)]\n",
    "n = 100\n",
    "f(100,h)\n",
    "    "
   ]
  },
  {
   "cell_type": "markdown",
   "metadata": {},
   "source": [
    "# Maximum sum of a path in a Right Number Triangle\n",
    "Given a right triangle of numbers, find the largest of the sum of numbers that appear on the paths starting from the top towards the base, so that on each path the next number is located directly below or below-and-one-place-to-the-right."
   ]
  },
  {
   "cell_type": "code",
   "execution_count": 2,
   "metadata": {},
   "outputs": [
    {
     "name": "stdout",
     "output_type": "stream",
     "text": [
      "9\n",
      "10\n"
     ]
    }
   ],
   "source": [
    "def sum_triangle(triangle,rows,columns):\n",
    "    for i in range(rows-2,-1,-1):\n",
    "        for j in range(0,i+1):\n",
    "            triangle[i][j] = triangle[i][j] + max(triangle[i+1][j],triangle[i+1][j+1])\n",
    "    return triangle[0][0]\n",
    "T = [[1],[1,2],[4,1,2],[2,3,1,1]]\n",
    "print(sum_triangle(T,4,4))\n",
    "T = [[2],[4,1],[1,2,7]]\n",
    "print(sum_triangle(T,3,3))"
   ]
  },
  {
   "cell_type": "markdown",
   "metadata": {
    "collapsed": true
   },
   "source": [
    "Modified Fibonacci sequence\n",
    "https://www.hackerrank.com/challenges/fibonacci-modified/problem"
   ]
  },
  {
   "cell_type": "code",
   "execution_count": null,
   "metadata": {
    "collapsed": true
   },
   "outputs": [],
   "source": [
    "import sys\n",
    "[t1,t2,n] = [int(x) for x in sys.stdin.readline().split()]\n",
    "Fibarray = [t1,t2]\n",
    "def fib(n):\n",
    "    if n<=len(Fibarray):\n",
    "        return Fibarray[n-1]\n",
    "    else:\n",
    "        nex = pow(fib(n-1),2) + fib(n-2)\n",
    "        Fibarray.append(nex)\n",
    "        return nex\n",
    "    \n",
    "print(fib(n))"
   ]
  },
  {
   "cell_type": "code",
   "execution_count": 6,
   "metadata": {
    "collapsed": true
   },
   "outputs": [],
   "source": [
    "# given value equals to n, and m coins. #Min of coins needed for value\n",
    "def change(n,coins):\n",
    "    if n==0:\n",
    "        return 0\n",
    "    best = -1\n",
    "    for coin in coins:\n",
    "        if coin<= n:\n",
    "            next_try = change(n-coin, coins)\n",
    "        if best<0 or next_try+1<best:\n",
    "            best = next_try + 1\n",
    "            \n",
    "    return best"
   ]
  },
  {
   "cell_type": "markdown",
   "metadata": {},
   "source": [
    "## Candies\n",
    "-https://www.hackerrank.com/challenges/candies/problem"
   ]
  },
  {
   "cell_type": "code",
   "execution_count": null,
   "metadata": {
    "collapsed": true
   },
   "outputs": [],
   "source": [
    "import sys\n",
    "n = int(input().strip())\n",
    "rating = []\n",
    "for i in range(n):\n",
    "    x = int(input().strip())\n",
    "    rating.append(x)\n",
    "# Store Children's scores\n",
    "\n",
    "lefttorightcandies = [0]*len(rating) # Adding candies from left to right\n",
    "lefttorightcandies[0] = 1\n",
    "for k in range(1,n):\n",
    "    if rating[k]>rating[k-1]:\n",
    "        lefttorightcandies[k] = lefttorightcandies[k-1]+1\n",
    "    else:\n",
    "        lefttorightcandies[k] = 1\n",
    "righttoleftcandies = [0]*n # Adding candies from right to left\n",
    "righttoleftcandies[-1] = 1\n",
    "summ = 0\n",
    "for k in range(n-2,-1,-1):\n",
    "    if rating[k] > rating[k+1]:\n",
    "        righttoleftcandies[k] = righttoleftcandies[k+1]+1\n",
    "    else:\n",
    "        righttoleftcandies[k]=1\n",
    "    summ += max(righttoleftcandies[k],lefttorightcandies[k])\n",
    "\n",
    "print(summ+max(righttoleftcandies[-1],lefttorightcandies[-1]))\n",
    "\n",
    "        "
   ]
  },
  {
   "cell_type": "markdown",
   "metadata": {
    "collapsed": true
   },
   "source": [
    "## Sam and substrings\n",
    "-https://www.hackerrank.com/challenges/sam-and-substrings/problem\n"
   ]
  },
  {
   "cell_type": "code",
   "execution_count": null,
   "metadata": {
    "collapsed": true
   },
   "outputs": [],
   "source": [
    "import sys\n",
    "nums_string = sys.stdin.readline()\n",
    "digit_list = [int(y) for y in nums_string]\n",
    "sum_string = [0 for i in range(len(nums_string))]\n",
    "T = digit_list[0]\n",
    "sum_string[0] = digit_list[0]\n",
    "Mod = pow(10,9)+7\n",
    "for i in range(len(sum_string)):\n",
    "    \n",
    "    if i>0:\n",
    "        sum_string[i] = 10*(sum_string[i-1]%Mod) + (digit_list[i]%Mod)*(i+1)\n",
    "        \n",
    "        T = T%Mod + (sum_string[i]%Mod)\n",
    "        if T>=Mod:\n",
    "            T = T%Mod\n",
    "    \n",
    "        \n",
    "print(T)"
   ]
  },
  {
   "cell_type": "markdown",
   "metadata": {},
   "source": [
    "## Mr-K Marsh\n",
    "-https://www.hackerrank.com/challenges/mr-k-marsh/problem\n"
   ]
  },
  {
   "cell_type": "code",
   "execution_count": null,
   "metadata": {
    "collapsed": true
   },
   "outputs": [],
   "source": [
    "import sys\n",
    "[m,n] = [int(x) for x in sys.stdin.readline().split()]\n",
    "R = [ [-1 for i in range(n)] for j in range(n) ] \n",
    "best = 0\n",
    "A = [0 for i in range(n)]\n",
    "for i in range(m):\n",
    "    #A = [ ord(x) for x in sys.stdin.readline()] \n",
    "    x = sys.stdin.readline()\n",
    "    for index in range(n):\n",
    "        if x[index] =='.':\n",
    "            A[index] = 1\n",
    "        else:\n",
    "            A[index] = 0\n",
    "    for a in range(n):\n",
    "        visible = True\n",
    "        for b in range(a+1,n):\n",
    "            if A[b] == 0:\n",
    "                visible = False\n",
    "            if A[a]==1 and A[b] == 1:\n",
    "                if R[a][b] >=0:\n",
    "                    R[a][b] += 1\n",
    "                if visible and R[a][b]<0:\n",
    "                    R[a][b] = 0\n",
    "                if visible and R[a][b]>0:\n",
    "                    area = R[a][b]*2 + (b-a)*2\n",
    "                    if area>best:\n",
    "                        best = area\n",
    "                \n",
    "            else:\n",
    "                R[a][b] = -1\n",
    "                \n",
    "                \n",
    "if best==0:\n",
    "    print('impossible')\n",
    "else:\n",
    "    print(best)\n"
   ]
  },
  {
   "cell_type": "markdown",
   "metadata": {},
   "source": [
    "# Grid Walking\n"
   ]
  },
  {
   "cell_type": "code",
   "execution_count": null,
   "metadata": {
    "collapsed": true
   },
   "outputs": [],
   "source": [
    "def gridWalking(m, x, D):\n",
    "    if m ==0:\n",
    "        return 1\n",
    "    summ = 0\n",
    "    for i in range(len(D)):\n",
    "        if x[i] < D[i]:\n",
    "            x[i] += 1\n",
    "            summ += gridWalking(m-1,x,D)\n",
    "            x[i] -= 1\n",
    "        if x[i]>1:\n",
    "            x[i] -= 1\n",
    "            summ += gridWalking(m-1,x,D)\n",
    "            x[i] += 1\n",
    "    return summ % (pow(10,9)+7)"
   ]
  },
  {
   "cell_type": "markdown",
   "metadata": {
    "collapsed": true
   },
   "source": [
    "# Queen's Attack 2\n",
    "-https://www.hackerrank.com/challenges/queens-attack-2/problem\n",
    "- implementation\n"
   ]
  },
  {
   "cell_type": "code",
   "execution_count": null,
   "metadata": {
    "collapsed": true
   },
   "outputs": [],
   "source": [
    "import sys\n",
    "\n",
    "\n",
    "n,k = input().strip().split(' ')\n",
    "n,k = [int(n),int(k)]\n",
    "rQueen,cQueen = input().strip().split(' ')\n",
    "rQueen,cQueen = [int(rQueen),int(cQueen)] \n",
    "       #classf         classe          classd         classc            classb\n",
    "tot = (rQueen-1)+(n-rQueen)+(cQueen-1)+(n-cQueen)+min(cQueen-1,rQueen-1)\n",
    "      #classa                             class rO>rQ & cO<cQ                 class cQueen<cOb rQueen< rOb\n",
    "to = min(n-rQueen,n-cQueen)+min(cQueen-1,n-rQueen)+min(n-cQueen,rQueen-1)\n",
    "\n",
    "if k ==0:\n",
    "    print(tot+to)\n",
    "else:\n",
    "    classa= [0]\n",
    "    classb = [0]\n",
    "    classc = [0]\n",
    "    classd = [0]\n",
    "    classe = [0]\n",
    "    classf = [0]\n",
    "    classul = [0]\n",
    "    classlr = [0]\n",
    "    \n",
    "    for a0 in range(k):\n",
    "        rObstacle,cObstacle = input().strip().split(' ')\n",
    "        rObstacle,cObstacle = [int(rObstacle),int(cObstacle)]\n",
    "        \n",
    "        if (rObstacle-rQueen==cObstacle-cQueen) & (rObstacle>rQueen) &(cObstacle>cQueen): #upper right\n",
    "            if (min(n-rQueen,n-cQueen)-min(rObstacle-rQueen,cObstacle-cQueen)+1)>classa[0]:\n",
    "                classa[0] = min(n-rQueen,n-cQueen)-min(rObstacle-rQueen,cObstacle-cQueen)+1\n",
    "       \n",
    "        elif (rObstacle-rQueen==cObstacle-cQueen) & (rObstacle<rQueen) & (cObstacle<cQueen): #low left\n",
    "            if (min(cQueen-1,rQueen-1)-min(rQueen-rObstacle,cQueen-cObstacle)+1) > classb[0]:\n",
    "                classb[0]= min(cQueen-1,rQueen-1)-min(rQueen-rObstacle,cQueen-cObstacle)+1\n",
    "        \n",
    "        elif  (-rObstacle+rQueen==cObstacle-cQueen) & (rObstacle>rQueen) & (cObstacle<cQueen): #upper left\n",
    "            if (min(cQueen-1,n-rQueen)-min(rObstacle-rQueen, cQueen-cObstacle)+1)>classul[0]:\n",
    "                classul[0] =min(cQueen-1,n-rQueen)-min(rObstacle-rQueen, cQueen-cObstacle)+1\n",
    "        \n",
    "        elif (-rObstacle+rQueen==cObstacle-cQueen) & (rQueen>rObstacle) & (cObstacle>cQueen): #low right\n",
    "            if (min(n-cQueen,rQueen-1)-min(rQueen-rObstacle,cObstacle-cQueen)+1)>classlr[0]:\n",
    "                classlr[0] = min(n-cQueen,rQueen-1)-min(rQueen-rObstacle,cObstacle-cQueen)+1\n",
    "        \n",
    "        elif (rObstacle==rQueen) & (cObstacle>cQueen):\n",
    "            if (n-cObstacle +1) > classc[0]:\n",
    "                classc[0]= n-cObstacle +1\n",
    "        elif (rObstacle==rQueen) & (cQueen>cObstacle): #min(cQueen-1,8) left right\n",
    "            if cObstacle > classd[0]:\n",
    "                classd[0]= cObstacle\n",
    "        \n",
    "        elif (cObstacle==cQueen) & (rObstacle>rQueen):    # min(n-rQueen,8) above\n",
    "            if (n-rObstacle+1) > classe[0]:\n",
    "                classe[0]=n-rObstacle+1\n",
    "        \n",
    "        elif (cObstacle==cQueen) & (rQueen>rObstacle): #min(rQueen-1,8) below\n",
    "             \n",
    "            if rObstacle > classf[0]:\n",
    "               \n",
    "                classf[0] = rObstacle\n",
    "    \n",
    "    \n",
    " \n",
    "            \n",
    "    decrements = classa[0] + classb[0]+classc[0]+ classd[0] +classe[0] + classf[0] + classul[0]+classlr[0]\n",
    "\n",
    "    #print(classa)\n",
    "    print(tot+to-decrements)\n",
    "    #print([classa,classb,classc,classd,classe,classf,classul,classlr])"
   ]
  },
  {
   "cell_type": "markdown",
   "metadata": {},
   "source": [
    "# Climbing the LeaderBoard\n",
    "-https://www.hackerrank.com/challenges/climbing-the-leaderboard/submissions/code/43281532\n",
    "- Implementation"
   ]
  },
  {
   "cell_type": "code",
   "execution_count": null,
   "metadata": {
    "collapsed": true
   },
   "outputs": [],
   "source": [
    "import sys\n",
    "n = int(input().strip())\n",
    "scores = [int(scores_temp) for scores_temp in input().strip().split(' ')]\n",
    "m = int(input().strip())\n",
    "alice = [int(alice_temp) for alice_temp in input().strip().split(' ')]\n",
    "#print(alice)\n",
    "scoreslist = [scores[0]]\n",
    "\n",
    "for i in range(1,n):\n",
    "    if scoreslist[-1]!= scores[i]:\n",
    "        scoreslist.append(scores[i])\n",
    "\n",
    "index = len(scoreslist)-1\n",
    "\n",
    "for x in alice:\n",
    "    \n",
    "    while x > scoreslist[index] and index>-1:\n",
    "        index = index -1\n",
    "        \n",
    "    if scoreslist[index]==x:\n",
    "        print(index+1)\n",
    "    else:\n",
    "        print(index+2)\n",
    "    "
   ]
  },
  {
   "cell_type": "markdown",
   "metadata": {},
   "source": [
    "# Save The Prisoner\n",
    "-https://www.hackerrank.com/challenges/save-the-prisoner/problem\n",
    "- Implementation"
   ]
  },
  {
   "cell_type": "code",
   "execution_count": null,
   "metadata": {
    "collapsed": true
   },
   "outputs": [],
   "source": [
    "import sys\n",
    "T = sys.stdin.readline().strip()\n",
    "for i in range(int(T)):\n",
    "    [Idnums,Sweetnum,S] = [int(x) for x in sys.stdin.readline().split()]\n",
    "    if (S-1+Sweetnum)%Idnums == 0:\n",
    "        print(Idnums)\n",
    "    else:\n",
    "        print((S-1+Sweetnum)%Idnums)"
   ]
  },
  {
   "cell_type": "markdown",
   "metadata": {},
   "source": [
    "# Non-divisible subset\n",
    "-https://www.hackerrank.com/challenges/non-divisible-subset/submissions/code/49874793"
   ]
  },
  {
   "cell_type": "code",
   "execution_count": null,
   "metadata": {
    "collapsed": true
   },
   "outputs": [],
   "source": [
    "import sys\n",
    "[number,k]=[int(x) for x in sys.stdin.readline().split()]\n",
    "numlist = [int(y)%k for y in sys.stdin.readline().split()]\n",
    "c = 0\n",
    "if k%2==0:\n",
    "    for i in range(1,int(k/2)):\n",
    "        s=min(numlist.count(i),numlist.count(k-i))\n",
    "        c = c+s\n",
    "    if numlist.count(0) >0:\n",
    "        c= c+numlist.count(0)-1\n",
    "    if numlist.count(k/2) >0:\n",
    "        c = c+ numlist.count(k/2) -1\n",
    "else:\n",
    "    for j in range(1,int((k+1)/2)):\n",
    "        s=min(numlist.count(j),numlist.count(k-j))\n",
    "        c = c+s\n",
    "    if numlist.count(0) >0:\n",
    "        c= c+numlist.count(0)-1\n",
    "    \n",
    "  \n",
    "    \n",
    "    \n",
    "print(number-c)"
   ]
  },
  {
   "cell_type": "markdown",
   "metadata": {},
   "source": [
    "# Matrix Layer Roataion\n",
    "-https://www.hackerrank.com/challenges/matrix-rotation-algo/problem\n"
   ]
  },
  {
   "cell_type": "code",
   "execution_count": null,
   "metadata": {
    "collapsed": true
   },
   "outputs": [],
   "source": [
    "import sys\n",
    "import copy\n",
    "[rows,columns,num_rotation] = [int(x) for x in sys.stdin.readline().split()]\n",
    "def rotation(matrix,layer,num):\n",
    "           \n",
    "            for i in range(num):\n",
    "           \n",
    "                up_left = matrix[layer][layer]\n",
    "                down_left = matrix[rows-1-layer][layer]\n",
    "                down_right = matrix[rows-1-layer][columns-1-layer]\n",
    "                up_right = matrix[layer][columns-1-layer]\n",
    "                for row in range(rows-1-layer-1,layer,-1):  \n",
    "                    matrix[row+1][layer] = matrix[row][layer]\n",
    "                for column in range (columns-1-layer-1,layer,-1): \n",
    "                    matrix[rows-1-layer][column+1] = matrix[rows-1-layer][column]\n",
    "                #most right, down to up\n",
    "                for row in range(layer+1,rows-layer-1):\n",
    "                    matrix[row-1][columns-1-layer] = matrix[row][columns-1-layer]\n",
    "\n",
    "                #up, right to left\n",
    "                for column in range(layer+1,columns-layer-1):\n",
    "                    matrix[layer][column-1] = matrix[layer][column]\n",
    "\n",
    "                # Four corners\n",
    "                matrix[layer+1][layer] = up_left\n",
    "                matrix[rows-1-layer][layer+1] = down_left\n",
    "                matrix[rows-layer-2][columns-1-layer] = down_right\n",
    "                matrix[layer][columns-2-layer] =up_right\n",
    "                \n",
    "            return matrix\n",
    "def rotation2(matrix,layer,num):\n",
    "            for i in range(num):\n",
    "                up_left = matrix[layer][layer]\n",
    "                down_left = matrix[rows-1-layer][layer]\n",
    "                down_right = matrix[rows-1-layer][columns-1-layer]\n",
    "                up_right = matrix[layer][columns-1-layer]\n",
    "                for row in range(layer+1,rows-layer-1): \n",
    "                    matrix[row-1][layer] = matrix[row][layer]\n",
    "                for column in range(layer+1,columns-layer-1): \n",
    "                    matrix[rows-1-layer][column-1] = matrix[rows-1-layer][column]\n",
    "                #most right, down to up\n",
    "                for row in range(rows-layer-2,layer,-1):\n",
    "                    matrix[row+1][columns-1-layer] = matrix[row][columns-1-layer]\n",
    "                #up, right to left\n",
    "                for column in range(columns-layer-2,layer,-1):\n",
    "                    matrix[layer][column+1] = matrix[layer][column]\n",
    "                # Four corners\n",
    "                matrix[layer][layer+1] = up_left\n",
    "                matrix[rows-1-layer-1][layer] = down_left\n",
    "                matrix[rows-layer-1][columns-1-layer-1] = down_right\n",
    "                matrix[layer+1][columns-1-layer] =up_right\n",
    "               \n",
    "            return matrix\n",
    "num_layer = min(rows//2,columns//2)\n",
    "matrixx = [[int(y) for y in sys.stdin.readline().split()] for m in range(rows)]\n",
    "#matrixx = rotation2(matrixx,0,1)\n",
    "for i in range(num_layer):\n",
    "    L = (rows-2*i)*(columns-2*i) - (rows-2*i-2)*(columns-2*i-2)\n",
    "    r = num_rotation%L\n",
    "    if L-r < r:\n",
    "        matrixx = rotation2(matrixx,i,L-r)\n",
    "    else:\n",
    "        matrixx = rotation(matrixx,i,r)\n",
    "        \n",
    "    #matrixx = m\n",
    "    \n",
    "for i in range(len(matrixx)):\n",
    "    print (' '.join(map(str, matrixx[i])))\n",
    "    \n"
   ]
  },
  {
   "cell_type": "markdown",
   "metadata": {},
   "source": [
    "https://www.hackerrank.com/challenges/abbr/submissions/code/86806459"
   ]
  },
  {
   "cell_type": "code",
   "execution_count": null,
   "metadata": {
    "collapsed": true
   },
   "outputs": [],
   "source": [
    "\n",
    "import math\n",
    "import os\n",
    "import random\n",
    "import re\n",
    "import sys\n",
    "\n",
    "# Complete the abbreviation function below.\n",
    "def abbreviation(a, b):\n",
    "    La,Lb = len(a),len(b)\n",
    "    #La, Lb= len(a) - 1, len(b) - 1\n",
    "    A = [[0 for j in range(Lb+1)] for i in range(La+1)]\n",
    "    A[0][0] = 1\n",
    "    for i in range(1,La):\n",
    "        if a[i-1] == a[i-1].lower():\n",
    "            A[i][0] = 1\n",
    "        else:\n",
    "            break\n",
    "                \n",
    "    for j in range(1,Lb+1):\n",
    "        for i in range(j,La+1):\n",
    "            if a[i-1] == b[j-1]: #or b[j]==a[i].capitalize():\n",
    "                A[i][j] =A[i-1][j-1] #max(A[i-1][j-1],A[i-1][j])\n",
    "            elif a[i-1] != b[j-1] and b[j-1]==a[i-1].capitalize():\n",
    "                A[i][j] = max(A[i-1][j-1],A[i-1][j])\n",
    "            elif a[i-1]!=b[j-1] and a[i-1] != a[i-1].lower():\n",
    "                A[i][j] = 0\n",
    "            else:\n",
    "                A[i][j] = A[i-1][j]\n",
    "    print(A)            \n",
    "    if A[La][Lb] == 1:\n",
    "        return 'YES'\n",
    "    else:\n",
    "        return 'NO'\n",
    "    \n",
    "\n",
    "if __name__ == '__main__':\n",
    "    fptr = open(os.environ['OUTPUT_PATH'], 'w')\n",
    "\n",
    "    q = int(input())\n",
    "\n",
    "    for q_itr in range(q):\n",
    "        a = input()\n",
    "\n",
    "        b = input()\n",
    "\n",
    "        result = abbreviation(a, b)\n",
    "\n",
    "        fptr.write(result + '\\n')\n",
    "\n",
    "    fptr.close()\n"
   ]
  },
  {
   "cell_type": "markdown",
   "metadata": {},
   "source": [
    "https://www.hackerrank.com/challenges/ctci-recursive-staircase/submissions/code/86807506"
   ]
  },
  {
   "cell_type": "code",
   "execution_count": null,
   "metadata": {
    "collapsed": true
   },
   "outputs": [],
   "source": [
    "import math\n",
    "import os\n",
    "import random\n",
    "import re\n",
    "import sys\n",
    "\n",
    "# Complete the stepPerms function below.\n",
    "a = [1,2,4]\n",
    "def stepPerms(n):\n",
    "    if n<=len(a):\n",
    "        return a[n-1]\n",
    "    else:\n",
    "        s = stepPerms(n-1) + stepPerms(n-2) + stepPerms(n-3)\n",
    "        a.append(s)\n",
    "        \n",
    "    return a[n-1]\n",
    "   \n",
    "\n",
    "if __name__ == '__main__':\n",
    "    fptr = open(os.environ['OUTPUT_PATH'], 'w')\n",
    "\n",
    "    s = int(input())\n",
    "\n",
    "    for s_itr in range(s):\n",
    "        n = int(input())\n",
    "\n",
    "        res = stepPerms(n)\n",
    "\n",
    "        fptr.write(str(res) + '\\n')\n",
    "\n",
    "    fptr.close()\n"
   ]
  },
  {
   "cell_type": "code",
   "execution_count": null,
   "metadata": {
    "collapsed": true
   },
   "outputs": [],
   "source": []
  }
 ],
 "metadata": {
  "kernelspec": {
   "display_name": "Python 3",
   "language": "python",
   "name": "python3"
  },
  "language_info": {
   "codemirror_mode": {
    "name": "ipython",
    "version": 3
   },
   "file_extension": ".py",
   "mimetype": "text/x-python",
   "name": "python",
   "nbconvert_exporter": "python",
   "pygments_lexer": "ipython3",
   "version": "3.6.1"
  }
 },
 "nbformat": 4,
 "nbformat_minor": 2
}
