{
 "cells": [
  {
   "cell_type": "markdown",
   "metadata": {},
   "source": [
    "# Balanced Brackets\n",
    "A bracket is considered to be any one of the following characters: (, ), {, }, [, or ].\n",
    "\n",
    "Two brackets are considered to be a matched pair if the an opening bracket (i.e., (, [, or {) occurs to the left of a closing bracket (i.e., ), ], or }) of the exact same type. There are three types of matched pairs of brackets: [], {}, and ().\n",
    "\n",
    "A matching pair of brackets is not balanced if the set of brackets it encloses are not matched. For example, {[(])} is not balanced because the contents in between { and } are not balanced. The pair of square brackets encloses a single, unbalanced opening bracket, (, and the pair of parentheses encloses a single, unbalanced closing square bracket, ].\n",
    "\n",
    "By this logic, we say a sequence of brackets is considered to be balanced if the following conditions are met:\n",
    "\n",
    "It contains no unmatched brackets.\n",
    "The subset of brackets enclosed within the confines of a matched pair of brackets is also a matched pair of brackets.\n",
    "Given  strings of brackets, determine whether each sequence of brackets is balanced. If a string is balanced, print YES on a new line; otherwise, print NO on a new line.\n",
    "\n",
    "Here is a link of the problem in Hackerrank https://www.hackerrank.com/challenges/balanced-brackets"
   ]
  },
  {
   "cell_type": "code",
   "execution_count": null,
   "metadata": {
    "collapsed": true
   },
   "outputs": [],
   "source": [
    "import sys\n",
    "table = { ')': '(', ']':'[', '}':'{','(':')','[':']','{':'}' }\n",
    "\n",
    "def isBalanced(s):\n",
    "    stack = []\n",
    "    for x in s:\n",
    "        if (stack) and (table[x] == stack[-1]): \n",
    "            stack.pop()\n",
    "            #If we discover a balanced bracket, then we pop it out from the stack. Ohterwise,\n",
    "            #we keep adding brackets. \n",
    "        else:\n",
    "            stack.append(x)\n",
    "    if stack:\n",
    "        return 'NO'\n",
    "    else:\n",
    "        return 'YES'\n",
    "    \n",
    "    \n",
    "\n",
    "if __name__ == \"__main__\":\n",
    "    t = int(input().strip())\n",
    "    for a0 in range(t):\n",
    "        s = input().strip()\n",
    "        \n",
    "        result = isBalanced(s)\n",
    "        print(result)\n"
   ]
  },
  {
   "cell_type": "markdown",
   "metadata": {},
   "source": [
    "# Maximum Element\n",
    "You have an empty sequence, and you will be given N queries. Each query is one of these three types:\n",
    "\n",
    "1 x  -Push the element x into the stack.\n",
    "2    -Delete the element present at the top of the stack.\n",
    "3    -Print the maximum element in the stack.\n",
    "\n",
    "Input Format:\n",
    "The first line of input contains an integer, . The next  lines each contain an above mentioned query. (It is guaranteed that each query is valid.)\n",
    "\n",
    "Output Format:\n",
    "For each type 3 query, print the maximum element in the stack in a new line. \n",
    "\n",
    "Here is the link of the problem in Hackerrank: https://www.hackerrank.com/challenges/maximum-element"
   ]
  },
  {
   "cell_type": "code",
   "execution_count": null,
   "metadata": {
    "collapsed": true
   },
   "outputs": [],
   "source": [
    "import sys\n",
    "N =  int(input().strip())\n",
    "command = [int(y) for y in sys.stdin.readline().split()]\n",
    "# \"N\" is the number of queries, and \"command\" stands for the query that is just input. \n",
    "stack = [command[1]]\n",
    "trackstack = [command[1]]\n",
    "# \"trackstack\" keeps tracking the maximum element of the current state.  \n",
    "for i in range(N-1):\n",
    "    command = [int(y) for y in sys.stdin.readline().split()]\n",
    "   \n",
    "    if command[0]==3:\n",
    "        print(trackstack[-1])\n",
    "        # \"trackstack[-1]\" is the maximum of the current state. \n",
    "    if command[0]==1:\n",
    "        stack.append(command[1])\n",
    "        if len(trackstack)==0:\n",
    "            trackstack.append(command[1])\n",
    "        else:\n",
    "            if trackstack[-1]>=command[1]:\n",
    "                trackstack.append(trackstack[-1])\n",
    "                # When the number appended is smaller than the maximum value of the previous state,\n",
    "                # we add the previous maximum value again to \"trackstack\". We append the same value again\n",
    "                # in order to assure \"trackstack\" and \"stack\" are in the same size. \n",
    "                # Therefore, we can pop out element in the \"stack\" and \"trackstack\" simultaneously.\n",
    "            if trackstack[-1]< command[1]:\n",
    "                trackstack.append(command[1])\n",
    "            \n",
    "    if command[0]== 2:\n",
    "        stack.pop()\n",
    "        trackstack.pop()"
   ]
  },
  {
   "cell_type": "markdown",
   "metadata": {},
   "source": [
    "# Game of Two Stacks\n",
    "\n",
    "Alexa has two stacks of non-negative integers, stack A = [a0,a1,...,an-1] and stack B= [b0,b1,...,bn-1] where index  denotes the top of the stack. Alexa challenges Nick to play the following game:\n",
    "\n",
    "In each move, Nick can remove one integer from the top of either stack A or stack B.\n",
    "Nick keeps a running sum of the integers he removes from the two stacks.\n",
    "Nick is disqualified from the game if, at any point, his running sum becomes greater than some integer x given at the beginning of the game.\n",
    "Nick's final score is the total number of integers he has removed from the two stacks.\n",
    "Given A,B,x and for g games, find the maximum possible score Nick can achieve (i.e., the maximum number of integers he can remove without being disqualified) during each game and print it on a new line.\n",
    "\n",
    "Input Formats:\n",
    "The first line contains three seperate integer which denote length of stack A, length of stack B and integer x. \n",
    "\n",
    "Output Formats:\n",
    "Print maximum number of integers Nick can remove before being disqualified. \n",
    "\n",
    "Here is a link of the problem https://www.hackerrank.com/challenges/game-of-two-stacks "
   ]
  },
  {
   "cell_type": "code",
   "execution_count": null,
   "metadata": {
    "collapsed": true
   },
   "outputs": [],
   "source": [
    "import sys\n",
    "\n",
    "\n",
    "g = int(input().strip())\n",
    "count = 0\n",
    "for a0 in range(g):\n",
    "    n,m,x = input().strip().split(' ')\n",
    "    n,m,x = [int(n),int(m),int(x)]\n",
    "    a = list(map(int, input().strip().split(' ')))\n",
    "    b = list(map(int, input().strip().split(' ')))\n",
    "    # Instead of removing elements from two stacks, we only consider moving elements from stack A until the sum reaches\n",
    "    # to x. \n",
    "    i = 0\n",
    "    summ = 0\n",
    "    while (i<n) and (a[i]+summ <= x): \n",
    "        summ += a[i]\n",
    "        i += 1\n",
    "        \n",
    "    count = i\n",
    "    j = 0\n",
    "    \n",
    "    while (j<m): \n",
    "        summ += b[j] #Keep adding elements from stack B. \n",
    "        j += 1\n",
    "        while (summ > x) and (i>0):# If the sum becomes larger than x, then keep poping out added elements from A until\n",
    "            i -= 1                  # sum <= x.\n",
    "            summ -= a[i]\n",
    "        if (summ<=x) & (i+j > count):\n",
    "            \n",
    "            count = i + j # Only redefine \"count\", when sum becomes less than or equal to x, and the \n",
    "                          #  number of removals is more optimal than the previous one. \n",
    "    print(count)\n",
    "# At the end, we are able to go over every possible removals from stack A and stack B, and the printed result would be \n",
    "# the most optimal number in all possible cases. "
   ]
  },
  {
   "cell_type": "markdown",
   "metadata": {},
   "source": [
    "# Heap Sort"
   ]
  },
  {
   "cell_type": "code",
   "execution_count": 50,
   "metadata": {},
   "outputs": [
    {
     "name": "stdout",
     "output_type": "stream",
     "text": [
      "[3, 5, 8, 1, 4, 6, 2]\n",
      "[8, 5, 6, 1, 4, 2, 3]\n",
      "[6, 5, 2, 1, 4, 8, 3]\n",
      "[5, 4, 2, 1, 6, 8, 3]\n",
      "[4, 1, 2, 5, 6, 8, 3]\n",
      "[2, 1, 4, 5, 6, 8, 3]\n",
      "[1, 2, 4, 5, 6, 8, 3]\n"
     ]
    }
   ],
   "source": [
    "def Heapsort(arr,n,maxx_index):\n",
    "        t = maxx_index\n",
    "        if 2*maxx_index+1 < n and arr[maxx_index]<arr[2*maxx_index+1]:\n",
    "            t = 2*maxx_index+1\n",
    "        if 2*maxx_index+2 < n and arr[2*maxx_index+2] > arr[t]:\n",
    "            t = 2*maxx_index + 2\n",
    "        if maxx_index!=t:\n",
    "            arr[maxx_index],arr[t] = arr[t],arr[maxx_index]\n",
    "            Heapsort(arr,n,t)\n",
    "\n",
    "x = [1,3,2,5,4,6,8]\n",
    "for i in range(7,-1,-1):\n",
    "        Heapsort(x, 7, i)\n",
    "print(x)\n",
    "for i in range(6, 0, -1):\n",
    "        x[i], x[0] = x[0], x[i]   # swap\n",
    "        Heapsort(x, i, 0) #Heap reduced tree\n",
    "        print(x)\n",
    " \n",
    "#for i in range(6,0,-1):\n",
    "#    x[i],x[0] = x[0],x[i]\n",
    "    \n",
    "#print(x)       \n",
    "        "
   ]
  },
  {
   "cell_type": "markdown",
   "metadata": {
    "collapsed": true
   },
   "source": [
    "# Find the k smallest element. \n",
    "Given an array a, find k smallest element by using Heap data structure."
   ]
  },
  {
   "cell_type": "code",
   "execution_count": 60,
   "metadata": {},
   "outputs": [
    {
     "name": "stdout",
     "output_type": "stream",
     "text": [
      "1\n",
      "2\n",
      "3\n",
      "2\n",
      "4\n",
      "5\n",
      "2\n",
      "4\n",
      "100\n"
     ]
    }
   ],
   "source": [
    "class Heap(object):\n",
    "    def __init__(self, arr):\n",
    "        self.arry = arr\n",
    "    def getleft(self,tree,index):\n",
    "        left = tree[2*index + 1]\n",
    "        return left\n",
    "    def getright(self,tree,index):\n",
    "        right = tree[2*index +2]\n",
    "        return right\n",
    "    def Heapfy(self, previous_tree,min_index):\n",
    "        n = len(previous_tree)\n",
    "        t = min_index\n",
    "        if 2*min_index+1<n and self.getleft(previous_tree,min_index)<previous_tree[min_index]:\n",
    "            t = 2*min_index + 1\n",
    "        if 2*min_index+2<n and self.getright(previous_tree,min_index)<previous_tree[t]:\n",
    "            t = 2*min_index + 2\n",
    "        if t!=min_index:\n",
    "            previous_tree[t],previous_tree[min_index]=previous_tree[min_index],previous_tree[t]\n",
    "            self.Heapfy(previous_tree,t)\n",
    "        self.arry = previous_tree\n",
    "    def getMin(self):\n",
    "        return self.arry[0]\n",
    "    def delete(self):\n",
    "        self.arry[0] = self.arry[-1]\n",
    "        del self.arry[-1]\n",
    "        self.Heapfy(self.arry,0)\n",
    "    def __repr__(self):\n",
    "        return self.arry\n",
    "        \n",
    "    \n",
    "# Test Code\n",
    "arr = [1,4,2,3,8,10,5]\n",
    "s = Heap(arr)\n",
    "k = 3\n",
    "for i in range(len(arr),-1,-1):\n",
    "    s.Heapfy(arr,i)\n",
    "for j in range(k):\n",
    "    print(s.getMin())\n",
    "    s.delete()\n",
    "    \n",
    "arr = [100,2,4,6,5,96,20]\n",
    "s = Heap(arr)\n",
    "k = 3\n",
    "for i in range(len(arr),-1,-1):\n",
    "    s.Heapfy(arr,i)\n",
    "for j in range(k):\n",
    "    print(s.getMin())\n",
    "    s.delete()\n",
    "\n",
    "arr = [100,2,4]\n",
    "s = Heap(arr)\n",
    "k = 3\n",
    "for i in range(len(arr),-1,-1):\n",
    "    s.Heapfy(arr,i)\n",
    "for j in range(k):\n",
    "    print(s.getMin())\n",
    "    s.delete()\n",
    "    \n",
    "\n",
    "\n",
    "    \n",
    "\n",
    "    \n",
    "        \n",
    "        "
   ]
  }
 ],
 "metadata": {
  "kernelspec": {
   "display_name": "Python 3",
   "language": "python",
   "name": "python3"
  },
  "language_info": {
   "codemirror_mode": {
    "name": "ipython",
    "version": 3
   },
   "file_extension": ".py",
   "mimetype": "text/x-python",
   "name": "python",
   "nbconvert_exporter": "python",
   "pygments_lexer": "ipython3",
   "version": "3.6.1"
  }
 },
 "nbformat": 4,
 "nbformat_minor": 2
}
