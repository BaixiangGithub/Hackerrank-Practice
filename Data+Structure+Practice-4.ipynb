{
 "cells": [
  {
   "cell_type": "markdown",
   "metadata": {},
   "source": [
    "# Balanced Brackets\n",
    "A bracket is considered to be any one of the following characters: (, ), {, }, [, or ].\n",
    "\n",
    "Two brackets are considered to be a matched pair if the an opening bracket (i.e., (, [, or {) occurs to the left of a closing bracket (i.e., ), ], or }) of the exact same type. There are three types of matched pairs of brackets: [], {}, and ().\n",
    "\n",
    "A matching pair of brackets is not balanced if the set of brackets it encloses are not matched. For example, {[(])} is not balanced because the contents in between { and } are not balanced. The pair of square brackets encloses a single, unbalanced opening bracket, (, and the pair of parentheses encloses a single, unbalanced closing square bracket, ].\n",
    "\n",
    "By this logic, we say a sequence of brackets is considered to be balanced if the following conditions are met:\n",
    "\n",
    "It contains no unmatched brackets.\n",
    "The subset of brackets enclosed within the confines of a matched pair of brackets is also a matched pair of brackets.\n",
    "Given  strings of brackets, determine whether each sequence of brackets is balanced. If a string is balanced, print YES on a new line; otherwise, print NO on a new line.\n",
    "\n",
    "Here is a link of the problem in Hackerrank https://www.hackerrank.com/challenges/balanced-brackets"
   ]
  },
  {
   "cell_type": "code",
   "execution_count": null,
   "metadata": {
    "collapsed": true
   },
   "outputs": [],
   "source": [
    "import sys\n",
    "table = { ')': '(', ']':'[', '}':'{','(':')','[':']','{':'}' }\n",
    "\n",
    "def isBalanced(s):\n",
    "    stack = []\n",
    "    for x in s:\n",
    "        if (stack) and (table[x] == stack[-1]): \n",
    "            stack.pop()\n",
    "            #If we discover a balanced bracket, then we pop it out from the stack. Ohterwise,\n",
    "            #we keep adding brackets. \n",
    "        else:\n",
    "            stack.append(x)\n",
    "    if stack:\n",
    "        return 'NO'\n",
    "    else:\n",
    "        return 'YES'\n",
    "    \n",
    "    \n",
    "\n",
    "if __name__ == \"__main__\":\n",
    "    t = int(input().strip())\n",
    "    for a0 in range(t):\n",
    "        s = input().strip()\n",
    "        \n",
    "        result = isBalanced(s)\n",
    "        print(result)\n"
   ]
  },
  {
   "cell_type": "code",
   "execution_count": null,
   "metadata": {
    "collapsed": true
   },
   "outputs": [],
   "source": []
  },
  {
   "cell_type": "markdown",
   "metadata": {},
   "source": [
    "# Maximum Element\n",
    "You have an empty sequence, and you will be given N queries. Each query is one of these three types:\n",
    "\n",
    "1 x  -Push the element x into the stack.\n",
    "2    -Delete the element present at the top of the stack.\n",
    "3    -Print the maximum element in the stack.\n",
    "\n",
    "Input Format:\n",
    "The first line of input contains an integer, . The next  lines each contain an above mentioned query. (It is guaranteed that each query is valid.)\n",
    "\n",
    "Output Format:\n",
    "For each type 3 query, print the maximum element in the stack in a new line. \n",
    "\n",
    "Here is the link of the problem in Hackerrank: https://www.hackerrank.com/challenges/maximum-element"
   ]
  },
  {
   "cell_type": "code",
   "execution_count": null,
   "metadata": {
    "collapsed": true
   },
   "outputs": [],
   "source": [
    "import sys\n",
    "N =  int(input().strip())\n",
    "command = [int(y) for y in sys.stdin.readline().split()]\n",
    "# \"N\" is the number of queries, and \"command\" stands for the query that is just input. \n",
    "stack = [command[1]]\n",
    "trackstack = [command[1]]\n",
    "# \"trackstack\" keeps tracking the maximum element of the current state.  \n",
    "for i in range(N-1):\n",
    "    command = [int(y) for y in sys.stdin.readline().split()]\n",
    "   \n",
    "    if command[0]==3:\n",
    "        print(trackstack[-1])\n",
    "        # \"trackstack[-1]\" is the maximum of the current state. \n",
    "    if command[0]==1:\n",
    "        stack.append(command[1])\n",
    "        if len(trackstack)==0:\n",
    "            trackstack.append(command[1])\n",
    "        else: # Be very careful about if or else here. 'if' may operate even after the first one being operated. \n",
    "            if trackstack[-1]>=command[1]:\n",
    "                trackstack.append(trackstack[-1])\n",
    "                # When the number appended is smaller than the maximum value of the previous state,\n",
    "                # we add the previous maximum value again to \"trackstack\". We append the same value again\n",
    "                # in order to assure \"trackstack\" and \"stack\" are in the same size. \n",
    "                # Therefore, we can pop out element in the \"stack\" and \"trackstack\" simultaneously.\n",
    "            if trackstack[-1]< command[1]:\n",
    "                trackstack.append(command[1])\n",
    "            \n",
    "    if command[0]== 2:\n",
    "        stack.pop()\n",
    "        trackstack.pop()"
   ]
  },
  {
   "cell_type": "markdown",
   "metadata": {},
   "source": [
    "# Game of Two Stacks\n",
    "\n",
    "Alexa has two stacks of non-negative integers, stack A = [a0,a1,...,an-1] and stack B= [b0,b1,...,bn-1] where index  denotes the top of the stack. Alexa challenges Nick to play the following game:\n",
    "\n",
    "In each move, Nick can remove one integer from the top of either stack A or stack B.\n",
    "Nick keeps a running sum of the integers he removes from the two stacks.\n",
    "Nick is disqualified from the game if, at any point, his running sum becomes greater than some integer x given at the beginning of the game.\n",
    "Nick's final score is the total number of integers he has removed from the two stacks.\n",
    "Given A,B,x and for g games, find the maximum possible score Nick can achieve (i.e., the maximum number of integers he can remove without being disqualified) during each game and print it on a new line.\n",
    "\n",
    "Input Formats:\n",
    "The first line contains three seperate integers which denote length of stack A, length of stack B and integer x. \n",
    "\n",
    "Output Formats:\n",
    "Print maximum number of integers Nick can remove before being disqualified. \n",
    "\n",
    "Here is a link of the problem https://www.hackerrank.com/challenges/game-of-two-stacks "
   ]
  },
  {
   "cell_type": "code",
   "execution_count": null,
   "metadata": {
    "collapsed": true
   },
   "outputs": [],
   "source": [
    "import sys\n",
    "\n",
    "\n",
    "g = int(input().strip())\n",
    "count = 0\n",
    "for a0 in range(g):\n",
    "    n,m,x = input().strip().split(' ')\n",
    "    n,m,x = [int(n),int(m),int(x)]\n",
    "    a = list(map(int, input().strip().split(' ')))\n",
    "    b = list(map(int, input().strip().split(' ')))\n",
    "    # Instead of removing elements from two stacks, we only consider moving elements from stack A until the sum reaches\n",
    "    # to x. \n",
    "    i = 0\n",
    "    summ = 0\n",
    "    while (i<n) and (a[i]+summ <= x): \n",
    "        summ += a[i]\n",
    "        i += 1\n",
    "        \n",
    "    count = i\n",
    "    j = 0\n",
    "    \n",
    "    while (j<m): \n",
    "        summ += b[j] #Keep adding elements from stack B. \n",
    "        j += 1\n",
    "        while (summ > x) and (i>0):# If the sum becomes larger than x, then keep poping out added elements from A until\n",
    "            i -= 1                  # sum <= x.\n",
    "            summ -= a[i]\n",
    "        if (summ<=x) & (i+j > count):\n",
    "            \n",
    "            count = i + j # Only redefine \"count\", when sum becomes less than or equal to x, and the \n",
    "                          #  number of removals is more optimal than the previous one. \n",
    "    print(count)\n",
    "# At the end, we are able to go over every possible removals from stack A and stack B, and the printed result would be \n",
    "# the most optimal number in all possible cases. "
   ]
  },
  {
   "cell_type": "markdown",
   "metadata": {},
   "source": [
    "# Heap Sort"
   ]
  },
  {
   "cell_type": "code",
   "execution_count": 2,
   "metadata": {},
   "outputs": [
    {
     "name": "stdout",
     "output_type": "stream",
     "text": [
      "[8, 5, 6, 3, 4, 1, 2]\n",
      "[6, 5, 2, 3, 4, 1, 8]\n",
      "[5, 4, 2, 3, 1, 6, 8]\n",
      "[4, 3, 2, 1, 5, 6, 8]\n",
      "[3, 1, 2, 4, 5, 6, 8]\n",
      "[2, 1, 3, 4, 5, 6, 8]\n",
      "[1, 2, 3, 4, 5, 6, 8]\n"
     ]
    }
   ],
   "source": [
    "def Heapsort(arr,n,maxx_index):\n",
    "        t = maxx_index\n",
    "        if 2*maxx_index+1 < n and arr[maxx_index]<arr[2*maxx_index+1]:\n",
    "            t = 2*maxx_index+1\n",
    "        if 2*maxx_index+2 < n and arr[2*maxx_index+2] > arr[t]:\n",
    "            t = 2*maxx_index + 2\n",
    "        if maxx_index!=t:\n",
    "            arr[maxx_index],arr[t] = arr[t],arr[maxx_index]\n",
    "            Heapsort(arr,n,t)\n",
    "\n",
    "x = [1,3,2,5,4,6,8]\n",
    "for i in range(6,-1,-1):\n",
    "        Heapsort(x, 7, i)\n",
    "print(x)\n",
    "for i in range(6, 0, -1):\n",
    "        x[i], x[0] = x[0], x[i]   # swap\n",
    "        Heapsort(x, i, 0) #Heap reduced tree\n",
    "        print(x)\n",
    " \n",
    "#for i in range(6,0,-1):\n",
    "#    x[i],x[0] = x[0],x[i]\n",
    "    \n",
    "#print(x)       \n",
    "        "
   ]
  },
  {
   "cell_type": "code",
   "execution_count": 7,
   "metadata": {},
   "outputs": [
    {
     "name": "stdout",
     "output_type": "stream",
     "text": [
      "[1, 2, 3, 4, 5, 6]\n"
     ]
    }
   ],
   "source": [
    "# Given a list, put it into a heap. Way to do that is to start with the last number in the list,until we reach its parent. \n",
    "#After that, we sort that parent. Then move to the next parent,and sort it. So on.. \n",
    "#In the given heap, look at the top node. Then,switch it with the last element, and run the heap again.\n",
    "\n",
    "def Heap(array,index,n):\n",
    "    idex = index\n",
    "    left_child = 2*index+1\n",
    "    right_child = 2*index+2\n",
    "    if left_child < n and array[idex]< array[left_child] :\n",
    "        index = left_child\n",
    "    if right_child< n and array[index]<array[right_child]:\n",
    "        index = right_child\n",
    "    if idex!=index:\n",
    "        array[idex],array[index] = array[index],array[idex]\n",
    "        Heap(array,index,n)\n",
    "array = [1,4,2,5,6,3]\n",
    "n = len(array)\n",
    "\n",
    "for i in range(n-1,-1,-1):\n",
    "    Heap(array,i,n)\n",
    "\n",
    "for m in range(n-1,0,-1):\n",
    "    array[0],array[m] = array[m],array[0] \n",
    "    Heap(array,0,m)\n",
    "\n",
    "print(array)   \n",
    "\n"
   ]
  },
  {
   "cell_type": "markdown",
   "metadata": {
    "collapsed": true
   },
   "source": [
    "# Find the k smallest element. \n",
    "Given an array a, find k smallest element by using Heap data structure."
   ]
  },
  {
   "cell_type": "code",
   "execution_count": 60,
   "metadata": {},
   "outputs": [
    {
     "name": "stdout",
     "output_type": "stream",
     "text": [
      "1\n",
      "2\n",
      "3\n",
      "2\n",
      "4\n",
      "5\n",
      "2\n",
      "4\n",
      "100\n"
     ]
    }
   ],
   "source": [
    "class Heap(object):\n",
    "    def __init__(self, arr):\n",
    "        self.arry = arr\n",
    "    def getleft(self,tree,index):\n",
    "        left = tree[2*index + 1]\n",
    "        return left\n",
    "    def getright(self,tree,index):\n",
    "        right = tree[2*index +2]\n",
    "        return right\n",
    "    def Heapfy(self, previous_tree,min_index):\n",
    "        n = len(previous_tree)\n",
    "        t = min_index\n",
    "        if 2*min_index+1<n and self.getleft(previous_tree,min_index)<previous_tree[min_index]:\n",
    "            t = 2*min_index + 1\n",
    "        if 2*min_index+2<n and self.getright(previous_tree,min_index)<previous_tree[t]:\n",
    "            t = 2*min_index + 2\n",
    "        if t!=min_index:\n",
    "            previous_tree[t],previous_tree[min_index]=previous_tree[min_index],previous_tree[t]\n",
    "            self.Heapfy(previous_tree,t)\n",
    "        self.arry = previous_tree\n",
    "    def getMin(self):\n",
    "        return self.arry[0]\n",
    "    def delete(self):\n",
    "        self.arry[0] = self.arry[-1]\n",
    "        del self.arry[-1]\n",
    "        self.Heapfy(self.arry,0)\n",
    "    def __repr__(self):\n",
    "        return self.arry\n",
    "        \n",
    "    \n",
    "# Test Code\n",
    "arr = [1,4,2,3,8,10,5]\n",
    "s = Heap(arr)\n",
    "k = 3\n",
    "for i in range(len(arr),-1,-1):\n",
    "    s.Heapfy(arr,i)\n",
    "for j in range(k):\n",
    "    print(s.getMin())\n",
    "    s.delete()\n",
    "    \n",
    "arr = [100,2,4,6,5,96,20]\n",
    "s = Heap(arr)\n",
    "k = 3\n",
    "for i in range(len(arr),-1,-1):\n",
    "    s.Heapfy(arr,i)\n",
    "for j in range(k):\n",
    "    print(s.getMin())\n",
    "    s.delete()\n",
    "\n",
    "arr = [100,2,4]\n",
    "s = Heap(arr)\n",
    "k = 3\n",
    "for i in range(len(arr),-1,-1):\n",
    "    s.Heapfy(arr,i)\n",
    "for j in range(k):\n",
    "    print(s.getMin())\n",
    "    s.delete()\n",
    "    \n",
    "# Heap: \n",
    "# functions include Remove, insertion, extractMax or extractMin. \n",
    "#When Remove, set the node to infinity, and then shift the node up until it reaches the root. Then use extractMax: Replace\n",
    "# node with a leaf, and then shift down. \n",
    "#Insertion, insert it at the end of the heap and then shift it up. \n",
    "#Heap construction, given an array, we keep shifting down the nodes from [n/2] to 1, which forms a heap. \n",
    "#Heap sort: Construct the heap as above, then extractMax. We do it for n-1 times.  Note, when extractMax, we already put \n",
    "# the root to the end of the heap ,which is its right position. \n",
    "# \n",
    "     \n",
    "\n",
    "\n",
    "    \n",
    "\n",
    "    \n",
    "        \n",
    "        "
   ]
  },
  {
   "cell_type": "markdown",
   "metadata": {},
   "source": [
    "# Simple Text Editor. \n",
    "Given a cycle of four operations (add, print, delete, undo). Implement the operation to a given list. "
   ]
  },
  {
   "cell_type": "code",
   "execution_count": null,
   "metadata": {
    "collapsed": true
   },
   "outputs": [],
   "source": [
    "import sys\n",
    "n = int(input().strip())\n",
    "operation = []\n",
    "for i in range(n):\n",
    "    operation.append(sys.stdin.readline().strip().split())\n",
    "    #print(operation)\n",
    "stack= []\n",
    "s = ''\n",
    "dic = {0:''}\n",
    "index = 0\n",
    "for k in range(n):\n",
    "    if operation[k][0] == '1':\n",
    "        s += operation[k][1]\n",
    "        index += 1\n",
    "        dic[index] = s\n",
    "    if operation[k][0] == '2':\n",
    "        t =int(operation[k][1])\n",
    "        m = len(s)\n",
    "        s = s[0:m-t] \n",
    "        index += 1\n",
    "        dic[index] = s\n",
    "    if operation[k][0] =='3':\n",
    "        d = int(operation[k][1])\n",
    "        print(s[d-1])\n",
    "    if operation[k][0] == '4':\n",
    "        s = dic[index-1]\n",
    "        index = index - 1 "
   ]
  },
  {
   "cell_type": "markdown",
   "metadata": {},
   "source": [
    "Cycle detect"
   ]
  },
  {
   "cell_type": "code",
   "execution_count": 1,
   "metadata": {
    "collapsed": true
   },
   "outputs": [],
   "source": [
    "class Graph:\n",
    "    def __init__(self,vertices):\n",
    "        self.V = vertices #Number of vertices\n",
    "        empty_list = [[] for i in range(self.V)]\n",
    "        nodes = [y for y in range(self.V)]\n",
    "        self.graph = dict(zip(nodes,empty_list))\n",
    "        \n",
    "    def add_Edge(self,u,v):\n",
    "        self.graph[u].append(v)\n",
    "        \n",
    "    def findparent(self,parent,i):\n",
    "        if parent[i] ==-1:\n",
    "            return i\n",
    "        else:\n",
    "            return self.findparent(parent,parent[i])\n",
    "        \n",
    "    def union(self,i,j,parent):\n",
    "        i_parent = self.findparent(parent,i)\n",
    "        j_parent = self.findparent(parent,j)\n",
    "        parent[i_parent] = j_parent\n",
    "        \n",
    "    def iscycle(self):\n",
    "        parent = [-1]*self.V\n",
    "        # -1 for all nodes.\n",
    "        for i in self.graph:\n",
    "            for j in self.graph[i]:\n",
    "                if self.findparent(parent,i) == self.findparent(parent,j):\n",
    "                    return True\n",
    "                else:\n",
    "                    self.union(i,j,parent)\n",
    "                     "
   ]
  },
  {
   "cell_type": "code",
   "execution_count": 2,
   "metadata": {},
   "outputs": [
    {
     "name": "stdout",
     "output_type": "stream",
     "text": [
      "Graph contains cycle\n"
     ]
    }
   ],
   "source": [
    "g = Graph(3)\n",
    "g.add_Edge(0, 1)\n",
    "g.add_Edge(1, 2)\n",
    "g.add_Edge(2, 0)\n",
    " \n",
    "if g.iscycle():\n",
    "    print(\"Graph contains cycle\")\n",
    "else :\n",
    "    print(\"Graph does not contain cycle\")"
   ]
  },
  {
   "cell_type": "code",
   "execution_count": 73,
   "metadata": {
    "collapsed": true
   },
   "outputs": [],
   "source": [
    "def Heapfy(i,size,arr):\n",
    "    curr_value= arr[i]\n",
    "    left_child = 2*i + 1\n",
    "    right_child = 2*i +2\n",
    "    next_position,curr_value = i,arr[i]\n",
    "    if left_child<size and arr[left_child]>curr_value:\n",
    "        next_position = left_child\n",
    "        curr_value = arr[left_child]\n",
    "    if right_child<size and arr[right_child]>curr_value:\n",
    "        next_position = right_child\n",
    "\n",
    "    if next_position != i:\n",
    "        \n",
    "        arr[next_position], arr[i] = arr[i], arr[next_position]\n",
    "        Heapfy(next_position,size,arr)\n",
    "    return arr\n",
    "         \n",
    "def shiftdown(arr,size,index):\n",
    "    right = 2*index + 2\n",
    "    left = 2*index +1\n",
    "    next_position,current_val = index,arr[index]\n",
    "    if left<size and arr[left]>arr[index]:\n",
    "        next_position = left\n",
    "        current_val = arr[next_position]   \n",
    "    if right<size and arr[right]>current_val:\n",
    "        next_position = right\n",
    "    if next_position!=index:\n",
    "        arr[next_position],arr[index] = arr[index],arr[next_position]\n",
    "        shiftdown(arr,size,next_position)    \n",
    "def ExtractMax(arr,size): \n",
    "    arr[0],arr[size-1] = arr[size-1],arr[0]\n",
    "  \n",
    "    size = size -1\n",
    "    shiftdown(arr,size,0)\n",
    "    \n",
    "def Heapsort(arr):\n",
    "    size = len(arr)\n",
    "    for i in range((size//2)-1,-1,-1):\n",
    "        Heapfy(i,size,arr)\n",
    "    n = size\n",
    "    for i in range(0,n-1):\n",
    "        ExtractMax(arr,size)\n",
    "        size = size-1\n",
    "       \n",
    "    return arr\n",
    "        \n",
    "    \n",
    "        \n",
    "        "
   ]
  },
  {
   "cell_type": "code",
   "execution_count": 74,
   "metadata": {},
   "outputs": [
    {
     "data": {
      "text/plain": [
       "[0, 1, 1, 2, 4, 4, 8, 9]"
      ]
     },
     "execution_count": 74,
     "metadata": {},
     "output_type": "execute_result"
    }
   ],
   "source": [
    "Heapsort([1,4,2,0,4,8,1,9])\n"
   ]
  },
  {
   "cell_type": "markdown",
   "metadata": {
    "collapsed": true
   },
   "source": [
    " Check whether the sets are disjoints. \n",
    " i and j are disjoint iff their parents are disjoint. \n",
    " Union:  Rank(i), height of the tree with root i. Union(i,j): union trees with root i and j. if Rank(i)<Rank(j), then, \n",
    " add tree of root i to the other one, and do not update rank. However, if Rank(i)=Rank(j), then Rank has to be\n",
    "updated after unioning trees. \n",
    " Path compression: compress the path from a given node to its node to the same level. \n",
    "\n",
    "Hash table. \n",
    " Hash function is crucial. It maps keys to corresponding intergers(almost). \n",
    " Application 1: Apply universal family. H = {h: U->{0,....,m-1}}, where m is the number of \n",
    " chains in your dictionary. Probability of collision must be smaller than 1/m, \n",
    " and indeed, the longest chain is O(1+\\alpha)m where \\alpha is the loading factor, which is \n",
    "n/m. Idealy, the loding factor should be between 0 to 1\n",
    "if n is unknown, we start we an initial size(not too large), then use rehash:\n",
    "Rehash(T):\n",
    "loading factor = n/m\n",
    "if loadFactor>0.9:\n",
    " Creat new table tnew of size 2*t\n",
    " choose hnew with cardinality of 2*t\n",
    " For each object O in T:\n",
    "     Insert O in Tnew using hnew\n",
    " T = tnew, h = hnew. \n",
    " Rehashing is rare. \n",
    " h = {((a*x + b)mod p)mod m }, p is over 10^L, where L is the number if interger x, m is the \n",
    " size of the table. \n",
    " \n",
    " Hash function for string\n",
    " PolyHash(S,p,x)\n",
    " hash = 0\n",
    " for i from |S|-1 down to 0:\n",
    "     hash = (hash*x + S[i])mod p\n",
    " return hash\n",
    " \n",
    " Hashing for string. Discovering a certain pattern in the string.\n",
    " We use PolyHash function. "
   ]
  },
  {
   "cell_type": "markdown",
   "metadata": {
    "collapsed": true
   },
   "source": [
    "# Sparse Array\n",
    "- https://www.hackerrank.com/challenges/sparse-arrays/problem\n"
   ]
  },
  {
   "cell_type": "code",
   "execution_count": null,
   "metadata": {
    "collapsed": true
   },
   "outputs": [],
   "source": [
    "import math\n",
    "import os\n",
    "import random\n",
    "import re\n",
    "import sys\n",
    "import collections\n",
    "\n",
    "# Complete the matchingStrings function below.\n",
    "\n",
    "\n",
    "values = collections.defaultdict(int)\n",
    "for _ in range(int(input())):\n",
    "    values[input()] += 1\n",
    "for _ in range(int(input())):\n",
    "    print(values[input()])"
   ]
  },
  {
   "cell_type": "markdown",
   "metadata": {},
   "source": [
    "## Array Manipulation\n",
    "-https://www.hackerrank.com/challenges/crush/submissions/code/82991984"
   ]
  },
  {
   "cell_type": "code",
   "execution_count": null,
   "metadata": {
    "collapsed": true
   },
   "outputs": [],
   "source": [
    "import math\n",
    "import os\n",
    "import random\n",
    "import re\n",
    "import sys\n",
    "\n",
    "# Complete the arrayManipulation function below.\n",
    "def arrayManipulation(n, queries): # n size of array\n",
    "    sequence = n*[0]\n",
    "    for i in range(len(queries)):\n",
    "        qurie =queries[i]\n",
    "        p,q = qurie[0]-1, qurie[1]-1 #p to q\n",
    "        summ = qurie[2]\n",
    "        # Instead of recording number at each position, we record the difference between the current position and previous position. \n",
    "        sequence[p] += summ\n",
    "        if q+1 < n:\n",
    "            sequence[q+1] -= summ\n",
    "    maxx = 0\n",
    "    m = 0\n",
    "    for idx in range(n):\n",
    "        m += sequence[idx]\n",
    "        if m > maxx:\n",
    "            maxx = m\n",
    "    return maxx\n",
    "        \n",
    "    \n",
    "    \n",
    "\n",
    "if __name__ == '__main__':\n",
    "    fptr = open(os.environ['OUTPUT_PATH'], 'w')\n",
    "\n",
    "    nm = input().split()\n",
    "\n",
    "    n = int(nm[0])\n",
    "\n",
    "    m = int(nm[1])\n",
    "\n",
    "    queries = []\n",
    "\n",
    "    for _ in range(m):\n",
    "        queries.append(list(map(int, input().rstrip().split())))\n",
    "\n",
    "    result = arrayManipulation(n, queries)\n",
    "\n",
    "    fptr.write(str(result) + '\\n')\n",
    "\n",
    "    fptr.close()\n"
   ]
  },
  {
   "cell_type": "markdown",
   "metadata": {},
   "source": [
    "# Reverse Linked List\n",
    "-https://www.hackerrank.com/challenges/reverse-a-linked-list/problem"
   ]
  },
  {
   "cell_type": "code",
   "execution_count": null,
   "metadata": {
    "collapsed": true
   },
   "outputs": [],
   "source": [
    "def reverse(head):\n",
    "    prev = None\n",
    "    nxt = head.next\n",
    "    curr = head\n",
    "    while curr:\n",
    "        nxt = curr.next\n",
    "        curr.next = prev\n",
    "        prev = curr\n",
    "        curr = nxt\n",
    "    head = prev\n",
    "    return head\n",
    "    \n",
    "        "
   ]
  },
  {
   "cell_type": "markdown",
   "metadata": {},
   "source": [
    "# Cycle Detection\n",
    "-https://www.hackerrank.com/challenges/detect-whether-a-linked-list-contains-a-cycle/problem"
   ]
  },
  {
   "cell_type": "code",
   "execution_count": null,
   "metadata": {
    "collapsed": true
   },
   "outputs": [],
   "source": [
    "bool has_cycle(SinglyLinkedListNode* head) {\n",
    "   if(head==NULL||head->next==NULL)\n",
    "       return head;\n",
    "   int index=0;\n",
    "   SinglyLinkedListNode* temp= head;\n",
    "   while(temp && index<1000){\n",
    "       index++;\n",
    "       temp=temp->next;\n",
    "       }\n",
    "   if(index==1000)\n",
    "       return 1;   \n",
    "   return 0; \n",
    "}\n"
   ]
  },
  {
   "cell_type": "markdown",
   "metadata": {},
   "source": [
    "# Reverse Doubly Linked List\n",
    "-https://www.hackerrank.com/challenges/reverse-a-doubly-linked-list/submissions/code/83111460"
   ]
  },
  {
   "cell_type": "code",
   "execution_count": null,
   "metadata": {
    "collapsed": true
   },
   "outputs": [],
   "source": [
    "def reverse(head):\n",
    "    pre = head.prev\n",
    "    nxt = head.next\n",
    "    curr = head\n",
    "    while curr != None:\n",
    "        pre = curr.prev\n",
    "        nxt = curr.next\n",
    "        curr.prev  = nxt\n",
    "        curr.next = pre\n",
    "        c = curr\n",
    "        curr = nxt\n",
    "    return c\n",
    "        "
   ]
  },
  {
   "cell_type": "markdown",
   "metadata": {},
   "source": [
    "# Postorder Traversal\n",
    "-https://www.hackerrank.com/challenges/tree-postorder-traversal/submissions/code/63162553"
   ]
  },
  {
   "cell_type": "code",
   "execution_count": null,
   "metadata": {
    "collapsed": true
   },
   "outputs": [],
   "source": [
    "def postOrder(root):\n",
    "    if root:\n",
    "        postOrder(root.left)\n",
    "        postOrder(root.right)\n",
    "        print root.data,"
   ]
  },
  {
   "cell_type": "markdown",
   "metadata": {
    "collapsed": true
   },
   "source": [
    "## Inorder Traversal\n",
    "https://www.hackerrank.com/challenges/tree-inorder-traversal/submissions/code/63162163"
   ]
  },
  {
   "cell_type": "code",
   "execution_count": null,
   "metadata": {
    "collapsed": true
   },
   "outputs": [],
   "source": [
    "def inOrder(root):\n",
    "    if root:\n",
    "        inOrder(root.left)\n",
    "        print root.data,\n",
    "        inOrder(root.right)"
   ]
  },
  {
   "cell_type": "markdown",
   "metadata": {},
   "source": [
    "# Height of Binary Tree\n",
    "-https://www.hackerrank.com/challenges/tree-height-of-a-binary-tree/problem"
   ]
  },
  {
   "cell_type": "code",
   "execution_count": null,
   "metadata": {
    "collapsed": true
   },
   "outputs": [],
   "source": [
    "def height(root):\n",
    "    if root:\n",
    "        return 1+max(height(root.right),height(root.left))\n",
    "    else:\n",
    "        return -1"
   ]
  },
  {
   "cell_type": "markdown",
   "metadata": {},
   "source": [
    "# Top View\n",
    "-https://www.hackerrank.com/challenges/tree-top-view/problem"
   ]
  },
  {
   "cell_type": "code",
   "execution_count": null,
   "metadata": {
    "collapsed": true
   },
   "outputs": [],
   "source": [
    "def top_view(root, m, hd,level):\n",
    "    if not root:\n",
    "        return \n",
    "    if hd in m:\n",
    "        if level < m[hd][1]:\n",
    "            m.update( {hd : [root.info,level] }) # Under the same horizontal distance, if the leverl is lower then we choose that node as the layer. \n",
    "    else:\n",
    "        m[hd] = [root.info,level]\n",
    "\n",
    "    top_view(root.left, m, hd-1,level+1)\n",
    "    top_view(root.right,m, hd+1, level+1)"
   ]
  },
  {
   "cell_type": "markdown",
   "metadata": {},
   "source": [
    "# Level Order Traversal\n",
    "-https://www.hackerrank.com/challenges/tree-level-order-traversal/problem\n"
   ]
  },
  {
   "cell_type": "code",
   "execution_count": null,
   "metadata": {
    "collapsed": true
   },
   "outputs": [],
   "source": [
    "\"\"\"\n",
    "Node is defined as\n",
    "self.left (the left child of the node)\n",
    "self.right (the right child of the node)\n",
    "self.data (the value of the node)\n",
    "\"\"\"\n",
    "def levelOrder(root):\n",
    "    if root is None:\n",
    "        return\n",
    "    queue = []\n",
    "    queue.append(root)\n",
    "    while len(queue)>0:\n",
    "        print queue[0].data, # queue[0] is an object, with a given root. queue[0].data = the value of given root\n",
    "        node = queue.pop(0) # popping out the entire object\n",
    "        if node.left:\n",
    "            queue.append(node.left) # adding new object\n",
    "        if node.right:\n",
    "            queue.append(node.right)# adding new object\n",
    "            "
   ]
  },
  {
   "cell_type": "markdown",
   "metadata": {},
   "source": [
    "# Binary Tree Lowest Common Ancestor"
   ]
  },
  {
   "cell_type": "code",
   "execution_count": null,
   "metadata": {
    "collapsed": true
   },
   "outputs": [],
   "source": [
    "# Enter your code here. Read input from STDIN. Print output to STDOUT\n",
    "'''\n",
    "class Node:\n",
    "      def __init__(self,info): \n",
    "          self.info = info  \n",
    "          self.left = None  \n",
    "          self.right = None \n",
    "           \n",
    "\n",
    "       // this is a node of the tree , which contains info as data, left , right\n",
    "'''\n",
    "\n",
    "def lca(root, v1, v2):\n",
    "    if v1<root.info and v2<root.info:\n",
    "        return lca(root.left,v1,v2)\n",
    "    if v1>root.info and v2>root.info:\n",
    "        return lca(root.right, v1,v2)\n",
    "    else:\n",
    "        return root\n",
    "  "
   ]
  },
  {
   "cell_type": "markdown",
   "metadata": {},
   "source": [
    "# Swap Nodes\n",
    "https://www.hackerrank.com/challenges/swap-nodes-algo/problem"
   ]
  },
  {
   "cell_type": "code",
   "execution_count": null,
   "metadata": {
    "collapsed": true
   },
   "outputs": [],
   "source": [
    "def inorder(T) :\n",
    "    stack = [1]\n",
    "    result = []\n",
    "    while stack :\n",
    "        i = stack.pop()\n",
    "        if i > 0 :\n",
    "            if T[i][1] > 0 : \n",
    "                stack.append(T[i][1])\n",
    "            stack.append(-i)\n",
    "            if T[i][0] > 0 : \n",
    "                stack.append(T[i][0])\n",
    "        else :\n",
    "            result.append(-i)\n",
    "    return result\n",
    "\n",
    "def swap(T, K) :\n",
    "    toVisit, depth = [1], 1\n",
    "    while toVisit :\n",
    "        if depth % K == 0 :\n",
    "            for i in toVisit :\n",
    "                T[i] = (T[i][1], T[i][0])\n",
    "        toVisit_ = []\n",
    "        for i in toVisit :\n",
    "            if T[i][0] > 0 :\n",
    "                toVisit_.append(T[i][0])\n",
    "            if T[i][1] > 0 :\n",
    "                toVisit_.append(T[i][1])\n",
    "        toVisit = toVisit_\n",
    "        depth += 1\n",
    "\n",
    "N = int(input())\n",
    "T = [None] + [tuple(int(_) for _ in input().split()) for _ in range(N)]\n",
    "\n",
    "N = int(input())\n",
    "for _ in range(N) :\n",
    "    swap(T,int(input()))\n",
    "    print(\" \".join(str(_) for _ in inorder(T)))"
   ]
  },
  {
   "cell_type": "markdown",
   "metadata": {},
   "source": [
    "# Is this a Binary Tree\n",
    "-https://www.hackerrank.com/challenges/is-binary-search-tree/problem"
   ]
  },
  {
   "cell_type": "code",
   "execution_count": null,
   "metadata": {
    "collapsed": true
   },
   "outputs": [],
   "source": [
    "prevVal = -1\n",
    "resultVal = 1\n",
    "def inOrder(root):\n",
    "  if root is None:\n",
    "    return\n",
    "  else:\n",
    "    inOrder(root.left)\n",
    "     \n",
    "    global prevVal\n",
    "    if prevVal < root.data:\n",
    "      prevVal = root.data\n",
    "    else:\n",
    "      global resultVal\n",
    "      resultVal = 0\n",
    "      return\n",
    "    \n",
    "    inOrder(root.right)\n",
    "\n",
    "def check_binary_search_tree_(root):\n",
    "  inOrder(root)\n",
    "  if resultVal == 1:\n",
    "    return True\n",
    "  elif resultVal == 0:\n",
    "    return False\n",
    "\n",
    "# perform an in order traversal "
   ]
  },
  {
   "cell_type": "markdown",
   "metadata": {},
   "source": [
    "# Maximum Element\n",
    "-https://www.hackerrank.com/domains/data-structures"
   ]
  },
  {
   "cell_type": "code",
   "execution_count": null,
   "metadata": {
    "collapsed": true
   },
   "outputs": [],
   "source": [
    "# The problem is to figure out the maximum element in a given stack. \n",
    "#We don't want to use max function directly and therefore, we might try two stacks. \n",
    "#The other stack only record the maximum of the current stack. When it comes to delete, we should also delete one in the other stack. \n",
    "import sys\n",
    "stack1=[]\n",
    "stack2 = []\n",
    "n = int(input())\n",
    "for i in range(n):\n",
    "    command = sys.stdin.readline().split()\n",
    "    \n",
    "    if command[0]=='1':\n",
    "        stack1.append(int(command[1]))\n",
    "        if not stack2:\n",
    "            stack2.append(int(command[1]))\n",
    "        else:\n",
    "            if stack2[-1] < int(command[1]):\n",
    "                stack2.append(int(command[1]))\n",
    "            else:\n",
    "                stack2.append(stack2[-1])\n",
    "    if command[0]=='2'and stack2:\n",
    "        stack1.pop()\n",
    "        stack2.pop()\n",
    "        \n",
    "    if command[0]=='3':\n",
    "        print(stack2[-1])\n",
    "       \n",
    "        "
   ]
  },
  {
   "cell_type": "markdown",
   "metadata": {},
   "source": [
    "# Queue using Two Stacks\n",
    "-https://www.hackerrank.com/challenges/queue-using-two-stacks/problem"
   ]
  },
  {
   "cell_type": "code",
   "execution_count": null,
   "metadata": {
    "collapsed": true
   },
   "outputs": [],
   "source": [
    "enque = 1\n",
    "dequeue = 2\n",
    "Peak = 3\n",
    "\n",
    "def read():\n",
    "    parts = input().strip().split(' ')\n",
    "    cmd = int(parts[0])\n",
    "    \n",
    "    if len(parts) == 1:\n",
    "        return (cmd, None)\n",
    "    try:\n",
    "        arg = int(parts[1])\n",
    "    except ValueError:\n",
    "        arg = parts[1]\n",
    "        \n",
    "    return cmd, arg\n",
    "\n",
    "class Stack:\n",
    "    def __init__(self):\n",
    "        self._stack = []\n",
    "    def push(self,data):\n",
    "        self._stack.append(data)\n",
    "    def pop(self):\n",
    "        return self._stack.pop() \n",
    "    def top(self):\n",
    "        if self._stack:\n",
    "            return self._stack[-1]\n",
    "        return None\n",
    "    def length(self):\n",
    "        return len(self._stack)\n",
    "class Queue:\n",
    "    def __init__(self):\n",
    "        self.stack_old_top = Stack()\n",
    "        self.stack_new_top = Stack()\n",
    "    def enqueue(self,data):\n",
    "        self.stack_new_top.push(data)\n",
    "    def dequeue(self):\n",
    "        if self.stack_old_top._stack:\n",
    "            return self.stack_old_top.pop()\n",
    "        return self.new_to_old().pop()\n",
    "    def new_to_old(self):\n",
    "        while self.stack_new_top._stack:\n",
    "            self.stack_old_top.push(self.stack_new_top.pop())\n",
    "        return self.stack_old_top\n",
    "    def Peak(self):\n",
    "        if self.stack_old_top._stack:\n",
    "            return self.stack_old_top.top()\n",
    "        return self.new_to_old().top()\n",
    "def main():\n",
    "    \n",
    "    q = Queue()\n",
    "\n",
    "    n_commands = int(input().strip())\n",
    "    for _ in range(n_commands):\n",
    "        command, arg = read()\n",
    "        if command == enque:\n",
    "            q.enqueue(arg)\n",
    "        elif command == dequeue:\n",
    "            q.dequeue()\n",
    "        elif command == Peak:\n",
    "            print(q.Peak())\n",
    "            \n",
    "        \n",
    "if __name__ == '__main__':\n",
    "    main()\n",
    "    "
   ]
  },
  {
   "cell_type": "markdown",
   "metadata": {},
   "source": [
    "# Component in a Graph\n",
    "https://www.hackerrank.com/challenges/components-in-graph/problem"
   ]
  },
  {
   "cell_type": "code",
   "execution_count": null,
   "metadata": {
    "collapsed": true
   },
   "outputs": [],
   "source": [
    "from __future__ import print_function\n",
    "import os\n",
    "import sys\n",
    "import collections\n",
    "\n",
    "\n",
    "def parent(parents,i):\n",
    "    if parents[i]!=i:\n",
    "        parents[i] = parent(parents,parents[i])\n",
    "    return parents[i]\n",
    "\n",
    "def componentsInGraph(gb):\n",
    "    #set parent of each node to be itself:\n",
    "    parents = list(range(2*len(gb)+1))\n",
    "    counter = collections.defaultdict(int)\n",
    "    for a,b in gb:\n",
    "        parent_a, parent_b = parent(parents,a), parent(parents,b)\n",
    "        parents[a],parents[b] = min(parent_a,parent_b),min(parent_a,parent_b)\n",
    "        parents[parent_a], parents[parent_b] = min(parent_a,parent_b),min(parent_a,parent_b)\n",
    "        # first connect two arbirary nodes, then connect the right side of node to the upper left\n",
    "        #node. Then the parent of right side of node would be same as the parent of upper left node. However, then we also need to change the parent of the left node. that's why we have the third line. \n",
    "        \n",
    "    for p in parents:\n",
    "        counter[parent(parents,p)] += 1\n",
    "        # first connect two arbitrary nodes, then connect the left side node with the upper right node. If the upper right node has a smaller parent, then the parent of the left node is changed accordingly. However, the parent of the right node is still the left node so we need to call parent function again. \n",
    "    c = [x for x in counter.values() if x>1 ]\n",
    "    return min(c), max(c)\n",
    "      \n",
    "# Complete the componentsInGraph function below.\n",
    "\n",
    "if __name__ == '__main__':\n",
    "    fptr = open(os.environ['OUTPUT_PATH'], 'w')\n",
    "\n",
    "    n = int(input())\n",
    "\n",
    "    gb = []\n",
    "\n",
    "    for _ in range(n):\n",
    "        gb.append(list(map(int, input().rstrip().split())))\n",
    "\n",
    "    result = componentsInGraph(gb)\n",
    "\n",
    "    fptr.write(' '.join(map(str, SPACE)))\n",
    "    fptr.write('\\n')\n",
    "\n",
    "    fptr.close()\n"
   ]
  },
  {
   "cell_type": "markdown",
   "metadata": {},
   "source": [
    "# Jesse and Cookies\n",
    "-https://www.hackerrank.com/challenges/jesse-and-cookies/problem"
   ]
  },
  {
   "cell_type": "code",
   "execution_count": null,
   "metadata": {
    "collapsed": true
   },
   "outputs": [],
   "source": [
    "N, K = map(int, raw_input().split(' '))\n",
    "cookies = map(int, raw_input().split(' '))\n",
    "heapq.heapify(cookies)\n",
    "\n",
    "def sweetness_to_k(cookies, K):\n",
    "    operations = 0\n",
    "    if not len(cookies):\n",
    "        return -1\n",
    "\n",
    "    while len(cookies):\n",
    "        c1 = heapq.heappop(cookies)\n",
    "        if c1 < K:\n",
    "            operations +=1\n",
    "            if len(cookies):\n",
    "                c2 = heapq.heappop(cookies)\n",
    "                n = c1 + 2*c2\n",
    "                heapq.heappush(cookies, n)\n",
    "            else:\n",
    "                return -1\n",
    "        else:   \n",
    "            break \n",
    "    return operations\n",
    "\n",
    "print sweetness_to_k(cookies, K)"
   ]
  },
  {
   "cell_type": "markdown",
   "metadata": {},
   "source": [
    "# Castle on the Grid\n",
    "-https://www.hackerrank.com/challenges/castle-on-the-grid/problem"
   ]
  },
  {
   "cell_type": "code",
   "execution_count": null,
   "metadata": {
    "collapsed": true
   },
   "outputs": [],
   "source": [
    "from collections import deque\n",
    "\n",
    "n, inf = int(input()), float('inf')\n",
    "grid = [list(input()) for _ in range(n)]\n",
    "x_beg, y_beg, x_end, y_end = map(int, input().split())\n",
    "dist = [n * [inf] for _ in range(n)]\n",
    "dist[x_beg][y_beg], grid[x_end][y_end] = 0, '*'\n",
    "\n",
    "queue = deque([(x_beg, y_beg)])\n",
    "while queue:\n",
    "    x0, y0 = queue.popleft()\n",
    "    d = dist[x0][y0]\n",
    "    if grid[x0][y0] == '*':\n",
    "        break\n",
    "    for nbr in [range(x0+1, n), range(x0-1, -1, -1)]:\n",
    "        for x in nbr:\n",
    "            if grid[x][y0] == 'X':\n",
    "                break\n",
    "            if dist[x][y0] == inf:\n",
    "                dist[x][y0] = d + 1\n",
    "                queue.append((x, y0))\n",
    "    for nbr in [range(y0+1, n), range(y0-1, -1, -1)]:\n",
    "        for y in nbr:\n",
    "            if grid[x0][y] == 'X':\n",
    "                break\n",
    "            if dist[x0][y] == inf:\n",
    "                dist[x0][y] = d + 1\n",
    "                queue.append((x0, y))\n",
    "print(d)"
   ]
  },
  {
   "cell_type": "markdown",
   "metadata": {},
   "source": [
    "# Game of Two Stacks\n",
    "-https://www.hackerrank.com/challenges/game-of-two-stacks/submissions/code/53148006"
   ]
  },
  {
   "cell_type": "code",
   "execution_count": null,
   "metadata": {
    "collapsed": true
   },
   "outputs": [],
   "source": [
    "import sys\n",
    "\n",
    "\n",
    "g = int(input().strip())\n",
    "count = 0\n",
    "for a0 in range(g):\n",
    "    n,m,x = input().strip().split(' ')\n",
    "    n,m,x = [int(n),int(m),int(x)]\n",
    "    a = list(map(int, input().strip().split(' ')))\n",
    "    b = list(map(int, input().strip().split(' ')))\n",
    "    i = 0\n",
    "    summ = 0\n",
    "    while (i<n) and (a[i]+summ <= x):\n",
    "        summ += a[i]\n",
    "        i += 1\n",
    "        \n",
    "    count = i\n",
    "    j = 0\n",
    "   \n",
    "    while (j<m): #and (i>=0):\n",
    "        summ += b[j]\n",
    "        j += 1\n",
    "        while (summ > x) and (i>0):\n",
    "            i -= 1\n",
    "            summ -= a[i]\n",
    "        if (summ<=x) & (i+j > count):\n",
    "            \n",
    "            count = i + j\n",
    "            #print(count)\n",
    "    print(count)"
   ]
  },
  {
   "cell_type": "markdown",
   "metadata": {
    "collapsed": true
   },
   "source": [
    "## Journey to the Moon\n",
    "-https://www.hackerrank.com/challenges/journey-to-the-moon/submissions/code/83481260\n"
   ]
  },
  {
   "cell_type": "code",
   "execution_count": null,
   "metadata": {
    "collapsed": true
   },
   "outputs": [],
   "source": [
    "import math\n",
    "import os\n",
    "import random\n",
    "import re\n",
    "import sys\n",
    "\n",
    "def find_set(x, sets):\n",
    "    if sets[x] < 0:\n",
    "        return x\n",
    "    else:\n",
    "        sets[x] = find_set(sets[x], sets)\n",
    "        return sets[x]\n",
    "\n",
    "def union_set(u, v, sets):\n",
    "    a = find_set(u, sets)# While finding the root of u, you also reset the parent of u to be the root. \n",
    "    b = find_set(v, sets)\n",
    "\n",
    "    newSize = sets[a] + sets[b]\n",
    "    #print(newSize)\n",
    "    if sets[a] < sets[b]:# Union based on which set has a bigger size. \n",
    "        sets[a] = b\n",
    "        sets[b] = newSize\n",
    "    else:\n",
    "        sets[b] = a\n",
    "        sets[a] = newSize\n",
    "\n",
    "n, p = map(int, input().split())\n",
    "sets = [-1 for _ in range(n)]\n",
    "\n",
    "for _ in range(p):\n",
    "    u, v = map(int, input().split())\n",
    "    set_u = find_set(u, sets)\n",
    "    set_v = find_set(v, sets)\n",
    "\n",
    "    if set_u != set_v:\n",
    "        union_set(set_u, set_v, sets)\n",
    "\n",
    "l = [0] * n\n",
    "#for i in range(n):\n",
    "#    if sets[i] < 0:\n",
    "#        l[i] += 1\n",
    "#    else:\n",
    "#        l[find_set(sets[i], sets)] += 1\n",
    "for i in range(n):\n",
    "    if sets[i]<0:\n",
    "        l[i] = -sets[i]\n",
    "        \n",
    "summ = 0\n",
    "ans = 0\n",
    "for i in l:\n",
    "    ans += i * summ\n",
    "    summ += i\n",
    "print(ans)"
   ]
  },
  {
   "cell_type": "markdown",
   "metadata": {},
   "source": [
    "# Prime's algorithm\n",
    "-https://www.hackerrank.com/challenges/primsmstsub/submissions/code/83687268"
   ]
  },
  {
   "cell_type": "code",
   "execution_count": null,
   "metadata": {
    "collapsed": true
   },
   "outputs": [],
   "source": [
    "\n",
    "import math\n",
    "import os\n",
    "import random\n",
    "import re\n",
    "import sys\n",
    "\n",
    "class node():\n",
    "    def __init__(self,name):\n",
    "        self.name = name\n",
    "        self.connections = {}\n",
    "n,m = list(map(int, input().strip().split()))\n",
    "# n is number of nodes, m is number of edges\n",
    "graph = {}\n",
    "\n",
    "for i in range(m):\n",
    "    x,y,w = list(map(int,input().strip().split()))\n",
    "    if x not in graph:\n",
    "        graph[x] = node(x)\n",
    "    if y not in graph:\n",
    "        graph[y] = node(y)\n",
    "    graph[x].connections[graph[y]] = w\n",
    "    graph[y].connections[graph[x]] = w\n",
    "    \n",
    "s = int(input().strip())# start node\n",
    "visited = {graph[s]:0}\n",
    "\n",
    "while len(visited)!=n:\n",
    "    opti_cost = (None,float('inf'))\n",
    "    for node in visited:\n",
    "        #print(node.name)\n",
    "        for next_node, weight in node.connections.items():\n",
    "            if weight < opti_cost[1] and next_node not in visited:\n",
    "                opti_cost = (next_node,weight)\n",
    "        \n",
    "                \n",
    "    node, weight = opti_cost\n",
    "    visited[node] = weight\n",
    "print(sum(visited.values()))"
   ]
  },
  {
   "cell_type": "markdown",
   "metadata": {},
   "source": [
    "# Hash Table: Ransom Note\n",
    "-https://www.hackerrank.com/challenges/ctci-ransom-note/submissions/code/83818812"
   ]
  },
  {
   "cell_type": "code",
   "execution_count": null,
   "metadata": {
    "collapsed": true
   },
   "outputs": [],
   "source": [
    "import math\n",
    "import os\n",
    "import random\n",
    "import re\n",
    "import sys\n",
    "from collections import defaultdict\n",
    "# Complete the checkMagazine function below.\n",
    "def checkMagazine(magazine, note):\n",
    "    dic_mag = defaultdict(int)\n",
    "    for key in magazine:\n",
    "        dic_mag[key] += 1\n",
    "    for words in note:\n",
    "        if dic_mag[words]==0:\n",
    "            return 'No'\n",
    "        else:\n",
    "            dic_mag[words] -= 1\n",
    "    return 'Yes'\n",
    "        \n",
    "\n",
    "if __name__ == '__main__':\n",
    "    mn = input().split()\n",
    "\n",
    "    m = int(mn[0])\n",
    "\n",
    "    n = int(mn[1])\n",
    "\n",
    "    magazine = input().rstrip().split()\n",
    "\n",
    "    note = input().rstrip().split()\n",
    "\n",
    "    print(checkMagazine(magazine, note))\n"
   ]
  },
  {
   "cell_type": "markdown",
   "metadata": {},
   "source": [
    "# Minimum Swap with Graph\n",
    "-https://www.hackerrank.com/challenges/minimum-swaps-2/problem\n"
   ]
  },
  {
   "cell_type": "code",
   "execution_count": null,
   "metadata": {
    "collapsed": true
   },
   "outputs": [],
   "source": [
    "import math\n",
    "import os\n",
    "import random\n",
    "import re\n",
    "import sys\n",
    "\n",
    "# Complete the minimumSwaps function below.\n",
    "def minimumSwaps(arr):\n",
    "    sort_arr = sorted(arr)\n",
    "    ele_currpos = {}\n",
    "    visit={}\n",
    "    for i in range(len(arr)):\n",
    "        ele_currpos[arr[i]] = i\n",
    "        visit[arr[i]] = False\n",
    "    \n",
    "    k = 0\n",
    "    ans = 0\n",
    "    for k in range(len(arr)): # what number should be in this position? \n",
    "        cycle = 0\n",
    "        if visit[sort_arr[k]] or ele_currpos[sort_arr[k]] == k:\n",
    "            continue\n",
    "        j = k\n",
    "        while visit[sort_arr[j]] == False:\n",
    "            visit[sort_arr[j]] = True\n",
    "            j = ele_currpos[sort_arr[j]]\n",
    "            cycle += 1\n",
    "        ans += cycle-1\n",
    "        \n",
    "    return ans\n",
    "            \n",
    "  \n",
    "if __name__ == '__main__':\n",
    "    fptr = open(os.environ['OUTPUT_PATH'], 'w')\n",
    "\n",
    "    n = int(input())\n",
    "\n",
    "    arr = list(map(int, input().rstrip().split()))\n",
    "\n",
    "    res = minimumSwaps(arr)\n",
    "\n",
    "    fptr.write(str(res) + '\\n')\n",
    "\n",
    "    fptr.close()\n"
   ]
  },
  {
   "cell_type": "markdown",
   "metadata": {},
   "source": [
    "# Alternating Chars\n",
    "-https://www.hackerrank.com/challenges/alternating-characters/submissions/code/84005758"
   ]
  },
  {
   "cell_type": "code",
   "execution_count": null,
   "metadata": {
    "collapsed": true
   },
   "outputs": [],
   "source": [
    "\n",
    "import math\n",
    "import os\n",
    "import random\n",
    "import re\n",
    "import sys\n",
    "\n",
    "# Complete the alternatingCharacters function below.\n",
    "def alternatingCharacters(s):\n",
    "    cur = 0\n",
    "    nex = 1\n",
    "    count = 0\n",
    "    while nex<len(s):\n",
    "        while nex<len(s) and s[nex] == s[cur]:\n",
    "            count+=1\n",
    "            nex += 1\n",
    "        cur = nex\n",
    "        nex = cur + 1\n",
    "    return count\n",
    "  \n",
    "        \n",
    "        \n",
    "        \n",
    "    \n",
    "\n",
    "if __name__ == '__main__':\n",
    "    fptr = open(os.environ['OUTPUT_PATH'], 'w')\n",
    "\n",
    "    q = int(input())\n",
    "\n",
    "    for q_itr in range(q):\n",
    "        s = input()\n",
    "\n",
    "        result = alternatingCharacters(s)\n",
    "\n",
    "        fptr.write(str(result) + '\\n')\n",
    "\n",
    "    fptr.close()\n"
   ]
  },
  {
   "cell_type": "markdown",
   "metadata": {},
   "source": [
    "https://www.hackerrank.com/challenges/matrix/problem"
   ]
  },
  {
   "cell_type": "code",
   "execution_count": null,
   "metadata": {
    "collapsed": true
   },
   "outputs": [],
   "source": [
    "import math\n",
    "import os\n",
    "import random\n",
    "import re\n",
    "import sys\n",
    "\n",
    "# Complete the minTime function below.\n",
    "def find_par(city,parents_machine):\n",
    "    if parents_machine[0][city] == -1:\n",
    "        return city\n",
    "    return find_par(parents_machine[0][city],parents_machine)\n",
    "\n",
    "def minTime(roads, machines,n):\n",
    "    cost = 0\n",
    "    Roads = sorted(roads,key=lambda l:l[2],reverse=True)\n",
    "    L = len(Roads)\n",
    "    Parents_machine = [[-1 for i in range(n)] for j in range(2) ] \n",
    "    for m in machines:\n",
    "        Parents_machine[1][m] = 1   \n",
    "    \n",
    "    for i in range(L):\n",
    "        road = Roads[i]\n",
    "        major_class = find_par(road[0],Parents_machine)\n",
    "        minor_class = find_par(road[1],Parents_machine)\n",
    "        num1,num2 = Parents_machine[1][major_class], Parents_machine[1][minor_class]\n",
    "        if major_class!= minor_class:\n",
    "            if num2 == 1 and num1==1:\n",
    "                cost += road[2]\n",
    "                pass\n",
    "            else:\n",
    "                Parents_machine[0][minor_class] = major_class\n",
    "                if num2==1:\n",
    "                    Parents_machine[1][major_class] = 1\n",
    "    return cost\n",
    "    \n",
    "\n",
    "if __name__ == '__main__':\n",
    "    fptr = open(os.environ['OUTPUT_PATH'], 'w')\n",
    "\n",
    "    nk = input().split()\n",
    "\n",
    "    n = int(nk[0])\n",
    "\n",
    "    k = int(nk[1])\n",
    "\n",
    "    roads = []\n",
    "\n",
    "    for _ in range(n - 1):\n",
    "        roads.append(list(map(int, input().strip().split())))\n",
    "\n",
    "    machines = []\n",
    "\n",
    "    for _ in range(k):\n",
    "        machines_item = int(input())\n",
    "        machines.append(machines_item)\n",
    "\n",
    "    result = minTime(roads, machines,n)\n",
    "\n",
    "    fptr.write(str(result) + '\\n')\n",
    "\n",
    "    fptr.close()\n"
   ]
  },
  {
   "cell_type": "markdown",
   "metadata": {},
   "source": [
    "https://www.hackerrank.com/challenges/common-child/problem\n",
    "# Strings"
   ]
  },
  {
   "cell_type": "code",
   "execution_count": null,
   "metadata": {
    "collapsed": true
   },
   "outputs": [],
   "source": [
    "import math\n",
    "import os\n",
    "import random\n",
    "import re\n",
    "import sys\n",
    "\n",
    "# Complete the commonChild function below.\n",
    "def commonChild(s1, s2):\n",
    "    n, m = len(s1), len(s2)\n",
    "    lcs = [[0] * (m + 1) for _ in xrange(n + 1)]\n",
    "\n",
    "    for i, c1 in enumerate(s1): # Important! instead of calling s1[..], use enumerate.\n",
    "        for j, c2 in enumerate(s2):\n",
    "            if c1 == c2:\n",
    "                lcs[i][j] = lcs[i - 1][j - 1] + 1\n",
    "            else:\n",
    "                lcs[i][j] = max(lcs[i][j - 1], lcs[i - 1][j])\n",
    "\n",
    "    return lcs[n - 1][m - 1]\n",
    "    \n",
    "\n",
    "if __name__ == '__main__':\n",
    "    fptr = open(os.environ['OUTPUT_PATH'], 'w')\n",
    "\n",
    "    s1 = raw_input()\n",
    "\n",
    "    s2 = raw_input()\n",
    "\n",
    "    result = commonChild(s1, s2)\n",
    "\n",
    "    fptr.write(str(result) + '\\n')\n",
    "\n",
    "    fptr.close()\n"
   ]
  },
  {
   "cell_type": "markdown",
   "metadata": {},
   "source": [
    "https://www.hackerrank.com/challenges/ctci-comparator-sorting/submissions/code/84741512"
   ]
  },
  {
   "cell_type": "code",
   "execution_count": null,
   "metadata": {
    "collapsed": true
   },
   "outputs": [],
   "source": [
    "from functools import cmp_to_key\n",
    "class Player:\n",
    "    def __init__(self, name, score):\n",
    "        self.name = name\n",
    "        self.score = score\n",
    "    def __repr__(self):\n",
    "        pass\n",
    "    def comparator(a, b):\n",
    "        val = b.score - a.score\n",
    "        if val == 0:\n",
    "            return -1 if a.name < b.name else 1\n",
    "        return val"
   ]
  },
  {
   "cell_type": "markdown",
   "metadata": {},
   "source": [
    "https://www.hackerrank.com/challenges/sherlock-and-anagrams/submissions/code/84108077\n",
    "# also string"
   ]
  },
  {
   "cell_type": "code",
   "execution_count": null,
   "metadata": {
    "collapsed": true
   },
   "outputs": [],
   "source": [
    "import math\n",
    "import os\n",
    "import random\n",
    "import re\n",
    "import sys\n",
    "\n",
    "# Complete the sherlockAndAnagrams function below.\n",
    "from collections import Counter\n",
    "\n",
    "def sherlockAndAnagrams(string):\n",
    "    buckets = {}\n",
    "    for i in range(len(string)):\n",
    "        for j in range(1, len(string) - i + 1):\n",
    "            key = frozenset(Counter(string[i:i+j]).items()) # O(N) time key extract\n",
    "            buckets[key] = buckets.get(key, 0) + 1 # buckets does not have key at at the beginning,if we don't use buckets.get(key,0), then it will give errors. ie we can use buckets[key] = buckets[key]+1\n",
    "    count = 0\n",
    "    for key in buckets:\n",
    "        count += buckets[key] * (buckets[key]-1) // 2\n",
    "    return count\n",
    "#  frozenset is hashable, set is not. \n",
    "#Each time, it loops over all possible sub strings, given i, then store the counter as key in buckets. Nexttime, when it go over the same key, it will be added by 1. \n",
    "    \n",
    "    \n",
    "    \n",
    "    \n",
    "\n",
    "if __name__ == '__main__':\n",
    "    fptr = open(os.environ['OUTPUT_PATH'], 'w')\n",
    "\n",
    "    q = int(input())\n",
    "\n",
    "    for q_itr in range(q):\n",
    "        s = input()\n",
    "\n",
    "        result = sherlockAndAnagrams(s)\n",
    "\n",
    "        fptr.write(str(result) + '\\n')\n",
    "\n",
    "    fptr.close()\n"
   ]
  },
  {
   "cell_type": "markdown",
   "metadata": {},
   "source": [
    "https://www.hackerrank.com/challenges/alternating-characters/submissions/code/84005758\n",
    "#String"
   ]
  },
  {
   "cell_type": "code",
   "execution_count": null,
   "metadata": {
    "collapsed": true
   },
   "outputs": [],
   "source": [
    "#!/bin/python3\n",
    "\n",
    "import math\n",
    "import os\n",
    "import random\n",
    "import re\n",
    "import sys\n",
    "\n",
    "# Complete the alternatingCharacters function below.\n",
    "def alternatingCharacters(s):\n",
    "    cur = 0\n",
    "    nex = 1\n",
    "    count = 0\n",
    "    while nex<len(s):\n",
    "        while nex<len(s) and s[nex] == s[cur]:\n",
    "            count+=1\n",
    "            nex += 1\n",
    "        cur = nex\n",
    "        nex = cur + 1\n",
    "    return count\n",
    "  \n",
    "        \n",
    "        \n",
    "        \n",
    "    \n",
    "\n",
    "if __name__ == '__main__':\n",
    "    fptr = open(os.environ['OUTPUT_PATH'], 'w')\n",
    "\n",
    "    q = int(input())\n",
    "\n",
    "    for q_itr in range(q):\n",
    "        s = input()\n",
    "\n",
    "        result = alternatingCharacters(s)\n",
    "\n",
    "        fptr.write(str(result) + '\\n')\n",
    "\n",
    "    fptr.close()"
   ]
  },
  {
   "cell_type": "markdown",
   "metadata": {},
   "source": [
    "https://www.hackerrank.com/challenges/minimum-swaps-2/submissions/code/84004472"
   ]
  },
  {
   "cell_type": "code",
   "execution_count": null,
   "metadata": {
    "collapsed": true
   },
   "outputs": [],
   "source": [
    "import os\n",
    "import random\n",
    "import re\n",
    "import sys\n",
    "\n",
    "# Complete the minimumSwaps function below.\n",
    "def minimumSwaps(arr):\n",
    "    sort_arr = sorted(arr)\n",
    "    ele_currpos = {}\n",
    "    visit={}\n",
    "    for i in range(len(arr)):\n",
    "        ele_currpos[arr[i]] = i\n",
    "        visit[arr[i]] = False\n",
    "    \n",
    "    k = 0\n",
    "    ans = 0\n",
    "    for k in range(len(arr)): # what number should be in this position? \n",
    "        cycle = 0\n",
    "        if visit[sort_arr[k]] or ele_currpos[sort_arr[k]] == k:\n",
    "            continue\n",
    "        j = k\n",
    "        while visit[sort_arr[j]] == False:\n",
    "            visit[sort_arr[j]] = True\n",
    "            j = ele_currpos[sort_arr[j]]\n",
    "            cycle += 1\n",
    "        ans += cycle-1\n",
    "        \n",
    "    return ans\n",
    "            \n",
    "  \n",
    "if __name__ == '__main__':\n",
    "    fptr = open(os.environ['OUTPUT_PATH'], 'w')\n",
    "\n",
    "    n = int(input())\n",
    "\n",
    "    arr = list(map(int, input().rstrip().split()))\n",
    "\n",
    "    res = minimumSwaps(arr)\n",
    "\n",
    "    fptr.write(str(res) + '\\n')\n",
    "\n",
    "    fptr.close()\n"
   ]
  }
 ],
 "metadata": {
  "kernelspec": {
   "display_name": "Python 3",
   "language": "python",
   "name": "python3"
  },
  "language_info": {
   "codemirror_mode": {
    "name": "ipython",
    "version": 3
   },
   "file_extension": ".py",
   "mimetype": "text/x-python",
   "name": "python",
   "nbconvert_exporter": "python",
   "pygments_lexer": "ipython3",
   "version": "3.6.1"
  }
 },
 "nbformat": 4,
 "nbformat_minor": 2
}
