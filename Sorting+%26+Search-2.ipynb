{
 "cells": [
  {
   "cell_type": "markdown",
   "metadata": {
    "collapsed": true
   },
   "source": [
    "# Big Sorting\n",
    "\n",
    "Consider an array of numeric strings 'unsorted' , where each string is a positive number with anywhere from 1 to 10^6 digits. Sort the array's elements in non-decreasing (i.e., ascending) order of their real-world integer values and print each element of the sorted array on a new line.\n",
    "\n",
    "Input format:\n",
    "The first line contains an integer n, denoting the number of strings in 'unsorted'\n",
    "Each of the n lines contain a string of integers.\n",
    "\n",
    "Link of the problem in Hackerrank: https://www.hackerrank.com/challenges/big-sorting/problem"
   ]
  },
  {
   "cell_type": "code",
   "execution_count": null,
   "metadata": {
    "collapsed": true
   },
   "outputs": [],
   "source": [
    "import sys\n",
    "n = int(input().strip())\n",
    "numlist = {} # Dictionary 'numlist' stores integer of strings in terms of number of digits.\n",
    "m=0\n",
    "for m in range(n):\n",
    "    unsorted_t = input().strip()\n",
    "    #unsorted.append(unsorted_t)\n",
    "    length = len(unsorted_t)\n",
    "    if length not in numlist:\n",
    "        numlist[length]=[]\n",
    "        \n",
    "    numlist[length].append(unsorted_t)\n",
    "\n",
    "for key in sorted(numlist):\n",
    "    for value in sorted(numlist[key]): # Sort the 'numlist' of every number of digits before the print statement.  \n",
    "        print(value)"
   ]
  },
  {
   "cell_type": "markdown",
   "metadata": {},
   "source": [
    "# Closest Numbers\n",
    "Sorting is often useful as the first step in many different tasks. The most common task is to make finding things easier, but there are other uses, as well.\n",
    "\n",
    "Challenge\n",
    "Given a list of unsorted integers, A={a1,a2,...,aN}, can you find the pair of elements that have the smallest absolute difference between them? If there are multiple pairs, find them all.\n",
    "\n",
    "Input Format \n",
    "The first line of input contains a single integer,N,representing the length of array A. \n",
    "In the second line, there are  space-separated integers, a1,a2,...,aN, representing the elements of array A.\n",
    "\n"
   ]
  },
  {
   "cell_type": "code",
   "execution_count": null,
   "metadata": {
    "collapsed": true
   },
   "outputs": [],
   "source": [
    "import sys\n",
    "num =sys.stdin.readline().strip()\n",
    "n = int(num)\n",
    "numbers = [int(x) for x in sys.stdin.readline().split()]\n",
    "list1 = [] \n",
    "numbers = sorted(numbers)\n",
    "dif = 10*(numbers[1]-numbers[0])\n",
    "for i in range(n-1):\n",
    "        j=i+1\n",
    "        if (numbers[j]-numbers[i])<dif:\n",
    "            list1=[]\n",
    "            dif= numbers[j]-numbers[i]\n",
    "            list1.append(numbers[i])\n",
    "            list1.append(numbers[j])\n",
    "            \n",
    "        elif (numbers[j]-numbers[i])==dif:\n",
    "            list1.append(numbers[i])\n",
    "            list1.append(numbers[j])\n",
    "        # Delete all elements in list1 if the new pair has a smaller differnce than the previous one. \n",
    "        # If the differences are the same, then add the new pair. \n",
    "print(\" \".join(str(x) for x in list1))"
   ]
  },
  {
   "cell_type": "markdown",
   "metadata": {},
   "source": [
    "# Lily's Homework\n",
    "\n",
    "Whenever George asks Lily to hang out, she's busy doing homework. George wants to help her finish it faster, but he's in over his head! Can you help George understand Lily's homework so she can hang out with him?\n",
    "\n",
    "Consider an array of n distinct integers,A= [a0,a1,...,an-1]. George can swap any two elements of the array any number of times. An array is beautiful if the sum of |ai-ai-1| among 0<i<n is minimal possible (after, possibly, performing some swaps).\n",
    "\n",
    "Given the array A, find and print the minimum number of swaps that should be performed in order to make the array beautiful.\n",
    "\n",
    "Input Format:\n",
    "The first line contains a single integer,n, denoting the number of elements in the array A. \n",
    "The second line contains n space-separated integers describing the respective distinct values of a0,a1,...,an-1.\n",
    "\n",
    "Here is a link of the problem in Hackerran: https://www.hackerrank.com/challenges/lilys-homework\n",
    "\n",
    "\n",
    "\n"
   ]
  },
  {
   "cell_type": "code",
   "execution_count": null,
   "metadata": {
    "collapsed": true
   },
   "outputs": [],
   "source": [
    "def solution(a):\n",
    "    m = {} # m is a dictionary that records the positions of each element in A. \n",
    "    for i in range(len(a)):\n",
    "        m[a[i]] = i \n",
    "        \n",
    "    sorted_a = sorted(a)\n",
    "    ret = 0\n",
    "    \n",
    "    for i in range(len(a)):\n",
    "        if a[i] != sorted_a[i]:\n",
    "            ret +=1\n",
    "            ind_to_swap = m[ sorted_a[i] ] #'ind_to_swap' is the position of 'sorted_a[i]' in the original list a. \n",
    "            a[i],a[ind_to_swap] = sorted_a[i],a[i] \n",
    "    return ret\n",
    "\n",
    "raw_input()\n",
    "a = [int(i) for i in raw_input().split(' ')]\n",
    "\n",
    "asc=solution(list(a))\n",
    "desc=solution(list(reversed(a)))\n",
    "print min(asc,desc)\n",
    "\n"
   ]
  },
  {
   "cell_type": "markdown",
   "metadata": {},
   "source": [
    "# Quick Sort\n",
    "Given a sequence {an}. Apply 'quick sort' to sort {an} st. it is in the ascending order. "
   ]
  },
  {
   "cell_type": "code",
   "execution_count": 5,
   "metadata": {},
   "outputs": [
    {
     "name": "stdout",
     "output_type": "stream",
     "text": [
      "[1, 2, 3, 4, 5, 6]\n",
      "[1, 2, 3, 5, 6]\n"
     ]
    }
   ],
   "source": [
    "def partialsort(a,low,pivot):\n",
    "    i = -1\n",
    "    for k in range(low,pivot):\n",
    "        if a[k] < a[pivot]:\n",
    "            i += 1\n",
    "            a[k],a[i] = a[i],a[k]\n",
    "    i += 1\n",
    "    a[i],a[pivot] = a[pivot],a[i]\n",
    "    return i\n",
    "\n",
    "def quicksort(a,low,pivot):\n",
    "    if pivot> low:\n",
    "        x = partialsort(a,low,pivot)\n",
    "        quicksort(a,x+1,pivot)\n",
    "        quicksort(a,low,x-1)\n",
    "\n",
    "a = [1,3,2,4,5,6]\n",
    "quicksort(a,0,5)\n",
    "print(a)\n",
    "\n",
    "s = [2,1,5,3,6]\n",
    "quicksort(s,0,4)\n",
    "print(s)\n",
    "   "
   ]
  },
  {
   "cell_type": "code",
   "execution_count": null,
   "metadata": {
    "collapsed": true
   },
   "outputs": [],
   "source": []
  },
  {
   "cell_type": "markdown",
   "metadata": {
    "collapsed": true
   },
   "source": [
    "# Insertion Sort\n",
    "Give a sequence {an}, apply 'insertion sort' st. {an} is in the descending order."
   ]
  },
  {
   "cell_type": "code",
   "execution_count": 10,
   "metadata": {},
   "outputs": [
    {
     "data": {
      "text/plain": [
       "[5, 4, 3, 2, 1]"
      ]
     },
     "execution_count": 10,
     "metadata": {},
     "output_type": "execute_result"
    }
   ],
   "source": [
    "def Insertion_Sort(a,n):\n",
    "    for i in range(1,n):\n",
    "        if a[i]>a[i-1]:\n",
    "            k = a[i]\n",
    "            i -=1\n",
    "            while (i>=0) & (a[i]<k):#Since we have a[i] in the condition, we should put a constraint like i>=0 at the front\n",
    "                a[i+1] = a[i]\n",
    "                i -= 1\n",
    "            a[i+1] = k\n",
    "        \n",
    "        #print(a)\n",
    "    return a\n",
    "Insertion_Sort([1,4,2,5,3],5)\n",
    "            \n",
    "            "
   ]
  },
  {
   "cell_type": "markdown",
   "metadata": {
    "collapsed": true
   },
   "source": [
    "# The Full Counting Sort\n",
    "In this challenge you need to print the data that accompanies each integer in a list. In addition, if two strings have the same integers, you need to print the strings in their original order. Hence, your sorting algorithm should be stable, i.e. the original order should be maintained for equal elements.\n",
    "\n",
    "Insertion Sort and the simple version of Quicksort were stable, but the faster in-place version of Quicksort was not (since it scrambled around elements while sorting).\n",
    "\n",
    "In cases where you care about the original order, it is important to use a stable sorting algorithm. In this challenge, you will use counting sort to sort a list while keeping the order of the strings (with the accompanying integer) preserved.\n",
    "\n",
    "Challenge \n",
    "In the previous challenge, you created a \"helper array\" that contains information about the starting position of each element in a sorted array. Can you use this array to help you create a sorted array of the original list?\n",
    "\n",
    "Hint: You can go through the original array to access the strings. You can then use your helper array to help determine where to place those strings in the sorted array. Be careful about being one off.\n",
    "\n",
    "Details and a Twist \n",
    "You will be given a list that contains both integers and strings. Can you print the strings in order of their accompanying integers? If the integers for two strings are equal, ensure that they are print in the order they appeared in the original list.\n",
    "\n",
    "The Twist - Your clients just called with an update. They don't want you to print the first half of the original array. Instead, they want you to print a dash for any element from the first half.\n",
    "\n",
    "https://www.hackerrank.com/challenges/countingsort4/problem\n"
   ]
  },
  {
   "cell_type": "code",
   "execution_count": null,
   "metadata": {
    "collapsed": true
   },
   "outputs": [],
   "source": [
    "import sys\n",
    "N = int(input().strip())\n",
    "count = [0 for k in range(0,100)]\n",
    "stringlist = [ sys.stdin.readline().split() for i in range(N)]\n",
    "output = [0 for k in range(N)]\n",
    "for i in range(0,int(N/2)):\n",
    "    stringlist[i][1] = '-'\n",
    "for x in stringlist:\n",
    "    index = int(x[0])\n",
    "    count[index] += 1\n",
    "for m in range(1,100):\n",
    "    count[m] = count[m-1]+count[m]\n",
    "copy_count = count\n",
    "#print(count)\n",
    "for i in range(99,0,-1):\n",
    "    #print(i)\n",
    "    count[i] = count[i-1]\n",
    "count[0]=0\n",
    "#print(count)\n",
    "#start = 0\n",
    "for x in stringlist:\n",
    "    index = count[int(x[0])]\n",
    "    output[index] = x[1]\n",
    "    count[int(x[0])] += 1\n",
    "    \n",
    "        \n",
    "        \n",
    "print(' '.join(str(e) for e in output))"
   ]
  },
  {
   "cell_type": "code",
   "execution_count": 20,
   "metadata": {},
   "outputs": [
    {
     "data": {
      "text/plain": [
       "'base invalid'"
      ]
     },
     "execution_count": 20,
     "metadata": {},
     "output_type": "execute_result"
    }
   ],
   "source": [
    "def number_base_arithmetic(base,num_on_base):\n",
    "    b = int(base)\n",
    "    \n",
    "    num_list = [ord(num) for num in num_on_base]\n",
    "    base10 = 0\n",
    "    for i in range(len(num_list)):\n",
    "        if num_list[i]<=57:\n",
    "            num_list[i] = num_list[i]-48\n",
    "        else:\n",
    "            num_list[i] -= 87\n",
    "        \n",
    "    for i in range(len(num_list)):\n",
    "        n = len(num_list)-1\n",
    "        if num_list[i]>=b:\n",
    "            base10 = 'base invalid'\n",
    "            break\n",
    "        else:\n",
    "            base10 = base10 + pow(b,n-i)*num_list[i]\n",
    "    return base10\n",
    "\n",
    "number_base_arithmetic('12','c33')\n"
   ]
  },
  {
   "cell_type": "markdown",
   "metadata": {
    "collapsed": true
   },
   "source": [
    "## Closest Number\n",
    "-https://www.hackerrank.com/challenges/closest-numbers/problem"
   ]
  },
  {
   "cell_type": "code",
   "execution_count": null,
   "metadata": {
    "collapsed": true
   },
   "outputs": [],
   "source": [
    "import sys\n",
    "num =sys.stdin.readline().strip()\n",
    "n = int(num)\n",
    "numbers = [int(x) for x in sys.stdin.readline().split()]\n",
    "list1 = []\n",
    "numbers = sorted(numbers)\n",
    "dif = 10*(numbers[1]-numbers[0])\n",
    "for i in range(n-1):\n",
    "        j=i+1\n",
    "        if (numbers[j]-numbers[i])<dif:\n",
    "            list1=[]\n",
    "            dif= numbers[j]-numbers[i]\n",
    "            list1.append(numbers[i])\n",
    "            list1.append(numbers[j])\n",
    "            \n",
    "        elif (numbers[j]-numbers[i])==dif:\n",
    "            list1.append(numbers[i])\n",
    "            list1.append(numbers[j])\n",
    "print(\" \".join(str(x) for x in list1))"
   ]
  },
  {
   "cell_type": "markdown",
   "metadata": {},
   "source": [
    "# Hackerland Radio Transmitters\n",
    "Hackerland is a one-dimensional city with n houses, where each house i is located at some xi on the x-axis. The Mayor wants to install radio transmitters on the roofs of the city's houses. Each transmitter has a range,k , meaning it can transmit a signal to all houses <=k units of distance away.\n",
    "\n",
    "Given a map of Hackerland and the value of k, can you find and print the minimum number of transmitters needed to cover every house in the city? (Every house must be covered by at least one transmitter) Each transmitter must be installed on top of an existing house.\n",
    "https://www.hackerrank.com/challenges/hackerland-radio-transmitters/problem"
   ]
  },
  {
   "cell_type": "code",
   "execution_count": null,
   "metadata": {
    "collapsed": true
   },
   "outputs": [],
   "source": [
    "import sys\n",
    "n,k = input().strip().split(' ')\n",
    "n,k = [int(n),int(k)]\n",
    "x = [int(x_temp) for x_temp in input().strip().split(' ')]\n",
    "xs = sorted(x)\n",
    "\n",
    "i=0\n",
    "numtrans =0\n",
    "\n",
    "xs.append(0)\n",
    "while(i < n):\n",
    "    numtrans = numtrans+1\n",
    "    loc = xs[i]+k\n",
    "    \n",
    "    while(i<n)&(xs[i]<=loc):\n",
    "        i = i+1\n",
    "    i = i-1\n",
    "    loc = xs[i]+k\n",
    "    while(i<n)&(xs[i]<=loc):\n",
    "        i=i+1\n",
    "\n",
    "print(numtrans)\n",
    "       "
   ]
  },
  {
   "cell_type": "markdown",
   "metadata": {},
   "source": [
    "# Pairs\n",
    "-Given  integers, count the number of pairs of integers whose difference is K"
   ]
  },
  {
   "cell_type": "code",
   "execution_count": null,
   "metadata": {
    "collapsed": true
   },
   "outputs": [],
   "source": [
    "import sys\n",
    "\n",
    "def pairs(a,k):\n",
    "    # a is the list of numbers and k is the difference value\n",
    "    Increase= [int(x+k) for x in a]\n",
    "    answer = 0\n",
    "    answer = len(set(Increase)&set(a))\n",
    "            \n",
    "    return answer\n",
    "\n",
    "[num,k] = [int(k) for k in sys.stdin.readline().split()]\n",
    "a = [int(x) for x in sys.stdin.readline().split()]\n",
    "print(pairs(a,k))"
   ]
  },
  {
   "cell_type": "markdown",
   "metadata": {},
   "source": [
    "# Connected Cells in a Grid\n",
    "https://www.hackerrank.com/challenges/connected-cell-in-a-grid"
   ]
  },
  {
   "cell_type": "code",
   "execution_count": null,
   "metadata": {
    "collapsed": true
   },
   "outputs": [],
   "source": [
    "import sys\n",
    "rows = int(input().strip())\n",
    "colums = int(input().strip())\n",
    "matrix = [[int(x) for x in sys.stdin.readline().split()] for i in range(rows)]\n",
    "maxregionsize = 0\n",
    "def regionsize(M,row,colum):\n",
    "    currentsize = 1\n",
    "    if row<0 or colum<0 or row>rows-1 or colum>colums-1:\n",
    "        return 0\n",
    "    if M[row][colum] == 0:\n",
    "        return 0\n",
    "    elif M[row][colum]==1:\n",
    "        M[row][colum]=0\n",
    "        for r in range(row-1,row+2):\n",
    "            for c in range(colum-1,colum+2):\n",
    "                currentsize += regionsize(M,r,c)\n",
    "        return currentsize\n",
    "                \n",
    "\n",
    "for row in range(rows):\n",
    "    for colum in range(colums):\n",
    "        if matrix[row][colum]==1:\n",
    "            size = regionsize(matrix,row,colum)\n",
    "            maxregionsize = max(size, maxregionsize)\n",
    "print(maxregionsize)"
   ]
  },
  {
   "cell_type": "markdown",
   "metadata": {},
   "source": [
    "#3Beautiful Pairs\n",
    "https://www.hackerrank.com/challenges/beautiful-pairs/problem"
   ]
  },
  {
   "cell_type": "code",
   "execution_count": null,
   "metadata": {
    "collapsed": true
   },
   "outputs": [],
   "source": [
    "import sys\n",
    "num_elements = sys.stdin.readline()\n",
    "a  = [int(y) for y in sys.stdin.readline().split()]\n",
    "b = [int(z) for z in sys.stdin.readline().split()]\n",
    "count = 0\n",
    "i=0\n",
    "\n",
    "while i<int(num_elements):\n",
    "    for k in range(len(b)):\n",
    "        if b[k]==a[i]:\n",
    "            del b[k]\n",
    "            count = count+1\n",
    "            break\n",
    "    i = i+1\n",
    "            \n",
    "if len(b)==0:\n",
    "    count = count-1\n",
    "else:\n",
    "    count = count+1\n",
    "print(count)"
   ]
  },
  {
   "cell_type": "markdown",
   "metadata": {},
   "source": [
    "# Sherlock and The Beast\n",
    "https://www.hackerrank.com/challenges/sherlock-and-the-beast/problem"
   ]
  },
  {
   "cell_type": "code",
   "execution_count": null,
   "metadata": {
    "collapsed": true
   },
   "outputs": [],
   "source": [
    "t = int(input().strip())\n",
    "for a0 in range(t):\n",
    "    n = int(input().strip())\n",
    "    x = n//3\n",
    "    while (n- x*3)%5!=0 & x>=0:\n",
    "        x = x-1\n",
    "    if x<0:\n",
    "        print(-1)\n",
    "    else:\n",
    "        n2=3*x\n",
    "        list1 = []\n",
    "        for i in range(n2):\n",
    "            list1.append(5)\n",
    "        for j in range(n-n2):\n",
    "            list1.append(3)\n",
    "        print(''.join(str(y) for y in list1))"
   ]
  },
  {
   "cell_type": "markdown",
   "metadata": {},
   "source": [
    "# Goodland Electricity\n",
    "https://www.hackerrank.com/challenges/pylons"
   ]
  },
  {
   "cell_type": "code",
   "execution_count": null,
   "metadata": {
    "collapsed": true
   },
   "outputs": [],
   "source": [
    "import sys\n",
    "[n,k]= [int(x) for x in sys.stdin.readline().split()]\n",
    "lis = [int(x) for x in sys.stdin.readline().split()]\n",
    "count = 0\n",
    "i=0 \n",
    "j=0\n",
    "lantern=0\n",
    "abort = False\n",
    "while i <n:\n",
    "    j = i+k-1\n",
    "    if j>n-1:\n",
    "        j=n-1\n",
    "    while(lis[j]==0)&(j>=lantern):\n",
    "        j=j-1\n",
    "    if j<lantern:\n",
    "        print(-1)\n",
    "        abort = True\n",
    "        break\n",
    "    else:\n",
    "        i = j+k\n",
    "        count = count+1\n",
    "        lantern = j +1\n",
    "\n",
    "if abort==False:\n",
    "    print(count)"
   ]
  },
  {
   "cell_type": "markdown",
   "metadata": {},
   "source": [
    "# Chief Hopper\n",
    "https://www.hackerrank.com/challenges/chief-hopper/problem"
   ]
  },
  {
   "cell_type": "code",
   "execution_count": null,
   "metadata": {
    "collapsed": true
   },
   "outputs": [],
   "source": [
    "import sys\n",
    "[num] =[int(x) for x in sys.stdin.readline().split()]\n",
    "h = [int(y) for y in sys.stdin.readline().split()]\n",
    "energy=0\n",
    "i=-1\n",
    "while i>=-num:\n",
    "    if (energy+h[i])%2==0:\n",
    "        energy=(energy+h[i])/2\n",
    "    else:\n",
    "        energy=(energy+h[i]+1)/2\n",
    "    i=i-1\n",
    "print(int(energy))"
   ]
  },
  {
   "cell_type": "markdown",
   "metadata": {},
   "source": [
    "# Binary Search Tree.\n",
    "Find kth smallest number in the tree. "
   ]
  },
  {
   "cell_type": "code",
   "execution_count": null,
   "metadata": {
    "collapsed": true
   },
   "outputs": [],
   "source": [
    "class parent(object):  # add Children to a node\n",
    "    def __init__(self):\n",
    "        self.right = None\n",
    "        self.left = None\n",
    "\n",
    "    def add_right(self, Child):\n",
    "        self.right = Child\n",
    "\n",
    "    def add_left(self, Child):\n",
    "        self.left = Child\n",
    "\n",
    "    def get_rightChild(self):\n",
    "        return self.right\n",
    "\n",
    "    def get_leftChild(self):\n",
    "        return self.left\n",
    "\n",
    "\n",
    "\n",
    "class binarytree(parent):\n",
    "    def __init__(self, list1):\n",
    "\n",
    "        self.numlist = list1\n",
    "        self.node_dictionary = {}\n",
    "        #s = parent()\n",
    "        #print(s) ?\n",
    "        for num in self.numlist:\n",
    "            s = parent()\n",
    "            self.node_dictionary[num] = s\n",
    "\n",
    "    def add_node(self):  # Add_node_to_the_tree\n",
    "\n",
    "        for k in self.numlist[1:]:  # Add all elements to the tree one by one. When adding tree, root is always assumed\n",
    "            root = self.numlist[0]  # to be first element in the given list.\n",
    "            notset = True\n",
    "            while notset:\n",
    "                if k > root:\n",
    "                    if self.node_dictionary[root].get_rightChild() == None:\n",
    "                        self.node_dictionary[root].add_right(k)\n",
    "                        notset = False\n",
    "                    else:\n",
    "                        root = self.node_dictionary[root].get_rightChild()\n",
    "                        \n",
    "                if k < root:\n",
    "                    if self.node_dictionary[root].get_leftChild() == None:\n",
    "                        self.node_dictionary[root].add_left(k)\n",
    "                        notset = False\n",
    "                    else:\n",
    "                        root = self.node_dictionary[root].get_leftChild()\n",
    "\n",
    "    def get_tree(self):\n",
    "        return self.node_dictionary\n",
    "givenlist = [6, 2, 5, 4, 8, 9, 3]\n",
    "s = binarytree(givenlist)\n",
    "s.add_node()\n",
    "nodedict = s.get_tree()\n",
    "#print(nodedict)\n",
    "\n",
    "def DFS(node, node_dict, counter):  # node is the top node of the left subtree.\n",
    "\n",
    "    counter += 1\n",
    "    # visitleft = [node]\n",
    "\n",
    "    for x in [node_dict[node].get_rightChild(), node_dict[node].get_leftChild()]:\n",
    "        \n",
    "        if x != None:\n",
    "            counter += DFS(x, node_dict, 0)\n",
    "\n",
    "    return counter\n",
    "\n",
    "\n",
    "def Findsmall(k, givenlist, nodedict, root):\n",
    "    top = nodedict[root].get_leftChild()\n",
    "    if top in nodedict:\n",
    "        N = DFS(top, nodedict, 0)\n",
    "    else:\n",
    "        N = 0\n",
    "    if k == N + 1:\n",
    "        print(root)\n",
    "        #return (root)\n",
    "    if k > N + 1:\n",
    "        k = k - (N + 1)\n",
    "        root = nodedict[root].get_rightChild()\n",
    "\n",
    "        Findsmall(k, givenlist, nodedict, root)\n",
    "    else:\n",
    "        root = nodedict[root].get_leftChild()\n",
    "\n",
    "        Findsmall(k, givenlist, nodedict, root)"
   ]
  },
  {
   "cell_type": "markdown",
   "metadata": {},
   "source": [
    "# Cut the Tree\n",
    "Given a tree, sperates it into two trees by cutting one edge. Each node of the tree contains a value. Let E1 and E2 be the sums of values of all nodes in tree 1 and tree 2. Find a cut which minimizes the absolute value of (E1-E2).\n",
    "Sample Input: \n",
    "6\n",
    "100 200 100 500 100 600\n",
    "1 2\n",
    "2 3\n",
    "2 5\n",
    "4 5\n",
    "5 6\n",
    "Lines below the second line denote edges between edges between different points. \n",
    "\n",
    "Note: The following code only assumes that the input of values of nodes only has one line. "
   ]
  },
  {
   "cell_type": "code",
   "execution_count": null,
   "metadata": {
    "collapsed": true
   },
   "outputs": [],
   "source": [
    "# Only applied for the case that only has input of a single line. \n",
    "import sys\n",
    "import copy\n",
    "n = int(input().strip())\n",
    "value_of_vertex = [int(x) for x in sys.stdin.readline().strip(' ').split()]\n",
    "#print(value_of_vertex)\n",
    "def DFS(vertex,ad,visit,summ):\n",
    "    summ += value_of_vertex[vertex]\n",
    "    visit.append(vertex)\n",
    "    for sub_vertex in ad[vertex]:\n",
    "        if sub_vertex not in visit:\n",
    "            summ = summ + DFS(sub_vertex,ad,visit,0)\n",
    "    \n",
    "    return summ      \n",
    "Ad = {i:[] for i in range(n)}\n",
    "for line in range(n-1):\n",
    "    u,v = [int(x) for x in sys.stdin.readline().strip(' ').split()]\n",
    "    Ad[u-1].append(v-1)\n",
    "    Ad[v-1].append(u-1)\n",
    "#print(Ad)  \n",
    "D = []\n",
    "cut = []\n",
    "#print(DFS(0,Ad,[],0))\n",
    "for point1 in range(n):\n",
    "    for point2 in Ad[point1]:\n",
    "        Ad_copy = Ad\n",
    "        if [point2,point1] not in cut:\n",
    "             \n",
    "            Ad_copy = copy.deepcopy(Ad)\n",
    "            visit1 = []\n",
    "            visit2 = []\n",
    "            Ad_copy[point1].remove(point2)\n",
    "            Ad_copy[point2].remove(point1)\n",
    "            #print(Ad_copy) \n",
    "            s1 = DFS(point1,Ad_copy,visit1,0)\n",
    "            s2 = DFS(point2,Ad_copy,visit2,0) \n",
    "            #print(s1,s2)\n",
    "            D.append(abs(s2-s1))\n",
    "            cut.append([point1,point2])\n",
    "\n",
    "#print(D)\n",
    "#print(cut)\n",
    "#print(DFS(0,Ad,[],0))\n",
    "print(min(D))"
   ]
  },
  {
   "cell_type": "markdown",
   "metadata": {},
   "source": [
    "# BFS\n",
    "Consider n given quires. For each quiry, we will need to find the shortest path from the given starting point to other nodes in the undirected graph. If there is no path exist, print -1.\n",
    "Input expamle:\n",
    "2\n",
    "4 2\n",
    "1 2\n",
    "1 3\n",
    "1\n",
    "3 1\n",
    "2 3\n",
    "2\n",
    "First line: number of quires. Then the next line describes number of nodes and edges. The lines following by the second one denote edges between each nodes unitil another quiry is given. "
   ]
  },
  {
   "cell_type": "code",
   "execution_count": null,
   "metadata": {
    "collapsed": true
   },
   "outputs": [],
   "source": [
    "import sys\n",
    "\n",
    "if __name__ == \"__main__\":\n",
    "    q = int(input().strip())\n",
    "    for a0 in range(q):\n",
    "        n, m = input().strip().split(' ')\n",
    "        n, m = [int(n), int(m)]\n",
    "        Adj = {}\n",
    "        Adj = {i:[] for i in range(1,n+1)}\n",
    "        for a1 in range(m):\n",
    "            u, v = input().strip().split(' ')\n",
    "            u, v = [int(u), int(v)]\n",
    "            Adj[u].append(v)\n",
    "            Adj[v].append(u)    \n",
    "        s = int(input().strip()) # starting point s for a single quiry\n",
    "        level = {}\n",
    "        frontier = [s]\n",
    "        k = 6\n",
    "        #visit = [s]\n",
    "        while frontier:\n",
    "            next_sequence = []\n",
    "            for u in frontier:\n",
    "                for v in Adj[u]:\n",
    "                    if v not in level and v!=s:\n",
    "                        level[v] = k\n",
    "                        next_sequence.append(v)\n",
    "            frontier = next_sequence\n",
    "            k += 6\n",
    "        \n",
    "        for node in range(1,n+1):\n",
    "            if node not in level and node!= s:\n",
    "                level[node] = -1\n",
    "        sd = sorted(level.items())\n",
    "        s = [m[1] for m in sd]\n",
    "        print(' '.join(map(str,s)))"
   ]
  },
  {
   "cell_type": "markdown",
   "metadata": {
    "collapsed": true
   },
   "source": [
    "# Minimum Loss \n",
    "-https://www.hackerrank.com/challenges/minimum-loss/problem"
   ]
  },
  {
   "cell_type": "code",
   "execution_count": null,
   "metadata": {
    "collapsed": true
   },
   "outputs": [],
   "source": [
    "#!/bin/python3\n",
    "\n",
    "import math\n",
    "import os\n",
    "import random\n",
    "import re\n",
    "import sys\n",
    "\n",
    "n = int(input().strip())\n",
    "numbers =  list(map(int,input().strip().split()))\n",
    "Dict_order = {}\n",
    "for i in range(n):\n",
    "    Dict_order[numbers[i]] = i\n",
    "Dic_sort =  sorted(Dict_order) # print sorted keys.\n",
    "loss = -10**10\n",
    "for i in range(n-1):\n",
    "    if Dict_order[Dic_sort[i]] > Dict_order[Dic_sort[i+1]] and Dic_sort[i] - Dic_sort[i+1]>loss:\n",
    "        loss = Dic_sort[i] - Dic_sort[i+1]\n",
    "print(-loss)\n",
    "    "
   ]
  },
  {
   "cell_type": "markdown",
   "metadata": {
    "collapsed": true
   },
   "source": [
    "https://www.hackerrank.com/challenges/greedy-florist/problem"
   ]
  },
  {
   "cell_type": "code",
   "execution_count": null,
   "metadata": {
    "collapsed": true
   },
   "outputs": [],
   "source": [
    "\n",
    "import math\n",
    "import os\n",
    "import random\n",
    "import re\n",
    "import sys\n",
    "\n",
    "# Complete the getMinimumCost function below.\n",
    "def getMinimumCost(k, c):\n",
    "    if k>=len(c):\n",
    "        return sum(c)\n",
    "    else:\n",
    "        c_sort = sorted(c,reverse = True)\n",
    "        #left = len(c) - k \n",
    "        summ = sum(c_sort[0:k])\n",
    "        curr = k\n",
    "        owned = 1\n",
    "        while curr <len(c):\n",
    "            summ += c_sort[curr]*(owned+1)\n",
    "            if (curr+1)%k == 0:\n",
    "                owned += 1\n",
    "            curr += 1\n",
    "    return summ\n",
    "        \n",
    "    \n",
    "\n",
    "if __name__ == '__main__':\n",
    "    fptr = open(os.environ['OUTPUT_PATH'], 'w')\n",
    "\n",
    "    nk = input().split()\n",
    "\n",
    "    n = int(nk[0])\n",
    "\n",
    "    k = int(nk[1])\n",
    "\n",
    "    c = list(map(int, input().rstrip().split()))\n",
    "\n",
    "    minimumCost = getMinimumCost(k, c)\n",
    "\n",
    "    fptr.write(str(minimumCost) + '\\n')\n",
    "\n",
    "    fptr.close()\n"
   ]
  },
  {
   "cell_type": "markdown",
   "metadata": {},
   "source": [
    "https://www.hackerrank.com/challenges/ctci-comparator-sorting/submissions/code/84741512"
   ]
  },
  {
   "cell_type": "code",
   "execution_count": null,
   "metadata": {
    "collapsed": true
   },
   "outputs": [],
   "source": [
    "from functools import cmp_to_key\n",
    "class Player:\n",
    "    def __init__(self, name, score):\n",
    "        self.name = name\n",
    "        self.score = score\n",
    "    def __repr__(self):\n",
    "        pass\n",
    "    def comparator(a, b):\n",
    "        val = b.score - a.score\n",
    "        if val == 0:\n",
    "            return -1 if a.name < b.name else 1\n",
    "        return val"
   ]
  },
  {
   "cell_type": "markdown",
   "metadata": {},
   "source": [
    "https://www.hackerrank.com/challenges/triple-sum/submissions/code/84565280"
   ]
  },
  {
   "cell_type": "code",
   "execution_count": null,
   "metadata": {
    "collapsed": true
   },
   "outputs": [],
   "source": [
    "import math\n",
    "import os\n",
    "import random\n",
    "import re\n",
    "import sys\n",
    "\n",
    "# Complete the triplets function below.\n",
    "def triplets(a, b, c):\n",
    "    a_sort = list(sorted(set(a)))\n",
    "    b_sort = list(sorted(set(b)))\n",
    "    c_sort = list(sorted(set(c)))\n",
    "    #Ways_from_a = 0\n",
    "    #Ways_from_c = 0 \n",
    "    i,j =0 ,0\n",
    "    k = 0\n",
    "    Total = 0\n",
    "    while  k < len(b_sort):\n",
    "        b = b_sort[k]\n",
    "        while i < len(a_sort) and a_sort[i]<=b:\n",
    "            #Ways_from_a += 1\n",
    "            i += 1\n",
    "        \n",
    "        while j < len(c_sort) and c_sort[j] <=  b:\n",
    "            #Ways_from_c += 1\n",
    "            j += 1\n",
    "        Total  +=  i*j\n",
    "        k += 1\n",
    "    return Total\n",
    "        \n",
    "           \n",
    "\n",
    "if __name__ == '__main__':\n",
    "    fptr = open(os.environ['OUTPUT_PATH'], 'w')\n",
    "\n",
    "    lenaLenbLenc = input().split()\n",
    "\n",
    "    lena = int(lenaLenbLenc[0])\n",
    "\n",
    "    lenb = int(lenaLenbLenc[1])\n",
    "\n",
    "    lenc = int(lenaLenbLenc[2])\n",
    "\n",
    "    arra = list(map(int, input().rstrip().split()))\n",
    "\n",
    "    arrb = list(map(int, input().rstrip().split()))\n",
    "\n",
    "    arrc = list(map(int, input().rstrip().split()))\n",
    "\n",
    "    ans = triplets(arra, arrb, arrc)\n",
    "\n",
    "    fptr.write(str(ans) + '\\n')\n",
    "\n",
    "    fptr.close()\n"
   ]
  },
  {
   "cell_type": "code",
   "execution_count": null,
   "metadata": {
    "collapsed": true
   },
   "outputs": [],
   "source": []
  },
  {
   "cell_type": "code",
   "execution_count": null,
   "metadata": {
    "collapsed": true
   },
   "outputs": [],
   "source": []
  }
 ],
 "metadata": {
  "kernelspec": {
   "display_name": "Python 3",
   "language": "python",
   "name": "python3"
  },
  "language_info": {
   "codemirror_mode": {
    "name": "ipython",
    "version": 3
   },
   "file_extension": ".py",
   "mimetype": "text/x-python",
   "name": "python",
   "nbconvert_exporter": "python",
   "pygments_lexer": "ipython3",
   "version": "3.6.1"
  }
 },
 "nbformat": 4,
 "nbformat_minor": 2
}
