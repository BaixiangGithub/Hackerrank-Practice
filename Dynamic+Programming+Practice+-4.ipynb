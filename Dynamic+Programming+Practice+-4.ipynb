{
 "cells": [
  {
   "cell_type": "markdown",
   "metadata": {},
   "source": [
    "# The Coin Change Problem from Hackerrank\n",
    "\n",
    "You have m types of coins available in infinite quantities where the value of each coin is given in the array \n",
    "C = [c0,c1,..,cm-1]. Can you determine the number of ways of making change for n units using the given types of coins? For example, if m = 4, and C = [8,3,1,2], we can make change for n = 3 units in three ways: {1,1,1}, {1,2} and {3}.\n",
    "\n",
    "Given n, m, and C, print the number of ways to make change for n units using any number of coins having the values given in C.\n",
    "\n",
    "Input Format:\n",
    "\n",
    "The first line contains two space-separated integers describing the respective values of n and m. \n",
    "The second line contains m space-separated integers describing the respective values of c0,c1,...,cm-1(the list of distinct coins available in infinite amounts).\n",
    "\n",
    "Output Format:\n",
    "\n",
    "Print a long integer denoting the number of ways we can get a sum of n from the given infinite supply of m types of coins.\n",
    "\n",
    "\n"
   ]
  },
  {
   "cell_type": "code",
   "execution_count": null,
   "metadata": {
    "collapsed": true
   },
   "outputs": [],
   "source": [
    "import sys\n",
    "n, m = input().strip().split(' ')\n",
    "n, m = [int(n), int(m)]\n",
    "c = list(map(int, input().strip().split(' ')))\n",
    "table = [[0 for y in range(m)] for y in range(n+1)]\n",
    "#table[i][j] denotes number of ways to get i using coins c0,c1...,cj\n",
    "for j in range(m):\n",
    "    table[0][j] = 1 # There is only one way to get 0 using coins we have. \n",
    "\n",
    "for i in range(1,n+1):\n",
    "    for j in range(0,m):\n",
    "        if j - 1 >= 0:\n",
    "            x_excludej = table[i][j-1] # Number of ways to get i using c0, c1,..,cj-1\n",
    "        else:\n",
    "            x_excludej = 0 # There is no way to get i from 0 coins. \n",
    "        if i - c[j] >= 0:\n",
    "            x_includej = table[i-c[j]][j] # Number of ways to get i using c0,c1..,cj\n",
    "        else:\n",
    "            x_includej = 0 # If the value of j+1th coin (cj) exceeds the current i, we cannot add cj to the list. \n",
    "        table[i][j] = x_excludej + x_includej \n",
    "print(table[n][m-1]) # Number of ways to use m coins (c0,...,cm-1) to get i=n. "
   ]
  },
  {
   "cell_type": "markdown",
   "metadata": {},
   "source": [
    "# Fair Cut from Hackerrank\n",
    "\n",
    "Li and Lu have n integers a1,a2,...,an that they want to divide fairly between the two of them. They decide that if Li gets integers with indices I={i1,i2,...,ik} (which implies that Lu gets integers with indices J={1,...,n}\\I),then the measure of unfairness of this division is:\n",
    "        \n",
    "                        f(I) = sum(|ai-aj|), for all i in I & j in J\n",
    "\n",
    "Find the minimum measure of unfairness that can be obtained with some division of the set of integers where Li gets exactly k integers.\n",
    "\n",
    "Input Format: First line denotes the respective values of n and k. \n",
    "The second line denotes n integers a1,a2,...,an."
   ]
  },
  {
   "cell_type": "code",
   "execution_count": null,
   "metadata": {
    "collapsed": true
   },
   "outputs": [],
   "source": [
    "import sys\n",
    "[n,k] = [int(x) for x in sys.stdin.readline().split()]\n",
    "x = [int(y) for y in sys.stdin.readline().split()]\n",
    "x = sorted(x)\n",
    "dp = [[float('inf') for i in range(0,n+1)] for j in range(0,n+1)]\n",
    "dp[0][0]=0\n",
    "for i in range(n):\n",
    "    for j in range(0,i+1):\n",
    "        if j >k or i-j>n-k:\n",
    "            continue\n",
    "        # if number of elements in Li and Lu exceeds required elements, just skip the current loop. \n",
    "        Li = dp[i][j] + x[i]*(i-j) - x[i]*(n-k-(i-j))\n",
    "        # When adding x[i] to Li, x[i] needs to be subtracted by all elements in Lu. Since x is in ascending order, \n",
    "        # we should add x[i]*(i-j),where i-j is the current number of elements in Lu. At the same time, x[i] needs to be\n",
    "        # subtracted by all future elements in Lu as well. Since the future elements in Lu are greater than \n",
    "        # x[i], we will need to add -x[i]*(n-k-{i-j})\n",
    "        Lu = dp[i][j] + x[i]*(j) - x[i]*(k-j)\n",
    "        # Same reason applies to the case of adding a[]\n",
    "        if dp[i+1][j]> Lu:\n",
    "            dp[i+1][j] = Lu\n",
    "       \n",
    "        if dp[i+1][j+1] > Li:\n",
    "            dp[i+1][j+1] = Li\n",
    "         # Since dp[i+1][j] and dp[i+1][j+1] can be also derived from dp[i][j-1] and dp[i+1][j+1],\n",
    "         # we use if statements to help to select minimum value of the current state.\n",
    "print(dp[n][k])"
   ]
  },
  {
   "cell_type": "markdown",
   "metadata": {},
   "source": [
    "Given two number n and an even number m, where n>=m. Find a sequence a of length n, such that a[i+1] >= 2*a[i], for i from [1,n-1]. Meanwhile, the maximum element in the sequence a cannot exceed m. How many of such sequences are there? "
   ]
  },
  {
   "cell_type": "code",
   "execution_count": 10,
   "metadata": {},
   "outputs": [
    {
     "data": {
      "text/plain": [
       "4"
      ]
     },
     "execution_count": 10,
     "metadata": {},
     "output_type": "execute_result"
    }
   ],
   "source": [
    "def Count(n,m):\n",
    "    C = [[0 for i in range (n+1)] for k in range(m+1)]\n",
    "    for row in range(m+1):\n",
    "        for column in range(n+1):\n",
    "            if row==0 or column==0 or column>row:\n",
    "                C[row][column] = 0\n",
    "            elif column == 1:\n",
    "                C[row][column] = row\n",
    "            else:\n",
    "                C[row][column] = C[int(row/2)][column-1] + C[row-1][column]\n",
    "    return C[m][n]\n",
    "Count(4,10)           \n",
    "    "
   ]
  },
  {
   "cell_type": "markdown",
   "metadata": {},
   "source": [
    "Given n dice each with m faces, numbered from 1 to m, find the number of ways to get sum X. X is the summation of values on each face when all the dice are thrown."
   ]
  },
  {
   "cell_type": "code",
   "execution_count": 36,
   "metadata": {},
   "outputs": [
    {
     "name": "stdout",
     "output_type": "stream",
     "text": [
      "2\n",
      "21\n"
     ]
    }
   ],
   "source": [
    "def Dice(n,m,x):\n",
    "    T = [ [0 for i in range(x+1)] for k in range(n+1) ] #T[n][x]\n",
    "    for j in range(1,m+1):\n",
    "        T[1][j] = 1\n",
    "    for N in range(2,n+1):\n",
    "        for X in range(1,x+1):\n",
    "            for d in range(1,min(m,X)+1):\n",
    "                if X>=N*m:\n",
    "                    T[N][X] = (X==N*m)\n",
    "                if N>=X:\n",
    "                    T[N][X] = (N==X)\n",
    "                else:\n",
    "                    T[N][X] += T[N-1][X-d]\n",
    "                    #print(T[N][X])\n",
    "    #return T\n",
    "    return T[n][x]\n",
    "\n",
    "print (Dice(2,2,3))\n",
    "print (Dice(3,6,8))\n"
   ]
  },
  {
   "cell_type": "markdown",
   "metadata": {
    "collapsed": true
   },
   "source": [
    "# Optimal Strategy for a game\n",
    "Consider a row of n coins of values v1 . . . vn, where n is even. We play a game against an opponent by alternating turns. In each turn, a player selects either the first or last coin from the row, removes it from the row permanently, and receives the value of the coin. Determine the maximum possible amount of money we can definitely win if we move first."
   ]
  },
  {
   "cell_type": "code",
   "execution_count": 7,
   "metadata": {},
   "outputs": [
    {
     "name": "stdout",
     "output_type": "stream",
     "text": [
      "22\n",
      "42\n"
     ]
    }
   ],
   "source": [
    "def optimal(v,n):\n",
    "    max_ij = [[0 for i in range(n)] for j in range(n)]\n",
    "    for i in range(n):\n",
    "        max_ij[i][i] = v[i]\n",
    "        if i<n-1:\n",
    "            max_ij[i][i+1] = max(v[i],v[i+1])\n",
    "            \n",
    "    for i in range(n-3,-1,-1):\n",
    "        for j in range(i+2,n):\n",
    "            part1 = v[i] + min(max_ij[i+2][j],max_ij[i+1][j-1])\n",
    "            part2 = v[j] + min(max_ij[i][j-2],max_ij[i+1][j-1])\n",
    "            max_ij[i][j] = max(part1,part2)\n",
    "    #print(max_ij)\n",
    "    return max_ij[0][n-1]\n",
    "\n",
    "print(optimal([8, 15, 3, 7],4))\n",
    "print(optimal([20, 30, 2, 2, 2, 10],6))         \n",
    "    "
   ]
  },
  {
   "cell_type": "markdown",
   "metadata": {},
   "source": [
    "Given a number n, count minimum steps to minimize it to 1 according to the following criteria:\n",
    "\n",
    "If n is divisible by 2 then we may reduce n to n/2.\n",
    "If n is divisible by 3 then you may reduce n to n/3.\n",
    "Decrement n by 1."
   ]
  },
  {
   "cell_type": "code",
   "execution_count": 2,
   "metadata": {},
   "outputs": [
    {
     "data": {
      "text/plain": [
       "7"
      ]
     },
     "execution_count": 2,
     "metadata": {},
     "output_type": "execute_result"
    }
   ],
   "source": [
    "def f(n,history):\n",
    "    if n==1:\n",
    "        return 0\n",
    "    if history[n]>-1:\n",
    "        return history[n]\n",
    "    r = f(n-1,history)+1\n",
    "    if n%3==0:\n",
    "        r = min(r,f(int(n/3),history)+1)\n",
    "    if n%2==0:\n",
    "        r = min(r,f(int(n/2),history)+1)\n",
    "    history[n]=r\n",
    "    return history[n]\n",
    "\n",
    "h = [-1 for i in range(101)]\n",
    "n = 100\n",
    "f(100,h)\n",
    "    "
   ]
  },
  {
   "cell_type": "markdown",
   "metadata": {},
   "source": [
    "# Maximum sum of a path in a Right Number Triangle\n",
    "Given a right triangle of numbers, find the largest of the sum of numbers that appear on the paths starting from the top towards the base, so that on each path the next number is located directly below or below-and-one-place-to-the-right."
   ]
  },
  {
   "cell_type": "code",
   "execution_count": 2,
   "metadata": {},
   "outputs": [
    {
     "name": "stdout",
     "output_type": "stream",
     "text": [
      "9\n",
      "10\n"
     ]
    }
   ],
   "source": [
    "def sum_triangle(triangle,rows,columns):\n",
    "    for i in range(rows-2,-1,-1):\n",
    "        for j in range(0,i+1):\n",
    "            triangle[i][j] = triangle[i][j] + max(triangle[i+1][j],triangle[i+1][j+1])\n",
    "    return triangle[0][0]\n",
    "T = [[1],[1,2],[4,1,2],[2,3,1,1]]\n",
    "print(sum_triangle(T,4,4))\n",
    "T = [[2],[4,1],[1,2,7]]\n",
    "print(sum_triangle(T,3,3))"
   ]
  },
  {
   "cell_type": "code",
   "execution_count": null,
   "metadata": {
    "collapsed": true
   },
   "outputs": [],
   "source": []
  }
 ],
 "metadata": {
  "kernelspec": {
   "display_name": "Python 3",
   "language": "python",
   "name": "python3"
  },
  "language_info": {
   "codemirror_mode": {
    "name": "ipython",
    "version": 3
   },
   "file_extension": ".py",
   "mimetype": "text/x-python",
   "name": "python",
   "nbconvert_exporter": "python",
   "pygments_lexer": "ipython3",
   "version": "3.6.1"
  }
 },
 "nbformat": 4,
 "nbformat_minor": 2
}
