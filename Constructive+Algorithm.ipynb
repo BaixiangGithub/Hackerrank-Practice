{
 "cells": [
  {
   "cell_type": "markdown",
   "metadata": {},
   "source": [
    "# Gaming Array\n",
    "Andy loves playing games. He wants to play a game with his little brother, Bob, using an array,A, of n distinct integers. The rules are as follows:\n",
    "\n",
    "Bob always plays first and the two players move in alternating turns.\n",
    "In a single move, a player chooses the maximum element currently present in the array and removes it as well as all the other elements to its right. For example, if A = [2,3,5,4,1], then it becomes A = [2,3] after the first move because we remove the maximum element (i.e., ) and all elements to its right.\n",
    "The modifications made to the array during each turn are permanent, so the next player continues the game with the remaining array. The first player who is unable to make a move loses the game.\n",
    "Andy and Bob play g games. Given the initial array for each game, can you find and print the name of the winner on a new line? If Andy wins, print ANDY; if Bob wins, print BOB."
   ]
  },
  {
   "cell_type": "code",
   "execution_count": null,
   "metadata": {
    "collapsed": true
   },
   "outputs": [],
   "source": [
    "import sys\n",
    "numgames = int(input().strip())\n",
    "\n",
    "for i in range(numgames):\n",
    "    count=0\n",
    "    n = int(input().strip())\n",
    "    game = [int(x) for x in sys.stdin.readline().split()]\n",
    "    maxg=0\n",
    "    #go through the list and figure out how many deletions we need to use.\n",
    "    for k in range(n):\n",
    "        if game[k]>maxg:\n",
    "            count=count+1\n",
    "            maxg=game[k]\n",
    "            \n",
    "    if count%2==0:\n",
    "        print('ANDY')\n",
    "    else:\n",
    "        print('BOB')"
   ]
  },
  {
   "cell_type": "markdown",
   "metadata": {},
   "source": [
    "# New year Chaos\n",
    "\n",
    "\n",
    "https://www.hackerrank.com/challenges/new-year-chaos/problem"
   ]
  },
  {
   "cell_type": "code",
   "execution_count": null,
   "metadata": {
    "collapsed": true
   },
   "outputs": [],
   "source": [
    "#!/bin/python3\n",
    "import sys\n",
    "#buble sort \n",
    "def minswap(n,numlist):\n",
    "    for i in range(n):\n",
    "        if numlist[i]-i-1 > 2:\n",
    "            return(\"Too chaotic\")\n",
    "    j = n - 2\n",
    "    count = 0\n",
    "    while j >= 0:\n",
    "        if numlist[j]-j-1 > 0:\n",
    "            numlist[j],numlist[j+1] = numlist[j+1],numlist[j]\n",
    "            count += 1\n",
    "            j+=1\n",
    "        else:\n",
    "            j-=1\n",
    "    return(count)\n",
    "            \n",
    "m = int(input().strip())\n",
    "for k in range(m):\n",
    "    length = int(input().strip())\n",
    "    q = [int(x) for x in sys.stdin.readline().split()]\n",
    "    \n",
    "    print(minswap(length,q))\n",
    "    "
   ]
  }
 ],
 "metadata": {
  "kernelspec": {
   "display_name": "Python 3",
   "language": "python",
   "name": "python3"
  },
  "language_info": {
   "codemirror_mode": {
    "name": "ipython",
    "version": 3
   },
   "file_extension": ".py",
   "mimetype": "text/x-python",
   "name": "python",
   "nbconvert_exporter": "python",
   "pygments_lexer": "ipython3",
   "version": "3.6.1"
  }
 },
 "nbformat": 4,
 "nbformat_minor": 2
}
