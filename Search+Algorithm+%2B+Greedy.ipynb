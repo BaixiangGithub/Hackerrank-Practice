{
 "cells": [
  {
   "cell_type": "markdown",
   "metadata": {},
   "source": [
    "# Hackerland Radio Transmitters\n",
    "Hackerland is a one-dimensional city with n houses, where each house i is located at some xi on the x-axis. The Mayor wants to install radio transmitters on the roofs of the city's houses. Each transmitter has a range,k , meaning it can transmit a signal to all houses <=k units of distance away.\n",
    "\n",
    "Given a map of Hackerland and the value of k, can you find and print the minimum number of transmitters needed to cover every house in the city? (Every house must be covered by at least one transmitter) Each transmitter must be installed on top of an existing house.\n",
    "https://www.hackerrank.com/challenges/hackerland-radio-transmitters/problem"
   ]
  },
  {
   "cell_type": "code",
   "execution_count": null,
   "metadata": {
    "collapsed": true
   },
   "outputs": [],
   "source": [
    "import sys\n",
    "n,k = input().strip().split(' ')\n",
    "n,k = [int(n),int(k)]\n",
    "x = [int(x_temp) for x_temp in input().strip().split(' ')]\n",
    "xs = sorted(x)\n",
    "\n",
    "i=0\n",
    "numtrans =0\n",
    "\n",
    "xs.append(0)\n",
    "while(i < n):\n",
    "    numtrans = numtrans+1\n",
    "    loc = xs[i]+k\n",
    "    \n",
    "    while(i<n)&(xs[i]<=loc):\n",
    "        i = i+1\n",
    "    i = i-1\n",
    "    loc = xs[i]+k\n",
    "    while(i<n)&(xs[i]<=loc):\n",
    "        i=i+1\n",
    "\n",
    "print(numtrans)\n",
    "       \n",
    "        \n",
    "\t\n",
    "       \n",
    "            \n",
    "            \n",
    "            \n",
    "            \n",
    "            \n",
    "        \n",
    "\n"
   ]
  },
  {
   "cell_type": "markdown",
   "metadata": {},
   "source": [
    "# Pairs\n",
    "Given  integers, count the number of pairs of integers whose difference is K"
   ]
  },
  {
   "cell_type": "code",
   "execution_count": null,
   "metadata": {
    "collapsed": true
   },
   "outputs": [],
   "source": [
    "import sys\n",
    "\n",
    "def pairs(a,k):\n",
    "    # a is the list of numbers and k is the difference value\n",
    "    Increase= [int(x+k) for x in a]\n",
    "    answer = 0\n",
    "    answer = len(set(Increase)&set(a))\n",
    "            \n",
    "    return answer\n",
    "\n",
    "[num,k] = [int(k) for k in sys.stdin.readline().split()]\n",
    "a = [int(x) for x in sys.stdin.readline().split()]\n",
    "print(pairs(a,k))"
   ]
  },
  {
   "cell_type": "markdown",
   "metadata": {},
   "source": [
    "# Connected Cells in a Grid\n",
    "https://www.hackerrank.com/challenges/connected-cell-in-a-grid"
   ]
  },
  {
   "cell_type": "code",
   "execution_count": null,
   "metadata": {
    "collapsed": true
   },
   "outputs": [],
   "source": [
    "import sys\n",
    "rows = int(input().strip())\n",
    "colums = int(input().strip())\n",
    "matrix = [[int(x) for x in sys.stdin.readline().split()] for i in range(rows)]\n",
    "maxregionsize = 0\n",
    "def regionsize(M,row,colum):\n",
    "    currentsize = 1\n",
    "    if row<0 or colum<0 or row>rows-1 or colum>colums-1:\n",
    "        return 0\n",
    "    if M[row][colum] == 0:\n",
    "        return 0\n",
    "    elif M[row][colum]==1:\n",
    "        M[row][colum]=0\n",
    "        for r in range(row-1,row+2):\n",
    "            for c in range(colum-1,colum+2):\n",
    "                currentsize += regionsize(M,r,c)\n",
    "        return currentsize\n",
    "                \n",
    "\n",
    "for row in range(rows):\n",
    "    for colum in range(colums):\n",
    "        if matrix[row][colum]==1:\n",
    "            size = regionsize(matrix,row,colum)\n",
    "            maxregionsize = max(size, maxregionsize)\n",
    "print(maxregionsize)\n",
    "                \n",
    "            "
   ]
  },
  {
   "cell_type": "markdown",
   "metadata": {},
   "source": [
    "# Ice Cream Palor\n",
    "https://www.hackerrank.com/challenges/icecream-parlor"
   ]
  },
  {
   "cell_type": "code",
   "execution_count": null,
   "metadata": {
    "collapsed": true
   },
   "outputs": [],
   "source": [
    "import sys\n",
    "t = int(sys.stdin.readline())\n",
    "for i in range(t):\n",
    "    money =  int(sys.stdin.readline())\n",
    "    numflavor = int(sys.stdin.readline())\n",
    "    flavorID =[int(x) for x in sys.stdin.readline().split()]\n",
    "    find = False\n",
    "    k = 0\n",
    "    while (k in range(numflavor)) & (find == False):\n",
    "        for j in range(k+1,numflavor):\n",
    "            if flavorID[k]+flavorID[j]==money:\n",
    "                print(str(k+1)+' '+str(j+1))\n",
    "                find = True\n",
    "                break\n",
    "        k = k+1"
   ]
  },
  {
   "cell_type": "markdown",
   "metadata": {},
   "source": [
    "# Beautiful Pairs\n",
    "https://www.hackerrank.com/challenges/beautiful-pairs/problem"
   ]
  },
  {
   "cell_type": "code",
   "execution_count": null,
   "metadata": {
    "collapsed": true
   },
   "outputs": [],
   "source": [
    "import sys\n",
    "num_elements = sys.stdin.readline()\n",
    "a  = [int(y) for y in sys.stdin.readline().split()]\n",
    "b = [int(z) for z in sys.stdin.readline().split()]\n",
    "count = 0\n",
    "i=0\n",
    "\n",
    "while i<int(num_elements):\n",
    "    for k in range(len(b)):\n",
    "        if b[k]==a[i]:\n",
    "            del b[k]\n",
    "            count = count+1\n",
    "            break\n",
    "    i = i+1\n",
    "            \n",
    "if len(b)==0:\n",
    "    count = count-1\n",
    "else:\n",
    "    count = count+1\n",
    "print(count)"
   ]
  },
  {
   "cell_type": "markdown",
   "metadata": {},
   "source": [
    "# Sherlock and The Beast\n",
    "https://www.hackerrank.com/challenges/sherlock-and-the-beast/problem"
   ]
  },
  {
   "cell_type": "code",
   "execution_count": null,
   "metadata": {
    "collapsed": true
   },
   "outputs": [],
   "source": [
    "\n",
    "t = int(input().strip())\n",
    "for a0 in range(t):\n",
    "    n = int(input().strip())\n",
    "    x = n//3\n",
    "    while (n- x*3)%5!=0 & x>=0:\n",
    "        x = x-1\n",
    "    if x<0:\n",
    "        print(-1)\n",
    "    else:\n",
    "        n2=3*x\n",
    "        list1 = []\n",
    "        for i in range(n2):\n",
    "            list1.append(5)\n",
    "        for j in range(n-n2):\n",
    "            list1.append(3)\n",
    "        print(''.join(str(y) for y in list1))"
   ]
  },
  {
   "cell_type": "markdown",
   "metadata": {},
   "source": [
    "# Goodland Electricity\n",
    "https://www.hackerrank.com/challenges/pylons"
   ]
  },
  {
   "cell_type": "code",
   "execution_count": null,
   "metadata": {
    "collapsed": true
   },
   "outputs": [],
   "source": [
    "import sys\n",
    "[n,k]= [int(x) for x in sys.stdin.readline().split()]\n",
    "lis = [int(x) for x in sys.stdin.readline().split()]\n",
    "count = 0\n",
    "i=0 \n",
    "j=0\n",
    "lantern=0\n",
    "abort = False\n",
    "while i <n:\n",
    "    j = i+k-1\n",
    "    if j>n-1:\n",
    "        j=n-1\n",
    "    while(lis[j]==0)&(j>=lantern):\n",
    "        j=j-1\n",
    "    if j<lantern:\n",
    "        print(-1)\n",
    "        abort = True\n",
    "        break\n",
    "    else:\n",
    "        i = j+k\n",
    "        count = count+1\n",
    "        lantern = j +1\n",
    "\n",
    "if abort==False:\n",
    "    print(count)"
   ]
  },
  {
   "cell_type": "markdown",
   "metadata": {},
   "source": [
    "# Chief Hopper\n",
    "https://www.hackerrank.com/challenges/chief-hopper/problem"
   ]
  },
  {
   "cell_type": "code",
   "execution_count": null,
   "metadata": {
    "collapsed": true
   },
   "outputs": [],
   "source": [
    "import sys\n",
    "[num] =[int(x) for x in sys.stdin.readline().split()]\n",
    "h = [int(y) for y in sys.stdin.readline().split()]\n",
    "energy=0\n",
    "i=-1\n",
    "while i>=-num:\n",
    "    if (energy+h[i])%2==0:\n",
    "        energy=(energy+h[i])/2\n",
    "    else:\n",
    "        energy=(energy+h[i]+1)/2\n",
    "    i=i-1\n",
    "print(int(energy))\n",
    "    "
   ]
  }
 ],
 "metadata": {
  "kernelspec": {
   "display_name": "Python 3",
   "language": "python",
   "name": "python3"
  },
  "language_info": {
   "codemirror_mode": {
    "name": "ipython",
    "version": 3
   },
   "file_extension": ".py",
   "mimetype": "text/x-python",
   "name": "python",
   "nbconvert_exporter": "python",
   "pygments_lexer": "ipython3",
   "version": "3.6.1"
  }
 },
 "nbformat": 4,
 "nbformat_minor": 2
}
