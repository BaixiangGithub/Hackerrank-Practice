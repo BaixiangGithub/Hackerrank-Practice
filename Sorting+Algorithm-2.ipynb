{
 "cells": [
  {
   "cell_type": "markdown",
   "metadata": {
    "collapsed": true
   },
   "source": [
    "# Big Sorting\n",
    "\n",
    "Consider an array of numeric strings 'unsorted' , where each string is a positive number with anywhere from 1 to 10^6 digits. Sort the array's elements in non-decreasing (i.e., ascending) order of their real-world integer values and print each element of the sorted array on a new line.\n",
    "\n",
    "Input format:\n",
    "The first line contains an integer n, denoting the number of strings in 'unsorted'\n",
    "Each of the n lines contain a string of integers.\n",
    "\n",
    "Link of the problem in Hackerrank: https://www.hackerrank.com/challenges/big-sorting/problem"
   ]
  },
  {
   "cell_type": "code",
   "execution_count": null,
   "metadata": {
    "collapsed": true
   },
   "outputs": [],
   "source": [
    "import sys\n",
    "n = int(input().strip())\n",
    "numlist = {} # Dictionary 'numlist' stores integer of strings in terms of number of digits.\n",
    "m=0\n",
    "for m in range(n):\n",
    "    unsorted_t = input().strip()\n",
    "    #unsorted.append(unsorted_t)\n",
    "    length = len(unsorted_t)\n",
    "    if length not in numlist:\n",
    "        numlist[length]=[]\n",
    "        \n",
    "    numlist[length].append(unsorted_t)\n",
    "\n",
    "for key in sorted(numlist):\n",
    "    for value in sorted(numlist[key]): # Sort the 'numlist' of every number of digits before the print statement.  \n",
    "        print(value)"
   ]
  },
  {
   "cell_type": "markdown",
   "metadata": {},
   "source": [
    "# Closest Numbers\n",
    "Sorting is often useful as the first step in many different tasks. The most common task is to make finding things easier, but there are other uses, as well.\n",
    "\n",
    "Challenge\n",
    "Given a list of unsorted integers, A={a1,a2,...,aN}, can you find the pair of elements that have the smallest absolute difference between them? If there are multiple pairs, find them all.\n",
    "\n",
    "Input Format \n",
    "The first line of input contains a single integer,N,representing the length of array A. \n",
    "In the second line, there are  space-separated integers, a1,a2,...,aN, representing the elements of array A.\n",
    "\n"
   ]
  },
  {
   "cell_type": "code",
   "execution_count": null,
   "metadata": {
    "collapsed": true
   },
   "outputs": [],
   "source": [
    "import sys\n",
    "num =sys.stdin.readline().strip()\n",
    "n = int(num)\n",
    "numbers = [int(x) for x in sys.stdin.readline().split()]\n",
    "list1 = [] \n",
    "numbers = sorted(numbers)\n",
    "dif = 10*(numbers[1]-numbers[0])\n",
    "for i in range(n-1):\n",
    "        j=i+1\n",
    "        if (numbers[j]-numbers[i])<dif:\n",
    "            list1=[]\n",
    "            dif= numbers[j]-numbers[i]\n",
    "            list1.append(numbers[i])\n",
    "            list1.append(numbers[j])\n",
    "            \n",
    "        elif (numbers[j]-numbers[i])==dif:\n",
    "            list1.append(numbers[i])\n",
    "            list1.append(numbers[j])\n",
    "        # Delete all elements in list1 if the new pair has a smaller differnce than the previous one. \n",
    "        # If the differences are the same, then add the new pair. \n",
    "print(\" \".join(str(x) for x in list1))"
   ]
  },
  {
   "cell_type": "markdown",
   "metadata": {},
   "source": [
    "# Lily's Homework\n",
    "\n",
    "Whenever George asks Lily to hang out, she's busy doing homework. George wants to help her finish it faster, but he's in over his head! Can you help George understand Lily's homework so she can hang out with him?\n",
    "\n",
    "Consider an array of n distinct integers,A= [a0,a1,...,an-1]. George can swap any two elements of the array any number of times. An array is beautiful if the sum of |ai-ai-1| among 0<i<n is minimal possible (after, possibly, performing some swaps).\n",
    "\n",
    "Given the array A, find and print the minimum number of swaps that should be performed in order to make the array beautiful.\n",
    "\n",
    "Input Format:\n",
    "The first line contains a single integer,n, denoting the number of elements in the array A. \n",
    "The second line contains n space-separated integers describing the respective distinct values of a0,a1,...,an-1.\n",
    "\n",
    "Here is a link of the problem in Hackerran: https://www.hackerrank.com/challenges/lilys-homework\n",
    "\n",
    "\n",
    "\n"
   ]
  },
  {
   "cell_type": "code",
   "execution_count": null,
   "metadata": {
    "collapsed": true
   },
   "outputs": [],
   "source": [
    "def solution(a):\n",
    "    m = {} # m is a dictionary that records the positions of each element in A. \n",
    "    for i in range(len(a)):\n",
    "        m[a[i]] = i \n",
    "        \n",
    "    sorted_a = sorted(a)\n",
    "    ret = 0\n",
    "    \n",
    "    for i in range(len(a)):\n",
    "        if a[i] != sorted_a[i]:\n",
    "            ret +=1\n",
    "            ind_to_swap = m[ sorted_a[i] ] #'ind_to_swap' is the position of 'sorted_a[i]' in the original list a. \n",
    "            a[i],a[ind_to_swap] = sorted_a[i],a[i] \n",
    "    return ret\n",
    "\n",
    "raw_input()\n",
    "a = [int(i) for i in raw_input().split(' ')]\n",
    "\n",
    "asc=solution(list(a))\n",
    "desc=solution(list(reversed(a)))\n",
    "print min(asc,desc)"
   ]
  },
  {
   "cell_type": "markdown",
   "metadata": {},
   "source": [
    "# Quick Sort\n",
    "Given a sequence {an}. Apply 'quick sort' to sort {an} st. it is in the ascending order. "
   ]
  },
  {
   "cell_type": "code",
   "execution_count": 5,
   "metadata": {},
   "outputs": [
    {
     "name": "stdout",
     "output_type": "stream",
     "text": [
      "[1, 2, 3, 4, 5, 6]\n",
      "[1, 2, 3, 5, 6]\n"
     ]
    }
   ],
   "source": [
    "def partialsort(a,low,pivot):\n",
    "    i = -1\n",
    "    for k in range(low,pivot):\n",
    "        if a[k] < a[pivot]:\n",
    "            i += 1\n",
    "            a[k],a[i] = a[i],a[k]\n",
    "    i += 1\n",
    "    a[i],a[pivot] = a[pivot],a[i]\n",
    "    return i\n",
    "\n",
    "def quicksort(a,low,pivot):\n",
    "    if pivot> low:\n",
    "        x = partialsort(a,low,pivot)\n",
    "        quicksort(a,x+1,pivot)\n",
    "        quicksort(a,low,x-1)\n",
    "\n",
    "a = [1,3,2,4,5,6]\n",
    "quicksort(a,0,5)\n",
    "print(a)\n",
    "\n",
    "s = [2,1,5,3,6]\n",
    "quicksort(s,0,4)\n",
    "print(s)\n",
    "    "
   ]
  },
  {
   "cell_type": "markdown",
   "metadata": {
    "collapsed": true
   },
   "source": [
    "# Insertion Sort\n",
    "Give a sequence {an}, apply 'insertion sort' st. {an} is in the descending order."
   ]
  },
  {
   "cell_type": "code",
   "execution_count": 10,
   "metadata": {},
   "outputs": [
    {
     "data": {
      "text/plain": [
       "[5, 4, 3, 2, 1]"
      ]
     },
     "execution_count": 10,
     "metadata": {},
     "output_type": "execute_result"
    }
   ],
   "source": [
    "def Insertion_Sort(a,n):\n",
    "    for i in range(1,n):\n",
    "        if a[i]>a[i-1]:\n",
    "            k = a[i]\n",
    "            i -=1\n",
    "            while (i>=0) & (a[i]<k):\n",
    "                a[i+1] = a[i]\n",
    "                i -= 1\n",
    "            a[i+1] = k\n",
    "        \n",
    "        #print(a)\n",
    "    return a\n",
    "Insertion_Sort([1,4,2,5,3],5)\n",
    "            \n",
    "            "
   ]
  },
  {
   "cell_type": "markdown",
   "metadata": {
    "collapsed": true
   },
   "source": [
    "# The Full Counting Sort\n",
    "In this challenge you need to print the data that accompanies each integer in a list. In addition, if two strings have the same integers, you need to print the strings in their original order. Hence, your sorting algorithm should be stable, i.e. the original order should be maintained for equal elements.\n",
    "\n",
    "Insertion Sort and the simple version of Quicksort were stable, but the faster in-place version of Quicksort was not (since it scrambled around elements while sorting).\n",
    "\n",
    "In cases where you care about the original order, it is important to use a stable sorting algorithm. In this challenge, you will use counting sort to sort a list while keeping the order of the strings (with the accompanying integer) preserved.\n",
    "\n",
    "Challenge \n",
    "In the previous challenge, you created a \"helper array\" that contains information about the starting position of each element in a sorted array. Can you use this array to help you create a sorted array of the original list?\n",
    "\n",
    "Hint: You can go through the original array to access the strings. You can then use your helper array to help determine where to place those strings in the sorted array. Be careful about being one off.\n",
    "\n",
    "Details and a Twist \n",
    "You will be given a list that contains both integers and strings. Can you print the strings in order of their accompanying integers? If the integers for two strings are equal, ensure that they are print in the order they appeared in the original list.\n",
    "\n",
    "The Twist - Your clients just called with an update. They don't want you to print the first half of the original array. Instead, they want you to print a dash for any element from the first half.\n",
    "\n",
    "https://www.hackerrank.com/challenges/countingsort4/problem\n"
   ]
  },
  {
   "cell_type": "code",
   "execution_count": null,
   "metadata": {
    "collapsed": true
   },
   "outputs": [],
   "source": [
    "import sys\n",
    "N = int(input().strip())\n",
    "count = [0 for k in range(0,100)]\n",
    "stringlist = [ sys.stdin.readline().split() for i in range(N)]\n",
    "output = [0 for k in range(N)]\n",
    "for i in range(0,int(N/2)):\n",
    "    stringlist[i][1] = '-'\n",
    "for x in stringlist:\n",
    "    index = int(x[0])\n",
    "    count[index] += 1\n",
    "for m in range(1,100):\n",
    "    count[m] = count[m-1]+count[m]\n",
    "copy_count = count\n",
    "#print(count)\n",
    "for i in range(99,0,-1):\n",
    "    #print(i)\n",
    "    count[i] = count[i-1]\n",
    "count[0]=0\n",
    "#print(count)\n",
    "#start = 0\n",
    "for x in stringlist:\n",
    "    index = count[int(x[0])]\n",
    "    output[index] = x[1]\n",
    "    count[int(x[0])] += 1\n",
    "    \n",
    "        \n",
    "        \n",
    "print(' '.join(str(e) for e in output))"
   ]
  }
 ],
 "metadata": {
  "kernelspec": {
   "display_name": "Python 3",
   "language": "python",
   "name": "python3"
  },
  "language_info": {
   "codemirror_mode": {
    "name": "ipython",
    "version": 3
   },
   "file_extension": ".py",
   "mimetype": "text/x-python",
   "name": "python",
   "nbconvert_exporter": "python",
   "pygments_lexer": "ipython3",
   "version": "3.6.1"
  }
 },
 "nbformat": 4,
 "nbformat_minor": 2
}
