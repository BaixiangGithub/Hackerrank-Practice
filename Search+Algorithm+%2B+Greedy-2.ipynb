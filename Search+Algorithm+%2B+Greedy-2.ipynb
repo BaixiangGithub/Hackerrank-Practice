{
 "cells": [
  {
   "cell_type": "markdown",
   "metadata": {},
   "source": [
    "# Hackerland Radio Transmitters\n",
    "Hackerland is a one-dimensional city with n houses, where each house i is located at some xi on the x-axis. The Mayor wants to install radio transmitters on the roofs of the city's houses. Each transmitter has a range,k , meaning it can transmit a signal to all houses <=k units of distance away.\n",
    "\n",
    "Given a map of Hackerland and the value of k, can you find and print the minimum number of transmitters needed to cover every house in the city? (Every house must be covered by at least one transmitter) Each transmitter must be installed on top of an existing house.\n",
    "https://www.hackerrank.com/challenges/hackerland-radio-transmitters/problem"
   ]
  },
  {
   "cell_type": "code",
   "execution_count": null,
   "metadata": {
    "collapsed": true
   },
   "outputs": [],
   "source": [
    "import sys\n",
    "n,k = input().strip().split(' ')\n",
    "n,k = [int(n),int(k)]\n",
    "x = [int(x_temp) for x_temp in input().strip().split(' ')]\n",
    "xs = sorted(x)\n",
    "\n",
    "i=0\n",
    "numtrans =0\n",
    "\n",
    "xs.append(0)\n",
    "while(i < n):\n",
    "    numtrans = numtrans+1\n",
    "    loc = xs[i]+k\n",
    "    \n",
    "    while(i<n)&(xs[i]<=loc):\n",
    "        i = i+1\n",
    "    i = i-1\n",
    "    loc = xs[i]+k\n",
    "    while(i<n)&(xs[i]<=loc):\n",
    "        i=i+1\n",
    "\n",
    "print(numtrans)\n",
    "       \n",
    "        \n",
    "\t\n",
    "       \n",
    "            \n",
    "            \n",
    "            \n",
    "            \n",
    "            \n",
    "        \n",
    "\n"
   ]
  },
  {
   "cell_type": "markdown",
   "metadata": {},
   "source": [
    "# Pairs\n",
    "Given  integers, count the number of pairs of integers whose difference is K"
   ]
  },
  {
   "cell_type": "code",
   "execution_count": null,
   "metadata": {
    "collapsed": true
   },
   "outputs": [],
   "source": [
    "import sys\n",
    "\n",
    "def pairs(a,k):\n",
    "    # a is the list of numbers and k is the difference value\n",
    "    Increase= [int(x+k) for x in a]\n",
    "    answer = 0\n",
    "    answer = len(set(Increase)&set(a))\n",
    "            \n",
    "    return answer\n",
    "\n",
    "[num,k] = [int(k) for k in sys.stdin.readline().split()]\n",
    "a = [int(x) for x in sys.stdin.readline().split()]\n",
    "print(pairs(a,k))"
   ]
  },
  {
   "cell_type": "markdown",
   "metadata": {},
   "source": [
    "# Connected Cells in a Grid\n",
    "https://www.hackerrank.com/challenges/connected-cell-in-a-grid"
   ]
  },
  {
   "cell_type": "code",
   "execution_count": null,
   "metadata": {
    "collapsed": true
   },
   "outputs": [],
   "source": [
    "import sys\n",
    "rows = int(input().strip())\n",
    "colums = int(input().strip())\n",
    "matrix = [[int(x) for x in sys.stdin.readline().split()] for i in range(rows)]\n",
    "maxregionsize = 0\n",
    "def regionsize(M,row,colum):\n",
    "    currentsize = 1\n",
    "    if row<0 or colum<0 or row>rows-1 or colum>colums-1:\n",
    "        return 0\n",
    "    if M[row][colum] == 0:\n",
    "        return 0\n",
    "    elif M[row][colum]==1:\n",
    "        M[row][colum]=0\n",
    "        for r in range(row-1,row+2):\n",
    "            for c in range(colum-1,colum+2):\n",
    "                currentsize += regionsize(M,r,c)\n",
    "        return currentsize\n",
    "                \n",
    "\n",
    "for row in range(rows):\n",
    "    for colum in range(colums):\n",
    "        if matrix[row][colum]==1:\n",
    "            size = regionsize(matrix,row,colum)\n",
    "            maxregionsize = max(size, maxregionsize)\n",
    "print(maxregionsize)\n",
    "                \n",
    "            "
   ]
  },
  {
   "cell_type": "markdown",
   "metadata": {},
   "source": [
    "# Ice Cream Palor\n",
    "https://www.hackerrank.com/challenges/icecream-parlor"
   ]
  },
  {
   "cell_type": "code",
   "execution_count": null,
   "metadata": {
    "collapsed": true
   },
   "outputs": [],
   "source": [
    "import sys\n",
    "t = int(sys.stdin.readline())\n",
    "for i in range(t):\n",
    "    money =  int(sys.stdin.readline())\n",
    "    numflavor = int(sys.stdin.readline())\n",
    "    flavorID =[int(x) for x in sys.stdin.readline().split()]\n",
    "    find = False\n",
    "    k = 0\n",
    "    while (k in range(numflavor)) & (find == False):\n",
    "        for j in range(k+1,numflavor):\n",
    "            if flavorID[k]+flavorID[j]==money:\n",
    "                print(str(k+1)+' '+str(j+1))\n",
    "                find = True\n",
    "                break\n",
    "        k = k+1"
   ]
  },
  {
   "cell_type": "markdown",
   "metadata": {},
   "source": [
    "# Beautiful Pairs\n",
    "https://www.hackerrank.com/challenges/beautiful-pairs/problem"
   ]
  },
  {
   "cell_type": "code",
   "execution_count": null,
   "metadata": {
    "collapsed": true
   },
   "outputs": [],
   "source": [
    "import sys\n",
    "num_elements = sys.stdin.readline()\n",
    "a  = [int(y) for y in sys.stdin.readline().split()]\n",
    "b = [int(z) for z in sys.stdin.readline().split()]\n",
    "count = 0\n",
    "i=0\n",
    "\n",
    "while i<int(num_elements):\n",
    "    for k in range(len(b)):\n",
    "        if b[k]==a[i]:\n",
    "            del b[k]\n",
    "            count = count+1\n",
    "            break\n",
    "    i = i+1\n",
    "            \n",
    "if len(b)==0:\n",
    "    count = count-1\n",
    "else:\n",
    "    count = count+1\n",
    "print(count)"
   ]
  },
  {
   "cell_type": "markdown",
   "metadata": {},
   "source": [
    "# Sherlock and The Beast\n",
    "https://www.hackerrank.com/challenges/sherlock-and-the-beast/problem"
   ]
  },
  {
   "cell_type": "code",
   "execution_count": null,
   "metadata": {
    "collapsed": true
   },
   "outputs": [],
   "source": [
    "\n",
    "t = int(input().strip())\n",
    "for a0 in range(t):\n",
    "    n = int(input().strip())\n",
    "    x = n//3\n",
    "    while (n- x*3)%5!=0 & x>=0:\n",
    "        x = x-1\n",
    "    if x<0:\n",
    "        print(-1)\n",
    "    else:\n",
    "        n2=3*x\n",
    "        list1 = []\n",
    "        for i in range(n2):\n",
    "            list1.append(5)\n",
    "        for j in range(n-n2):\n",
    "            list1.append(3)\n",
    "        print(''.join(str(y) for y in list1))"
   ]
  },
  {
   "cell_type": "markdown",
   "metadata": {},
   "source": [
    "# Goodland Electricity\n",
    "https://www.hackerrank.com/challenges/pylons"
   ]
  },
  {
   "cell_type": "code",
   "execution_count": null,
   "metadata": {
    "collapsed": true
   },
   "outputs": [],
   "source": [
    "import sys\n",
    "[n,k]= [int(x) for x in sys.stdin.readline().split()]\n",
    "lis = [int(x) for x in sys.stdin.readline().split()]\n",
    "count = 0\n",
    "i=0 \n",
    "j=0\n",
    "lantern=0\n",
    "abort = False\n",
    "while i <n:\n",
    "    j = i+k-1\n",
    "    if j>n-1:\n",
    "        j=n-1\n",
    "    while(lis[j]==0)&(j>=lantern):\n",
    "        j=j-1\n",
    "    if j<lantern:\n",
    "        print(-1)\n",
    "        abort = True\n",
    "        break\n",
    "    else:\n",
    "        i = j+k\n",
    "        count = count+1\n",
    "        lantern = j +1\n",
    "\n",
    "if abort==False:\n",
    "    print(count)"
   ]
  },
  {
   "cell_type": "markdown",
   "metadata": {},
   "source": [
    "# Chief Hopper\n",
    "https://www.hackerrank.com/challenges/chief-hopper/problem"
   ]
  },
  {
   "cell_type": "code",
   "execution_count": null,
   "metadata": {
    "collapsed": true
   },
   "outputs": [],
   "source": [
    "import sys\n",
    "[num] =[int(x) for x in sys.stdin.readline().split()]\n",
    "h = [int(y) for y in sys.stdin.readline().split()]\n",
    "energy=0\n",
    "i=-1\n",
    "while i>=-num:\n",
    "    if (energy+h[i])%2==0:\n",
    "        energy=(energy+h[i])/2\n",
    "    else:\n",
    "        energy=(energy+h[i]+1)/2\n",
    "    i=i-1\n",
    "print(int(energy))\n",
    "    "
   ]
  },
  {
   "cell_type": "markdown",
   "metadata": {},
   "source": [
    "# Binary Search Tree.\n",
    "Find kth smallest number in the tree. "
   ]
  },
  {
   "cell_type": "code",
   "execution_count": null,
   "metadata": {
    "collapsed": true
   },
   "outputs": [],
   "source": [
    "class parent(object):  # add Children to a node\n",
    "    def __init__(self):\n",
    "        self.right = None\n",
    "        self.left = None\n",
    "\n",
    "    def add_right(self, Child):\n",
    "        self.right = Child\n",
    "\n",
    "    def add_left(self, Child):\n",
    "        self.left = Child\n",
    "\n",
    "    def get_rightChild(self):\n",
    "        return self.right\n",
    "\n",
    "    def get_leftChild(self):\n",
    "        return self.left\n",
    "\n",
    "\n",
    "\n",
    "class binarytree(parent):\n",
    "    def __init__(self, list1):\n",
    "\n",
    "        self.numlist = list1\n",
    "        self.node_dictionary = {}\n",
    "        #s = parent()\n",
    "        #print(s) ?\n",
    "        for num in self.numlist:\n",
    "            s = parent()\n",
    "            self.node_dictionary[num] = s\n",
    "\n",
    "    def add_node(self):  # Add_node_to_the_tree\n",
    "\n",
    "        for k in self.numlist[1:]:  # Add all elements to the tree one by one. When adding tree, root is always assumed\n",
    "            root = self.numlist[0]  # to be first element in the given list.\n",
    "            notset = True\n",
    "            while notset:\n",
    "                if k > root:\n",
    "                    if self.node_dictionary[root].get_rightChild() == None:\n",
    "                        self.node_dictionary[root].add_right(k)\n",
    "                        notset = False\n",
    "                    else:\n",
    "                        root = self.node_dictionary[root].get_rightChild()\n",
    "                        \n",
    "                if k < root:\n",
    "                    if self.node_dictionary[root].get_leftChild() == None:\n",
    "                        self.node_dictionary[root].add_left(k)\n",
    "                        notset = False\n",
    "                    else:\n",
    "                        root = self.node_dictionary[root].get_leftChild()\n",
    "\n",
    "    def get_tree(self):\n",
    "        return self.node_dictionary\n",
    "givenlist = [6, 2, 5, 4, 8, 9, 3]\n",
    "s = binarytree(givenlist)\n",
    "s.add_node()\n",
    "nodedict = s.get_tree()\n",
    "#print(nodedict)\n",
    "\n",
    "def DFS(node, node_dict, counter):  # node is the top node of the left subtree.\n",
    "\n",
    "    counter += 1\n",
    "    # visitleft = [node]\n",
    "\n",
    "    for x in [node_dict[node].get_rightChild(), node_dict[node].get_leftChild()]:\n",
    "        \n",
    "        if x != None:\n",
    "            counter += DFS(x, node_dict, 0)\n",
    "\n",
    "    return counter\n",
    "\n",
    "\n",
    "def Findsmall(k, givenlist, nodedict, root):\n",
    "    top = nodedict[root].get_leftChild()\n",
    "    if top in nodedict:\n",
    "        N = DFS(top, nodedict, 0)\n",
    "    else:\n",
    "        N = 0\n",
    "    if k == N + 1:\n",
    "        print(root)\n",
    "        #return (root)\n",
    "    if k > N + 1:\n",
    "        k = k - (N + 1)\n",
    "        root = nodedict[root].get_rightChild()\n",
    "\n",
    "        Findsmall(k, givenlist, nodedict, root)\n",
    "    else:\n",
    "        root = nodedict[root].get_leftChild()\n",
    "\n",
    "        Findsmall(k, givenlist, nodedict, root)\n",
    "\n",
    "\n",
    "\n"
   ]
  },
  {
   "cell_type": "markdown",
   "metadata": {},
   "source": [
    "# Cut the Tree\n",
    "Given a tree, sperates it into two trees by cutting one edge. Each node of the tree contains a value. Let E1 and E2 be the sums of values of all nodes in tree 1 and tree 2. Find a cut which minimizes the absolute value of (E1-E2).\n",
    "Sample Input: \n",
    "6\n",
    "100 200 100 500 100 600\n",
    "1 2\n",
    "2 3\n",
    "2 5\n",
    "4 5\n",
    "5 6\n",
    "Lines below the second line denote edges between edges between different points. \n",
    "\n",
    "Note: The following code only assumes that the input of values of nodes only has one line. "
   ]
  },
  {
   "cell_type": "code",
   "execution_count": null,
   "metadata": {
    "collapsed": true
   },
   "outputs": [],
   "source": [
    "# Only applied for the case that only has input of a single line. \n",
    "import sys\n",
    "import copy\n",
    "n = int(input().strip())\n",
    "value_of_vertex = [int(x) for x in sys.stdin.readline().strip(' ').split()]\n",
    "#print(value_of_vertex)\n",
    "def DFS(vertex,ad,visit,summ):\n",
    "    summ += value_of_vertex[vertex]\n",
    "    visit.append(vertex)\n",
    "    for sub_vertex in ad[vertex]:\n",
    "        if sub_vertex not in visit:\n",
    "            summ = summ + DFS(sub_vertex,ad,visit,0)\n",
    "    \n",
    "    return summ      \n",
    "Ad = {i:[] for i in range(n)}\n",
    "for line in range(n-1):\n",
    "    u,v = [int(x) for x in sys.stdin.readline().strip(' ').split()]\n",
    "    Ad[u-1].append(v-1)\n",
    "    Ad[v-1].append(u-1)\n",
    "#print(Ad)  \n",
    "D = []\n",
    "cut = []\n",
    "#print(DFS(0,Ad,[],0))\n",
    "for point1 in range(n):\n",
    "    for point2 in Ad[point1]:\n",
    "        Ad_copy = Ad\n",
    "        if [point2,point1] not in cut:\n",
    "             \n",
    "            Ad_copy = copy.deepcopy(Ad)\n",
    "            visit1 = []\n",
    "            visit2 = []\n",
    "            Ad_copy[point1].remove(point2)\n",
    "            Ad_copy[point2].remove(point1)\n",
    "            #print(Ad_copy) \n",
    "            s1 = DFS(point1,Ad_copy,visit1,0)\n",
    "            s2 = DFS(point2,Ad_copy,visit2,0) \n",
    "            #print(s1,s2)\n",
    "            D.append(abs(s2-s1))\n",
    "            cut.append([point1,point2])\n",
    "\n",
    "#print(D)\n",
    "#print(cut)\n",
    "#print(DFS(0,Ad,[],0))\n",
    "print(min(D))"
   ]
  },
  {
   "cell_type": "raw",
   "metadata": {},
   "source": [
    "# Bredth First Search: Shortes Reach\n",
    "Consider n given quires. For each quiry, we will need to find the shortest path from the given starting point to other nodes in the undirected graph. If there is no path exist, print -1.\n",
    "Input expamle:\n",
    "2\n",
    "4 2\n",
    "1 2\n",
    "1 3\n",
    "1\n",
    "3 1\n",
    "2 3\n",
    "2\n",
    "First line: number of quires. Then the next line describes number of nodes and edges. The lines following by the second on denote edges between each nodes unitil another quiry is given. "
   ]
  },
  {
   "cell_type": "code",
   "execution_count": null,
   "metadata": {
    "collapsed": true
   },
   "outputs": [],
   "source": [
    "import sys\n",
    "\n",
    "if __name__ == \"__main__\":\n",
    "    q = int(input().strip())\n",
    "    for a0 in range(q):\n",
    "        n, m = input().strip().split(' ')\n",
    "        n, m = [int(n), int(m)]\n",
    "        Adj = {}\n",
    "        Adj = {i:[] for i in range(1,n+1)}\n",
    "        for a1 in range(m):\n",
    "            u, v = input().strip().split(' ')\n",
    "            u, v = [int(u), int(v)]\n",
    "            Adj[u].append(v)\n",
    "            Adj[v].append(u)\n",
    "            \n",
    "        s = int(input().strip()) # starting point s for a single quiry\n",
    "        level = {}\n",
    "        frontier = [s]\n",
    "        k = 6\n",
    "        #visit = [s]\n",
    "        while frontier:\n",
    "            next_sequence = []\n",
    "            for u in frontier:\n",
    "                for v in Adj[u]:\n",
    "                    if v not in level and v!=s:\n",
    "                        level[v] = k\n",
    "                        next_sequence.append(v)\n",
    "            frontier = next_sequence\n",
    "            k += 6\n",
    "        \n",
    "        for node in range(1,n+1):\n",
    "            if node not in level and node!= s:\n",
    "                level[node] = -1\n",
    "        sd = sorted(level.items())\n",
    "        s = [m[1] for m in sd]\n",
    "        print(' '.join(map(str,s)))"
   ]
  },
  {
   "cell_type": "markdown",
   "metadata": {},
   "source": [
    "# Candies\n",
    "\n",
    "https://www.hackerrank.com/challenges/candies/problem"
   ]
  },
  {
   "cell_type": "code",
   "execution_count": null,
   "metadata": {
    "collapsed": true
   },
   "outputs": [],
   "source": [
    "#!/bin/python3\n",
    "import sys\n",
    "n = int(input().strip())\n",
    "rating = []\n",
    "for i in range(n):\n",
    "    x = int(input().strip())\n",
    "    rating.append(x)\n",
    "# Store Children's scores\n",
    "\n",
    "lefttorightcandies = [0]*len(rating) # Adding candies from left to right\n",
    "lefttorightcandies[0] = 1\n",
    "for k in range(1,n):\n",
    "    if rating[k]>rating[k-1]:\n",
    "        lefttorightcandies[k] = lefttorightcandies[k-1]+1\n",
    "    else:\n",
    "        lefttorightcandies[k] = 1\n",
    "righttoleftcandies = [0]*n # Adding candies from right to left\n",
    "righttoleftcandies[-1] = 1\n",
    "summ = 0\n",
    "for k in range(n-2,-1,-1):\n",
    "    if rating[k] > rating[k+1]:\n",
    "        righttoleftcandies[k] = righttoleftcandies[k+1]+1\n",
    "    else:\n",
    "        righttoleftcandies[k]=1\n",
    "    summ += max(righttoleftcandies[k],lefttorightcandies[k])\n",
    "\n",
    "print(summ+max(righttoleftcandies[-1],lefttorightcandies[-1]))\n"
   ]
  },
  {
   "cell_type": "markdown",
   "metadata": {},
   "source": []
  },
  {
   "cell_type": "code",
   "execution_count": null,
   "metadata": {
    "collapsed": true
   },
   "outputs": [],
   "source": []
  }
 ],
 "metadata": {
  "kernelspec": {
   "display_name": "Python 3",
   "language": "python",
   "name": "python3"
  },
  "language_info": {
   "codemirror_mode": {
    "name": "ipython",
    "version": 3
   },
   "file_extension": ".py",
   "mimetype": "text/x-python",
   "name": "python",
   "nbconvert_exporter": "python",
   "pygments_lexer": "ipython3",
   "version": "3.6.1"
  }
 },
 "nbformat": 4,
 "nbformat_minor": 2
}
